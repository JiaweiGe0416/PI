{
 "cells": [
  {
   "cell_type": "code",
   "execution_count": 6,
   "id": "a85b7917",
   "metadata": {},
   "outputs": [],
   "source": [
    "import cvxpy as cp\n",
    "import numpy as np\n",
    "from matplotlib import pyplot as plt\n",
    "import seaborn as sns\n",
    "import matplotlib.patches as patches\n",
    "import matplotlib.lines as lines"
   ]
  },
  {
   "cell_type": "code",
   "execution_count": 7,
   "id": "b275a761",
   "metadata": {},
   "outputs": [],
   "source": [
    "# Solve optimization problem in Liang's paper\n",
    "def sdpDual(K, Y):\n",
    "    n = Y.shape[0]\n",
    "    y = Y[:,0]\n",
    "    hB = cp.Variable((n, n), symmetric=True)\n",
    "    constraints = [hB >> 0]\n",
    "    constraints += [K[i, :] @ hB @ K[i, :] >= cp.square(y[i]) for i in range(n)]\n",
    "    prob = cp.Problem(cp.Minimize(cp.trace(K @ hB)), constraints)\n",
    "    prob.solve()\n",
    "    print(\"Optimal value\", prob.value)\n",
    "    return hB.value"
   ]
  },
  {
   "cell_type": "code",
   "execution_count": 8,
   "id": "3f5dfd3c",
   "metadata": {},
   "outputs": [],
   "source": [
    "# Plot the results\n",
    "def my_plot(X_t,Y_t,M_t,V_t,ylim,legend_loc='upper right'):\n",
    "    # (X_t,Y_t): test data\n",
    "    # M_t: mean estimator m(X_t)\n",
    "    # V_t: variance estimator f(X_t)\n",
    "    # The prediction interval is [M_t-sqrt{V_t},M+sqrt{V_t}]\n",
    "    \n",
    "    X_sort = np.sort(X_t, axis=0)\n",
    "    X_sort_indices = np.argsort(X_t, axis=0)\n",
    "    Y_sort = Y_t[X_sort_indices[:, 0]]\n",
    "    lower_CI = M_t-np.sqrt(V_t)\n",
    "    lower_CI_sort = lower_CI[X_sort_indices[:, 0]]\n",
    "    upper_CI = M_t+np.sqrt(V_t)\n",
    "    upper_CI_sort = upper_CI[X_sort_indices[:, 0]]\n",
    "    mean = M_t[X_sort_indices[:, 0]]\n",
    "    \n",
    "    sns.set()\n",
    "    sns.set_style(\"darkgrid\")\n",
    "    sns.set_context(\"notebook\", font_scale=1.5, rc={\"lines.linewidth\": 2.5})\n",
    "    palette = sns.color_palette(\"Blues_r\", 4)\n",
    "    sns.scatterplot(x=X_sort[:,0], y=Y_sort[:,0], color=palette[0], edgecolor='w', linewidth=0.5)\n",
    "    plt.fill_between(X_sort[:,0], lower_CI_sort[:,0], upper_CI_sort[:,0], color=palette[1], alpha=0.4)\n",
    "    plt.plot(X_sort, lower_CI_sort, color=palette[2], lw=2,alpha=0.6)\n",
    "    plt.plot(X_sort, upper_CI_sort, color=palette[2], lw=2,alpha=0.6)\n",
    "    plt.plot(X_sort, mean, '-', color='orange', linewidth=2,label=\"Mean\")\n",
    "#    plt.plot(X_sort, mean, color=palette[3], linewidth=2, label=\"Mean\")\n",
    "    plt.xlabel(\"X\")\n",
    "    plt.ylabel(\"Y\")\n",
    "    plt.ylim(ylim)\n",
    "    legend_elements = [\n",
    "    patches.Rectangle((0, 0), 1, 1, lw=0, color=palette[1], alpha=0.4, label=\"PI\"),\n",
    "    lines.Line2D([0], [0], color='orange', lw=2, label=\"Mean\")]\n",
    "    plt.legend(handles=legend_elements, loc=legend_loc)\n",
    "#     plt.legend(loc='upper right')\n",
    "    plt.show()\n",
    "    # plt.savefig(\"plot.png\", dpi=300)\n",
    "    coverage = (np.power(Y_t[:,0]-M_t[:,0], 2) <= V_t[:,0]).mean()\n",
    "    bandwidth = np.mean(V_t[:,0])\n",
    "    print(\"The overall coverage is\", coverage)\n",
    "    print(\"The mean bandwidth for testing data is\", bandwidth)"
   ]
  },
  {
   "cell_type": "code",
   "execution_count": 9,
   "id": "9c567755",
   "metadata": {},
   "outputs": [],
   "source": [
    "# Test 1 (known mean case: m_0=0)\n",
    "\n",
    "# Generate i.i.d data\n",
    "np.random.seed(5)\n",
    "n_pre = 1000\n",
    "n_opt = 100\n",
    "n_adj = 100\n",
    "n_t = 1000\n",
    "n = n_pre+n_opt+n_adj+n_t\n",
    "\n",
    "X = np.random.uniform(-1, 1, n).reshape(-1, 1)\n",
    "Y = np.sqrt(1+25*np.power(X, 4))  * np.random.uniform(-1, 1, n).reshape(-1, 1)\n",
    "\n",
    "X_opt = X[0:n_pre+n_opt,:].reshape(-1, 1)\n",
    "Y_opt = Y[0:n_pre+n_opt,:].reshape(-1, 1)\n",
    "\n",
    "X_adj = X[n_pre+n_opt:n_pre+n_opt+n_adj,:].reshape(-1, 1)\n",
    "Y_adj = Y[n_pre+n_opt:n_pre+n_opt+n_adj,:].reshape(-1, 1)\n",
    "\n",
    "\n",
    "X_t = X[n_pre+n_opt+n_adj:,:].reshape(-1, 1)\n",
    "Y_t = Y[n_pre+n_opt+n_adj:,:].reshape(-1, 1)"
   ]
  },
  {
   "cell_type": "code",
   "execution_count": null,
   "id": "73932673",
   "metadata": {},
   "outputs": [],
   "source": [
    "# Liang's method with polynomial kernel\n",
    "degree = 3\n",
    "X_inner_prod = X_opt @ X_opt.T\n",
    "K = np.power(1 + X_inner_prod, degree)\n",
    "output = sdpDual(K, Y_opt)"
   ]
  },
  {
   "cell_type": "code",
   "execution_count": null,
   "id": "21bea2f2",
   "metadata": {},
   "outputs": [],
   "source": [
    "# learn delta\n",
    "K_adj = np.power(X_adj @ X_opt.T+1,degree)\n",
    "shape_adj = K_adj @ output @ K_adj.T\n",
    "shape_adj = shape_adj.diagonal()\n",
    "K_t = np.power(X_t @ X_opt.T+1,degree)\n",
    "shape_t = K_t @ output @ K_t.T\n",
    "shape_t = shape_t.diagonal()\n",
    "\n",
    "alpha = 0.05\n",
    "delta = -1\n",
    "Delta = 0\n",
    "prop = 0.5\n",
    "prop_outside = (np.power(Y_adj, 2)[:,0] > (1 + delta) * shape_adj).mean()\n",
    "while prop_outside > (0.75 * alpha) and delta != Delta:\n",
    "    delta = prop * delta + (1 - prop) * Delta\n",
    "    prop_outside = (np.power(Y_adj, 2)[:,0] > (1 + delta) * shape_adj).mean()\n",
    "    \n",
    "print(delta)"
   ]
  },
  {
   "cell_type": "code",
   "execution_count": null,
   "id": "db669dfc",
   "metadata": {},
   "outputs": [],
   "source": [
    "M_t = np.zeros(n_t) \n",
    "M_t = M_t.reshape(-1,1)\n",
    "V_alpha_t = (1 + delta) * shape_t\n",
    "V_alpha_t = V_alpha_t.reshape(-1,1)\n",
    "my_plot(X_t,Y_t,M_t,V_alpha_t,[-7,7])"
   ]
  }
 ],
 "metadata": {
  "kernelspec": {
   "display_name": "Python 3",
   "language": "python",
   "name": "python3"
  },
  "language_info": {
   "codemirror_mode": {
    "name": "ipython",
    "version": 3
   },
   "file_extension": ".py",
   "mimetype": "text/x-python",
   "name": "python",
   "nbconvert_exporter": "python",
   "pygments_lexer": "ipython3",
   "version": "3.8.8"
  }
 },
 "nbformat": 4,
 "nbformat_minor": 5
}
