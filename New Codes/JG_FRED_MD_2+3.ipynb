{
 "cells": [
  {
   "cell_type": "code",
   "execution_count": 1,
   "id": "06d1906d",
   "metadata": {},
   "outputs": [],
   "source": [
    "from all_functions import * \n",
    "from sklearn.decomposition import PCA\n",
    "import copy\n",
    "from scipy.linalg import eigh\n",
    "from sklearn.linear_model import LinearRegression"
   ]
  },
  {
   "cell_type": "code",
   "execution_count": 2,
   "id": "6bdf64c9",
   "metadata": {},
   "outputs": [],
   "source": [
    "\"\"\"\n",
    "This new functions takes the following inputs: \n",
    "\n",
    "    name -- the name of the Y variables, should be within double quote\n",
    "    ncomps -- number of principal components to be used \n",
    "    error_comps -- number of error components to be used \n",
    "    outlier_remove -- a logical variable indicating whether to remove outliers \n",
    "    \n",
    "This function select the Y variable based on the input name, and set X as \n",
    "all other variables. \n",
    "\n",
    "\"\"\"\n",
    "def FRED_MD_DATA_PREP(name, ncomps = 5, error_comps = 5, outlier_remove = False):\n",
    "   \n",
    "    \"\"\"\n",
    "    Read the entire data\n",
    "    \"\"\"\n",
    "    \n",
    "    data = pd.read_csv('Transformed_na_removed.csv')\n",
    "    \n",
    "    \"\"\"\n",
    "    Set the Y axis to be the column of given name in the input, \n",
    "    remove that column and set the rest of the matrix as X. \n",
    "    Finally, do PCA on the X matrix. \n",
    "    \n",
    "    \"\"\"\n",
    "    \n",
    "    Y_axis = name\n",
    "    X = copy.deepcopy(data)\n",
    "    X.pop(name)\n",
    "    X = X.to_numpy()\n",
    "    n_data = X.shape[0]\n",
    "    Y = data[name].to_numpy()\n",
    "    W, V = eigh(X @ X.T)\n",
    "    F_hat = np.sqrt(n_data) * V[:,-ncomps:] # select last ncomps columns of V\n",
    "    B_hat = (1/n_data) * (X.T @ F_hat)\n",
    "    \n",
    "    if error_comps > 0:\n",
    "        \n",
    "        \"\"\"\n",
    "        First we project out the space of principal components\n",
    "        to estimate the idiosyncratic errors. \n",
    "        \"\"\"\n",
    "        \n",
    "#         loadings = X.T @ X_pca @ np.linalg.inv(X_pca.T @ X_pca) # OLS of X on X.pca\n",
    "#         errors = X - X_pca @ loadings.T # OLS residuals\n",
    "        U_hat = X - (F_hat @ B_hat.T)\n",
    "        model = LinearRegression()\n",
    "        model.fit(F_hat, Y)\n",
    "        Y_u = Y - model.predict(F_hat)\n",
    "        \n",
    "        \n",
    "        \"\"\"\n",
    "            Next we apply conditional SURE independent screening to select the \n",
    "            idiosyncratic components.\n",
    "        \"\"\"\n",
    "       \n",
    "        def cor_cal(x):\n",
    "            return np.corrcoef(x, Y_u)[0, 1]\n",
    "        \n",
    "        cor_vec = np.apply_along_axis(cor_cal, 0, U_hat)\n",
    "        idx = np.argsort(-np.abs(cor_vec))\n",
    "        errors_to_add = U_hat[:,idx[:error_comps]]\n",
    "        Data = np.hstack([F_hat, errors_to_add, Y.reshape(-1, 1)])\n",
    "    \n",
    "    else:\n",
    "        Data = np.hstack([F_hat, Y.reshape(-1, 1)])\n",
    "    \n",
    "    if outlier_remove:\n",
    "        Q1 = np.percentile(Y, 25, method = 'midpoint')\n",
    "        Q3 = np.percentile(Y, 75, method = 'midpoint')\n",
    "        IQR = Q3 - Q1\n",
    "        upper=Q3+1.5*IQR\n",
    "        upper_array=np.array(Y<=upper)\n",
    "        lower=Q1-1.5*IQR\n",
    "        lower_array=np.array(Y>=lower)\n",
    "        index_keep = upper_array & lower_array\n",
    "        Data = Data[index_keep[:,0].tolist(),:]\n",
    "        print(\"The number of data being removed is \", Y.shape[0]-Data.shape[0])\n",
    "        \n",
    "    return Data, Y_axis"
   ]
  },
  {
   "cell_type": "code",
   "execution_count": 4,
   "id": "c2b39dad",
   "metadata": {},
   "outputs": [],
   "source": [
    "def UTOPIA_FRED_MD_MULTIVARIATE(Data, shrink = True):\n",
    "    train_idx = int(Data.shape[0] * 0.8)\n",
    "    train_data, test_data = np.split(Data, [train_idx])\n",
    "#     X_pre = train_data[:,:-1]\n",
    "#     Y_pre = train_data[:,-1].reshape(-1,1)\n",
    "#     X_opt = train_data[:,:-1]\n",
    "#     Y_opt = train_data[:,-1].reshape(-1,1)\n",
    "#     X_adj = train_data[:,:-1]\n",
    "#     Y_adj = train_data[:,-1].reshape(-1,1)\n",
    "#     X_t = test_data[:,:-1]\n",
    "#     Y_t = test_data[:,-1].reshape(-1,1)\n",
    "    \n",
    "    X_pre = train_data[:300,:-1]\n",
    "    Y_pre = train_data[:300,-1].reshape(-1,1)\n",
    "    X_opt = train_data[:300,:-1]\n",
    "    Y_opt = train_data[:300,-1].reshape(-1,1)\n",
    "    X_adj = train_data[300:,:-1]\n",
    "    Y_adj = train_data[300:,-1].reshape(-1,1)\n",
    "    X_t = test_data[:,:-1]\n",
    "    Y_t = test_data[:,-1].reshape(-1,1)\n",
    "\n",
    "\n",
    "    n_pre = len(Y_pre)\n",
    "    n_opt = len(Y_opt)\n",
    "    n_adj = len(Y_adj)\n",
    "    n_t = len(Y_t)\n",
    "\n",
    "    # Obtain mean estimator\n",
    "    known_mean = \"False\"\n",
    "    if known_mean == \"True\":\n",
    "        M_pre = np.zeros(n_pre).reshape(-1,1)\n",
    "        M_opt = np.zeros(n_opt).reshape(-1,1)\n",
    "        M_adj = np.zeros(n_adj).reshape(-1,1)\n",
    "        M_t = np.zeros(n_t).reshape(-1,1)\n",
    "    else:\n",
    "        est_type = \"NN1\"\n",
    "        M_pre, M_opt, M_adj, M_t = mean_est(est_type,X_pre,Y_pre,X_opt,X_adj,X_t)\n",
    "\n",
    "    # Obtain variance estimator\n",
    "    var_opt, var_adj, var_t = var_est(X_pre,Y_pre,M_pre,X_opt,X_adj,X_t, max_depth = 5, est_type =\"RF\")\n",
    "\n",
    "\n",
    "    # Obtain quantile estimators\n",
    "    quantile = [0.05,0.35,0.65,0.95]\n",
    "    m1,Q1_opt,Q1_adj,Q1_t = est_quantile(\"NN1\",quantile[0],X_pre,Y_pre,X_opt,X_adj,X_t)\n",
    "    m2,Q2_opt,Q2_adj,Q2_t = est_quantile(\"NN2\",quantile[1],X_pre,Y_pre,X_opt,X_adj,X_t)\n",
    "    m3,Q3_opt,Q3_adj,Q3_t = est_quantile(\"qrf\",quantile[2],X_pre,Y_pre,X_opt,X_adj,X_t)\n",
    "    m4,Q4_opt,Q4_adj,Q4_t = est_quantile(\"gb\",quantile[3],X_pre,Y_pre,X_opt,X_adj,X_t)\n",
    "\n",
    "    # construct estimator matrix\n",
    "    E_opt = np.hstack(((Q1_opt-M_opt)**2, (Q2_opt-M_opt)**2, (Q3_opt-M_opt)**2, (Q4_opt-M_opt)**2, var_opt.reshape(-1, 1)))\n",
    "    E_opt = E_opt.T\n",
    "    E_adj = np.hstack(((Q1_adj-M_adj)**2, (Q2_adj-M_adj)**2, (Q3_adj-M_adj)**2, (Q4_adj-M_adj)**2, var_adj.reshape(-1, 1)))\n",
    "    E_adj = E_adj.T\n",
    "    E_t = np.hstack(((Q1_t-M_t)**2, (Q2_t-M_t)**2, (Q3_t-M_t)**2, (Q4_t-M_t)**2, var_t.reshape(-1, 1)))\n",
    "    E_t = E_t.T\n",
    "\n",
    "\n",
    "    # solve optimization problem\n",
    "\n",
    "    optimal_weight, V100_adj, V100_t= solve_opt(X_opt,Y_opt, M_opt, M_adj, M_t, X_adj, X_t, \"aug\", E_opt, E_adj, E_t)\n",
    "    # opt_sol, V100_adj, V100_t = solve_opt(X_opt,Y_opt, M_opt, M_adj, M_t, X_adj, X_t, \"rkhs_poly\", degree = 2)\n",
    "    # opt_sol, V100_adj, V100_t = solve_opt(X_opt,Y_opt, M_opt, M_adj, M_t, X_adj, X_t, \"rkhs_rbf\", sigma = 1)\n",
    "\n",
    "    # adjust interval\n",
    "    if shrink: \n",
    "        alpha = 0.05\n",
    "        delta = interval_adj_2(X_adj,Y_adj,M_adj,V100_adj,alpha,stepsize = 0.001)\n",
    "\n",
    "        # plot\n",
    "        V_alpha_t = delta*V100_t\n",
    "    else:\n",
    "        V_alpha_t = V100_t\n",
    "    \n",
    "    coverage = (np.power(Y_t[:,0]-M_t[:,0], 2) <= V_alpha_t[:,0]).mean()\n",
    "    bandwidth = np.mean(V_alpha_t[:,0])\n",
    "    print(\"The overall coverage for UTOPIA is\", coverage)\n",
    "    print(\"Mean bandwidth on test data for UTOPIA is\", bandwidth)\n",
    "    return X_t,Y_t,M_t,V_alpha_t,coverage,bandwidth"
   ]
  },
  {
   "cell_type": "code",
   "execution_count": 5,
   "id": "1501e604",
   "metadata": {},
   "outputs": [],
   "source": [
    "def LQR_FRED_MD_MULTIVARIATE(Data):\n",
    "    train_idx = int(Data.shape[0] * 0.8)\n",
    "    train_data, test_data = np.split(Data, [train_idx])\n",
    "\n",
    "    X_lin = train_data[:,:-1]\n",
    "    Y_lin = train_data[:,-1].reshape(-1,1)\n",
    "    y_lin = Y_lin[:,0]\n",
    "    X_quantile = train_data[:,:-1]\n",
    "    Y_quantile = train_data[:,-1].reshape(-1,1)\n",
    "    X_test = test_data[:,:-1]\n",
    "    Y_test = test_data[:,-1].reshape(-1,1)\n",
    "\n",
    "    # Estimate the mean using NN1\n",
    "    est_type = \"NN1\"\n",
    "    M_quantile, M_test = mean_est_others(est_type,X_lin,Y_lin,X_quantile,X_test)\n",
    "\n",
    "    # Estimate the quantile\n",
    "    alpha = 0.05\n",
    "\n",
    "    model_quantile = QuantileRegressor(quantile=1-(alpha/2), alpha=0, solver = 'highs')\n",
    "    model_quantile.fit(X_quantile, (Y_quantile-M_quantile).reshape(-1))\n",
    "    Q_test = model_quantile.predict(X_test)\n",
    "\n",
    "\n",
    "    V_test = Q_test**2\n",
    "    V_test = V_test.reshape(-1,1)\n",
    "    coverage = (np.power(Y_test[:,0]-M_test[:,0], 2) <= V_test[:,0]).mean()\n",
    "    bandwidth = np.mean(V_test[:,0])\n",
    "    print(\"The overall coverage for LQR is\", coverage)\n",
    "    print(\"Mean bandwidth on test data for LQR is\", bandwidth)\n",
    "    return X_test,Y_test,M_test,V_test, coverage, bandwidth"
   ]
  },
  {
   "cell_type": "code",
   "execution_count": 6,
   "id": "3b1d9848",
   "metadata": {},
   "outputs": [],
   "source": [
    "def SplitCF_FRED_MD_MULTIVARIATE(Data): \n",
    "    train_idx = int(Data.shape[0] * 0.8)\n",
    "    train_data, test_data = np.split(Data, [train_idx])\n",
    "\n",
    "\n",
    "    X_lin = train_data[:300,:-1]\n",
    "    Y_lin = train_data[:300,1].reshape(-1,1)\n",
    "    y_lin = Y_lin[:,0]\n",
    "    X_res = train_data[300:,:-1]\n",
    "    Y_res = train_data[300:,1].reshape(-1,1)\n",
    "    y_res = Y_res[:,0]\n",
    "    X_test = test_data[:,:-1]\n",
    "    Y_test = test_data[:,1].reshape(-1,1)\n",
    "    y_test = Y_test[:,0]\n",
    "\n",
    "    # Estimate the mean using NN1\n",
    "    \n",
    "    device = torch.device(\"cuda\" if torch.cuda.is_available() else \"cpu\")\n",
    "    torch.manual_seed(42)\n",
    "    torch.cuda.manual_seed_all(42) \n",
    "    input_dim = X_lin.shape[1]\n",
    "    model = NN2(input_size=input_dim, output_size=1).to(device)\n",
    "    criterion=nn.MSELoss()\n",
    "    learning_rate = 0.001\n",
    "    optimizer = optim.Adam(model.parameters(), lr=learning_rate)\n",
    "\n",
    "    for epoch in range(1000):\n",
    "        inputs=Variable(torch.from_numpy(X_lin))\n",
    "        labels=Variable(torch.from_numpy(Y_lin))\n",
    "        optimizer.zero_grad()\n",
    "        outputs=model(inputs.float())\n",
    "        loss=criterion(outputs.float(), labels.float())\n",
    "        loss.backward()\n",
    "        optimizer.step()\n",
    "\n",
    "\n",
    "    Y_lin_pred = model(torch.from_numpy(X_lin).float())\n",
    "    Y_lin_pred = Y_lin_pred.detach().cpu().numpy().reshape(-1,1)\n",
    "\n",
    "    Y_res_hat = model(torch.from_numpy(X_res).float())\n",
    "    Y_res_hat = Y_res_hat.detach().cpu().numpy().reshape(-1,1)\n",
    "\n",
    "    Y_test_hat = model(torch.from_numpy(X_test).float())\n",
    "    Y_test_hat = Y_test_hat.detach().cpu().numpy().reshape(-1,1)\n",
    "\n",
    "\n",
    "#     est_type = \"NN1\"\n",
    "#     Y_res_pred, M_test = mean_est_others(est_type,X_lin,Y_lin,X_res,X_test)\n",
    "#     y_res_pred = Y_res_pred[:,0]\n",
    "\n",
    "    # Calculate the conformity scores\n",
    "    resid_mean = np.abs(Y_lin.reshape(-1) - Y_lin_pred.reshape(-1))\n",
    "    \n",
    "    ########################### RF based conditional variance estimator ##########################\n",
    "\n",
    "    var_model = RandomForestRegressor(n_estimators = 1000, max_depth = 5, random_state = 42)\n",
    "    #var_model = RandomForestRegressor(n_estimators = 1000, max_depth = 3)\n",
    "    var_model.fit(X_lin, resid_mean ** 2)\n",
    "\n",
    "    var_mean_hat = var_model.predict(X_lin)\n",
    "    var_res_hat = var_model.predict(X_res)\n",
    "    var_test_hat = var_model.predict(X_test)\n",
    "\n",
    "    alpha = 0.05\n",
    "    residuals = np.abs(Y_res[:,0] - Y_res_hat[:,0])/((var_res_hat.reshape(-1) ** 0.5) + 1e-10)\n",
    "    k = int((1 - alpha) * len(residuals))\n",
    "    residuals_sorted = np.sort(residuals)\n",
    "    threshold = residuals_sorted[k]\n",
    "\n",
    "    v_test = (threshold**2)*var_test_hat\n",
    "    V_test = v_test.reshape(-1,1)\n",
    "\n",
    "\n",
    "#     alpha = 0.05  # 95% confidence level\n",
    "#     k = int((1 - alpha) * len(y_lin))\n",
    "#     residuals_sorted = np.sort(residuals)\n",
    "#     threshold = residuals_sorted[k]\n",
    "\n",
    "    # Calculate the prediction interval\n",
    "#     v_test = (threshold**2)*np.ones(len(y_test))\n",
    "#     V_test = v_test.reshape(-1,1)\n",
    "    \n",
    "    \n",
    "    \n",
    "    coverage = (np.power(Y_test[:,0]-Y_test_hat[:,0], 2) <= V_test[:,0]).mean()\n",
    "    bandwidth = np.mean(V_test[:,0])\n",
    "    print(\"The overall coverage for SplitCF is\", coverage)\n",
    "    print(\"Mean bandwidth on test data for SplitCF is\", bandwidth)\n",
    "    return X_test,Y_test,Y_test_hat,V_test,coverage,bandwidth"
   ]
  },
  {
   "cell_type": "code",
   "execution_count": 7,
   "id": "748d0822",
   "metadata": {},
   "outputs": [],
   "source": [
    "data = pd.read_csv('Transformed_na_removed.csv')\n",
    "col = data.columns"
   ]
  },
  {
   "cell_type": "code",
   "execution_count": 20,
   "id": "47b794b6",
   "metadata": {},
   "outputs": [
    {
     "data": {
      "text/plain": [
       "0        5\n",
       "1        6\n",
       "2       12\n",
       "3       16\n",
       "4       17\n",
       "      ... \n",
       "449    501\n",
       "450    502\n",
       "451    503\n",
       "452    504\n",
       "453    505\n",
       "Name: Unnamed: 0, Length: 454, dtype: int64"
      ]
     },
     "execution_count": 20,
     "metadata": {},
     "output_type": "execute_result"
    }
   ],
   "source": [
    "data['Unnamed: 0']"
   ]
  },
  {
   "cell_type": "code",
   "execution_count": 12,
   "id": "0f741d4f",
   "metadata": {},
   "outputs": [
    {
     "name": "stderr",
     "output_type": "stream",
     "text": [
      "/Users/mdeb/BOSTON UNIVERSITY Dropbox/Debarghya Mukherjee/Jiawei/Prediction Band/Codes/all_functions.py:304: DataConversionWarning: A column-vector y was passed when a 1d array was expected. Please change the shape of y to (n_samples,), for example using ravel().\n",
      "  var_model.fit(X, Y.reshape(-1,1))\n"
     ]
    },
    {
     "name": "stdout",
     "output_type": "stream",
     "text": [
      "The overall coverage for UTOPIA is 0.978021978021978\n",
      "Mean bandwidth on test data for UTOPIA is 0.0006753001409418569\n",
      "The overall coverage for LQR is 0.5934065934065934\n",
      "Mean bandwidth on test data for LQR is 0.00032676865626071836\n",
      "The overall coverage for SplitCF is 0.978021978021978\n",
      "Mean bandwidth on test data for SplitCF is 0.0011209154525900873\n",
      "1 th index is done!\n"
     ]
    },
    {
     "name": "stderr",
     "output_type": "stream",
     "text": [
      "/Users/mdeb/BOSTON UNIVERSITY Dropbox/Debarghya Mukherjee/Jiawei/Prediction Band/Codes/all_functions.py:304: DataConversionWarning: A column-vector y was passed when a 1d array was expected. Please change the shape of y to (n_samples,), for example using ravel().\n",
      "  var_model.fit(X, Y.reshape(-1,1))\n"
     ]
    },
    {
     "name": "stdout",
     "output_type": "stream",
     "text": [
      "The overall coverage for UTOPIA is 0.9340659340659341\n",
      "Mean bandwidth on test data for UTOPIA is 0.0005659911463285356\n",
      "The overall coverage for LQR is 0.8131868131868132\n",
      "Mean bandwidth on test data for LQR is 0.000453151498426142\n",
      "The overall coverage for SplitCF is 0.6703296703296703\n",
      "Mean bandwidth on test data for SplitCF is 0.00025149170716585247\n",
      "2 th index is done!\n"
     ]
    },
    {
     "name": "stderr",
     "output_type": "stream",
     "text": [
      "/Users/mdeb/BOSTON UNIVERSITY Dropbox/Debarghya Mukherjee/Jiawei/Prediction Band/Codes/all_functions.py:304: DataConversionWarning: A column-vector y was passed when a 1d array was expected. Please change the shape of y to (n_samples,), for example using ravel().\n",
      "  var_model.fit(X, Y.reshape(-1,1))\n"
     ]
    },
    {
     "name": "stdout",
     "output_type": "stream",
     "text": [
      "The overall coverage for UTOPIA is 0.6153846153846154\n",
      "Mean bandwidth on test data for UTOPIA is 0.00047415708805083047\n",
      "The overall coverage for LQR is 0.6263736263736264\n",
      "Mean bandwidth on test data for LQR is 0.00033561385091813333\n",
      "The overall coverage for SplitCF is 0.9010989010989011\n",
      "Mean bandwidth on test data for SplitCF is 0.00036794931547540715\n",
      "3 th index is done!\n"
     ]
    },
    {
     "name": "stderr",
     "output_type": "stream",
     "text": [
      "/Users/mdeb/BOSTON UNIVERSITY Dropbox/Debarghya Mukherjee/Jiawei/Prediction Band/Codes/all_functions.py:304: DataConversionWarning: A column-vector y was passed when a 1d array was expected. Please change the shape of y to (n_samples,), for example using ravel().\n",
      "  var_model.fit(X, Y.reshape(-1,1))\n"
     ]
    },
    {
     "name": "stdout",
     "output_type": "stream",
     "text": [
      "The overall coverage for UTOPIA is 1.0\n",
      "Mean bandwidth on test data for UTOPIA is 0.0012689237428871402\n",
      "The overall coverage for LQR is 0.7582417582417582\n",
      "Mean bandwidth on test data for LQR is 0.0005488280599389839\n",
      "The overall coverage for SplitCF is 0.9230769230769231\n",
      "Mean bandwidth on test data for SplitCF is 0.0007156112868426588\n",
      "4 th index is done!\n"
     ]
    },
    {
     "name": "stderr",
     "output_type": "stream",
     "text": [
      "/Users/mdeb/BOSTON UNIVERSITY Dropbox/Debarghya Mukherjee/Jiawei/Prediction Band/Codes/all_functions.py:304: DataConversionWarning: A column-vector y was passed when a 1d array was expected. Please change the shape of y to (n_samples,), for example using ravel().\n",
      "  var_model.fit(X, Y.reshape(-1,1))\n"
     ]
    },
    {
     "name": "stdout",
     "output_type": "stream",
     "text": [
      "The overall coverage for UTOPIA is 0.9340659340659341\n",
      "Mean bandwidth on test data for UTOPIA is 0.0023194293861676777\n",
      "The overall coverage for LQR is 0.7142857142857143\n",
      "Mean bandwidth on test data for LQR is 0.000335066073369714\n",
      "The overall coverage for SplitCF is 0.8021978021978022\n",
      "Mean bandwidth on test data for SplitCF is 0.00016706965541510833\n",
      "5 th index is done!\n"
     ]
    },
    {
     "name": "stderr",
     "output_type": "stream",
     "text": [
      "/Users/mdeb/BOSTON UNIVERSITY Dropbox/Debarghya Mukherjee/Jiawei/Prediction Band/Codes/all_functions.py:304: DataConversionWarning: A column-vector y was passed when a 1d array was expected. Please change the shape of y to (n_samples,), for example using ravel().\n",
      "  var_model.fit(X, Y.reshape(-1,1))\n",
      "/Users/mdeb/anaconda3/lib/python3.10/site-packages/cvxpy/problems/problem.py:1387: UserWarning: Solution may be inaccurate. Try another solver, adjusting the solver settings, or solve with verbose=True for more information.\n",
      "  warnings.warn(\n"
     ]
    },
    {
     "name": "stdout",
     "output_type": "stream",
     "text": [
      "The overall coverage for UTOPIA is 0.9230769230769231\n",
      "Mean bandwidth on test data for UTOPIA is 0.0008160270726625573\n",
      "The overall coverage for LQR is 0.6153846153846154\n",
      "Mean bandwidth on test data for LQR is 0.0002911076629457759\n",
      "The overall coverage for SplitCF is 0.7912087912087912\n",
      "Mean bandwidth on test data for SplitCF is 0.00025930415047577775\n",
      "6 th index is done!\n"
     ]
    },
    {
     "name": "stderr",
     "output_type": "stream",
     "text": [
      "/Users/mdeb/BOSTON UNIVERSITY Dropbox/Debarghya Mukherjee/Jiawei/Prediction Band/Codes/all_functions.py:304: DataConversionWarning: A column-vector y was passed when a 1d array was expected. Please change the shape of y to (n_samples,), for example using ravel().\n",
      "  var_model.fit(X, Y.reshape(-1,1))\n"
     ]
    },
    {
     "name": "stdout",
     "output_type": "stream",
     "text": [
      "The overall coverage for UTOPIA is 0.9560439560439561\n",
      "Mean bandwidth on test data for UTOPIA is 0.0006049939838274668\n",
      "The overall coverage for LQR is 0.6263736263736264\n",
      "Mean bandwidth on test data for LQR is 0.0002863416566653451\n",
      "The overall coverage for SplitCF is 0.945054945054945\n",
      "Mean bandwidth on test data for SplitCF is 0.0005763463927884101\n",
      "7 th index is done!\n"
     ]
    },
    {
     "name": "stderr",
     "output_type": "stream",
     "text": [
      "/Users/mdeb/BOSTON UNIVERSITY Dropbox/Debarghya Mukherjee/Jiawei/Prediction Band/Codes/all_functions.py:304: DataConversionWarning: A column-vector y was passed when a 1d array was expected. Please change the shape of y to (n_samples,), for example using ravel().\n",
      "  var_model.fit(X, Y.reshape(-1,1))\n"
     ]
    },
    {
     "name": "stdout",
     "output_type": "stream",
     "text": [
      "The overall coverage for UTOPIA is 0.967032967032967\n",
      "Mean bandwidth on test data for UTOPIA is 0.0006541448987031723\n",
      "The overall coverage for LQR is 0.6373626373626373\n",
      "Mean bandwidth on test data for LQR is 0.00029394853897880417\n",
      "The overall coverage for SplitCF is 0.9120879120879121\n",
      "Mean bandwidth on test data for SplitCF is 0.000492394568525913\n",
      "8 th index is done!\n"
     ]
    },
    {
     "name": "stderr",
     "output_type": "stream",
     "text": [
      "/Users/mdeb/BOSTON UNIVERSITY Dropbox/Debarghya Mukherjee/Jiawei/Prediction Band/Codes/all_functions.py:304: DataConversionWarning: A column-vector y was passed when a 1d array was expected. Please change the shape of y to (n_samples,), for example using ravel().\n",
      "  var_model.fit(X, Y.reshape(-1,1))\n"
     ]
    },
    {
     "name": "stdout",
     "output_type": "stream",
     "text": [
      "The overall coverage for UTOPIA is 0.945054945054945\n",
      "Mean bandwidth on test data for UTOPIA is 0.0007410239216670729\n",
      "The overall coverage for LQR is 0.6483516483516484\n",
      "Mean bandwidth on test data for LQR is 0.00037959893654111753\n",
      "The overall coverage for SplitCF is 0.945054945054945\n",
      "Mean bandwidth on test data for SplitCF is 0.0006019025186116109\n",
      "9 th index is done!\n"
     ]
    },
    {
     "name": "stderr",
     "output_type": "stream",
     "text": [
      "/Users/mdeb/BOSTON UNIVERSITY Dropbox/Debarghya Mukherjee/Jiawei/Prediction Band/Codes/all_functions.py:304: DataConversionWarning: A column-vector y was passed when a 1d array was expected. Please change the shape of y to (n_samples,), for example using ravel().\n",
      "  var_model.fit(X, Y.reshape(-1,1))\n"
     ]
    },
    {
     "name": "stdout",
     "output_type": "stream",
     "text": [
      "The overall coverage for UTOPIA is 0.9560439560439561\n",
      "Mean bandwidth on test data for UTOPIA is 0.007003354651289818\n",
      "The overall coverage for LQR is 0.8241758241758241\n",
      "Mean bandwidth on test data for LQR is 0.000879465324214168\n",
      "The overall coverage for SplitCF is 0.8241758241758241\n",
      "Mean bandwidth on test data for SplitCF is 0.00018131151288971995\n",
      "10 th index is done!\n"
     ]
    },
    {
     "name": "stderr",
     "output_type": "stream",
     "text": [
      "/Users/mdeb/BOSTON UNIVERSITY Dropbox/Debarghya Mukherjee/Jiawei/Prediction Band/Codes/all_functions.py:304: DataConversionWarning: A column-vector y was passed when a 1d array was expected. Please change the shape of y to (n_samples,), for example using ravel().\n",
      "  var_model.fit(X, Y.reshape(-1,1))\n"
     ]
    },
    {
     "name": "stdout",
     "output_type": "stream",
     "text": [
      "The overall coverage for UTOPIA is 0.6483516483516484\n",
      "Mean bandwidth on test data for UTOPIA is 0.00046424251863182083\n",
      "The overall coverage for LQR is 0.6703296703296703\n",
      "Mean bandwidth on test data for LQR is 0.0003481529823397045\n",
      "The overall coverage for SplitCF is 0.8241758241758241\n",
      "Mean bandwidth on test data for SplitCF is 0.00032555989424645467\n",
      "11 th index is done!\n"
     ]
    },
    {
     "name": "stderr",
     "output_type": "stream",
     "text": [
      "/Users/mdeb/BOSTON UNIVERSITY Dropbox/Debarghya Mukherjee/Jiawei/Prediction Band/Codes/all_functions.py:304: DataConversionWarning: A column-vector y was passed when a 1d array was expected. Please change the shape of y to (n_samples,), for example using ravel().\n",
      "  var_model.fit(X, Y.reshape(-1,1))\n",
      "/Users/mdeb/anaconda3/lib/python3.10/site-packages/cvxpy/problems/problem.py:1387: UserWarning: Solution may be inaccurate. Try another solver, adjusting the solver settings, or solve with verbose=True for more information.\n",
      "  warnings.warn(\n"
     ]
    },
    {
     "name": "stdout",
     "output_type": "stream",
     "text": [
      "The overall coverage for UTOPIA is 0.978021978021978\n",
      "Mean bandwidth on test data for UTOPIA is 0.0013687196129723888\n",
      "The overall coverage for LQR is 0.8461538461538461\n",
      "Mean bandwidth on test data for LQR is 0.0004325507625738421\n",
      "The overall coverage for SplitCF is 0.9230769230769231\n",
      "Mean bandwidth on test data for SplitCF is 0.0005017465609265496\n",
      "12 th index is done!\n"
     ]
    },
    {
     "name": "stderr",
     "output_type": "stream",
     "text": [
      "/Users/mdeb/BOSTON UNIVERSITY Dropbox/Debarghya Mukherjee/Jiawei/Prediction Band/Codes/all_functions.py:304: DataConversionWarning: A column-vector y was passed when a 1d array was expected. Please change the shape of y to (n_samples,), for example using ravel().\n",
      "  var_model.fit(X, Y.reshape(-1,1))\n"
     ]
    },
    {
     "name": "stdout",
     "output_type": "stream",
     "text": [
      "The overall coverage for UTOPIA is 0.978021978021978\n",
      "Mean bandwidth on test data for UTOPIA is 0.0007132800712596832\n",
      "The overall coverage for LQR is 0.5384615384615384\n",
      "Mean bandwidth on test data for LQR is 0.00020491530848673454\n",
      "The overall coverage for SplitCF is 0.7802197802197802\n",
      "Mean bandwidth on test data for SplitCF is 0.0005977131684493337\n",
      "13 th index is done!\n"
     ]
    },
    {
     "name": "stderr",
     "output_type": "stream",
     "text": [
      "/Users/mdeb/BOSTON UNIVERSITY Dropbox/Debarghya Mukherjee/Jiawei/Prediction Band/Codes/all_functions.py:304: DataConversionWarning: A column-vector y was passed when a 1d array was expected. Please change the shape of y to (n_samples,), for example using ravel().\n",
      "  var_model.fit(X, Y.reshape(-1,1))\n"
     ]
    },
    {
     "name": "stdout",
     "output_type": "stream",
     "text": [
      "The overall coverage for UTOPIA is 0.989010989010989\n",
      "Mean bandwidth on test data for UTOPIA is 0.0007642714180998996\n",
      "The overall coverage for LQR is 0.7252747252747253\n",
      "Mean bandwidth on test data for LQR is 0.00015925727972275654\n",
      "The overall coverage for SplitCF is 0.5384615384615384\n",
      "Mean bandwidth on test data for SplitCF is 0.00015709633772787086\n",
      "14 th index is done!\n"
     ]
    },
    {
     "name": "stderr",
     "output_type": "stream",
     "text": [
      "/Users/mdeb/BOSTON UNIVERSITY Dropbox/Debarghya Mukherjee/Jiawei/Prediction Band/Codes/all_functions.py:304: DataConversionWarning: A column-vector y was passed when a 1d array was expected. Please change the shape of y to (n_samples,), for example using ravel().\n",
      "  var_model.fit(X, Y.reshape(-1,1))\n",
      "/Users/mdeb/anaconda3/lib/python3.10/site-packages/cvxpy/problems/problem.py:1387: UserWarning: Solution may be inaccurate. Try another solver, adjusting the solver settings, or solve with verbose=True for more information.\n",
      "  warnings.warn(\n"
     ]
    },
    {
     "name": "stdout",
     "output_type": "stream",
     "text": [
      "The overall coverage for UTOPIA is 0.945054945054945\n",
      "Mean bandwidth on test data for UTOPIA is 0.000929976492326357\n",
      "The overall coverage for LQR is 0.7912087912087912\n",
      "Mean bandwidth on test data for LQR is 0.000238874608890947\n",
      "The overall coverage for SplitCF is 0.6483516483516484\n",
      "Mean bandwidth on test data for SplitCF is 0.0008022377348794854\n",
      "15 th index is done!\n"
     ]
    },
    {
     "name": "stderr",
     "output_type": "stream",
     "text": [
      "/Users/mdeb/BOSTON UNIVERSITY Dropbox/Debarghya Mukherjee/Jiawei/Prediction Band/Codes/all_functions.py:304: DataConversionWarning: A column-vector y was passed when a 1d array was expected. Please change the shape of y to (n_samples,), for example using ravel().\n",
      "  var_model.fit(X, Y.reshape(-1,1))\n"
     ]
    },
    {
     "name": "stdout",
     "output_type": "stream",
     "text": [
      "The overall coverage for UTOPIA is 1.0\n",
      "Mean bandwidth on test data for UTOPIA is 0.0004827276759457582\n",
      "The overall coverage for LQR is 0.6593406593406593\n",
      "Mean bandwidth on test data for LQR is 0.0002107916665064654\n",
      "The overall coverage for SplitCF is 0.7692307692307693\n",
      "Mean bandwidth on test data for SplitCF is 0.0009261825520244164\n",
      "16 th index is done!\n"
     ]
    },
    {
     "name": "stderr",
     "output_type": "stream",
     "text": [
      "/Users/mdeb/BOSTON UNIVERSITY Dropbox/Debarghya Mukherjee/Jiawei/Prediction Band/Codes/all_functions.py:304: DataConversionWarning: A column-vector y was passed when a 1d array was expected. Please change the shape of y to (n_samples,), for example using ravel().\n",
      "  var_model.fit(X, Y.reshape(-1,1))\n"
     ]
    },
    {
     "name": "stdout",
     "output_type": "stream",
     "text": [
      "The overall coverage for UTOPIA is 0.9560439560439561\n",
      "Mean bandwidth on test data for UTOPIA is 0.008096534518537188\n",
      "The overall coverage for LQR is 0.8791208791208791\n",
      "Mean bandwidth on test data for LQR is 0.004592865109078388\n",
      "The overall coverage for SplitCF is 0.6483516483516484\n",
      "Mean bandwidth on test data for SplitCF is 0.0001879889256127099\n",
      "17 th index is done!\n"
     ]
    },
    {
     "name": "stderr",
     "output_type": "stream",
     "text": [
      "/Users/mdeb/BOSTON UNIVERSITY Dropbox/Debarghya Mukherjee/Jiawei/Prediction Band/Codes/all_functions.py:304: DataConversionWarning: A column-vector y was passed when a 1d array was expected. Please change the shape of y to (n_samples,), for example using ravel().\n",
      "  var_model.fit(X, Y.reshape(-1,1))\n"
     ]
    },
    {
     "name": "stdout",
     "output_type": "stream",
     "text": [
      "The overall coverage for UTOPIA is 0.9560439560439561\n",
      "Mean bandwidth on test data for UTOPIA is 0.0021570731596212496\n",
      "The overall coverage for LQR is 0.5714285714285714\n",
      "Mean bandwidth on test data for LQR is 0.00039608711026432213\n",
      "The overall coverage for SplitCF is 0.6703296703296703\n",
      "Mean bandwidth on test data for SplitCF is 0.0005321972607713932\n",
      "18 th index is done!\n"
     ]
    },
    {
     "name": "stderr",
     "output_type": "stream",
     "text": [
      "/Users/mdeb/BOSTON UNIVERSITY Dropbox/Debarghya Mukherjee/Jiawei/Prediction Band/Codes/all_functions.py:304: DataConversionWarning: A column-vector y was passed when a 1d array was expected. Please change the shape of y to (n_samples,), for example using ravel().\n",
      "  var_model.fit(X, Y.reshape(-1,1))\n"
     ]
    },
    {
     "name": "stdout",
     "output_type": "stream",
     "text": [
      "The overall coverage for UTOPIA is 0.8901098901098901\n",
      "Mean bandwidth on test data for UTOPIA is 0.6470696861889389\n",
      "The overall coverage for LQR is 0.45054945054945056\n",
      "Mean bandwidth on test data for LQR is 0.12421328709800918\n",
      "The overall coverage for SplitCF is 0.9340659340659341\n",
      "Mean bandwidth on test data for SplitCF is 0.0006139791172219808\n",
      "19 th index is done!\n"
     ]
    },
    {
     "name": "stderr",
     "output_type": "stream",
     "text": [
      "/Users/mdeb/BOSTON UNIVERSITY Dropbox/Debarghya Mukherjee/Jiawei/Prediction Band/Codes/all_functions.py:304: DataConversionWarning: A column-vector y was passed when a 1d array was expected. Please change the shape of y to (n_samples,), for example using ravel().\n",
      "  var_model.fit(X, Y.reshape(-1,1))\n"
     ]
    },
    {
     "name": "stdout",
     "output_type": "stream",
     "text": [
      "The overall coverage for UTOPIA is 0.9120879120879121\n",
      "Mean bandwidth on test data for UTOPIA is 234909.2085774704\n",
      "The overall coverage for LQR is 0.7582417582417582\n",
      "Mean bandwidth on test data for LQR is 192048.06299644156\n",
      "The overall coverage for SplitCF is 0.14285714285714285\n",
      "Mean bandwidth on test data for SplitCF is 0.01580979059608304\n",
      "20 th index is done!\n"
     ]
    },
    {
     "name": "stderr",
     "output_type": "stream",
     "text": [
      "/Users/mdeb/BOSTON UNIVERSITY Dropbox/Debarghya Mukherjee/Jiawei/Prediction Band/Codes/all_functions.py:304: DataConversionWarning: A column-vector y was passed when a 1d array was expected. Please change the shape of y to (n_samples,), for example using ravel().\n",
      "  var_model.fit(X, Y.reshape(-1,1))\n"
     ]
    },
    {
     "name": "stdout",
     "output_type": "stream",
     "text": [
      "The overall coverage for UTOPIA is 0.7252747252747253\n",
      "Mean bandwidth on test data for UTOPIA is 0.001276238356517905\n",
      "The overall coverage for LQR is 0.6593406593406593\n",
      "Mean bandwidth on test data for LQR is 0.0006798612827539378\n",
      "The overall coverage for SplitCF is 0.8681318681318682\n",
      "Mean bandwidth on test data for SplitCF is 0.0004924971509662158\n",
      "21 th index is done!\n"
     ]
    },
    {
     "name": "stderr",
     "output_type": "stream",
     "text": [
      "/Users/mdeb/BOSTON UNIVERSITY Dropbox/Debarghya Mukherjee/Jiawei/Prediction Band/Codes/all_functions.py:304: DataConversionWarning: A column-vector y was passed when a 1d array was expected. Please change the shape of y to (n_samples,), for example using ravel().\n",
      "  var_model.fit(X, Y.reshape(-1,1))\n",
      "/Users/mdeb/anaconda3/lib/python3.10/site-packages/cvxpy/problems/problem.py:1387: UserWarning: Solution may be inaccurate. Try another solver, adjusting the solver settings, or solve with verbose=True for more information.\n",
      "  warnings.warn(\n"
     ]
    },
    {
     "name": "stdout",
     "output_type": "stream",
     "text": [
      "The overall coverage for UTOPIA is 0.9230769230769231\n",
      "Mean bandwidth on test data for UTOPIA is 0.0007333767097544128\n",
      "The overall coverage for LQR is 0.7472527472527473\n",
      "Mean bandwidth on test data for LQR is 0.00040558676786649753\n",
      "The overall coverage for SplitCF is 0.8351648351648352\n",
      "Mean bandwidth on test data for SplitCF is 0.00034663255787260855\n",
      "22 th index is done!\n"
     ]
    },
    {
     "name": "stderr",
     "output_type": "stream",
     "text": [
      "/Users/mdeb/BOSTON UNIVERSITY Dropbox/Debarghya Mukherjee/Jiawei/Prediction Band/Codes/all_functions.py:304: DataConversionWarning: A column-vector y was passed when a 1d array was expected. Please change the shape of y to (n_samples,), for example using ravel().\n",
      "  var_model.fit(X, Y.reshape(-1,1))\n",
      "/Users/mdeb/anaconda3/lib/python3.10/site-packages/cvxpy/problems/problem.py:1387: UserWarning: Solution may be inaccurate. Try another solver, adjusting the solver settings, or solve with verbose=True for more information.\n",
      "  warnings.warn(\n"
     ]
    },
    {
     "name": "stdout",
     "output_type": "stream",
     "text": [
      "The overall coverage for UTOPIA is 0.8461538461538461\n",
      "Mean bandwidth on test data for UTOPIA is 0.0005025490254920425\n",
      "The overall coverage for LQR is 0.7252747252747253\n",
      "Mean bandwidth on test data for LQR is 0.0003533452680868301\n",
      "The overall coverage for SplitCF is 0.8571428571428571\n",
      "Mean bandwidth on test data for SplitCF is 0.00041333069656318214\n",
      "23 th index is done!\n"
     ]
    },
    {
     "name": "stderr",
     "output_type": "stream",
     "text": [
      "/Users/mdeb/BOSTON UNIVERSITY Dropbox/Debarghya Mukherjee/Jiawei/Prediction Band/Codes/all_functions.py:304: DataConversionWarning: A column-vector y was passed when a 1d array was expected. Please change the shape of y to (n_samples,), for example using ravel().\n",
      "  var_model.fit(X, Y.reshape(-1,1))\n"
     ]
    },
    {
     "name": "stdout",
     "output_type": "stream",
     "text": [
      "The overall coverage for UTOPIA is 0.967032967032967\n",
      "Mean bandwidth on test data for UTOPIA is 0.08484105049551857\n",
      "The overall coverage for LQR is 0.7362637362637363\n",
      "Mean bandwidth on test data for LQR is 0.019826949334324315\n",
      "The overall coverage for SplitCF is 0.7252747252747253\n",
      "Mean bandwidth on test data for SplitCF is 0.00020527462745648724\n",
      "24 th index is done!\n"
     ]
    },
    {
     "name": "stderr",
     "output_type": "stream",
     "text": [
      "/Users/mdeb/BOSTON UNIVERSITY Dropbox/Debarghya Mukherjee/Jiawei/Prediction Band/Codes/all_functions.py:304: DataConversionWarning: A column-vector y was passed when a 1d array was expected. Please change the shape of y to (n_samples,), for example using ravel().\n",
      "  var_model.fit(X, Y.reshape(-1,1))\n"
     ]
    },
    {
     "name": "stdout",
     "output_type": "stream",
     "text": [
      "The overall coverage for UTOPIA is 0.8351648351648352\n",
      "Mean bandwidth on test data for UTOPIA is 2.114419813836735\n",
      "The overall coverage for LQR is 0.7252747252747253\n",
      "Mean bandwidth on test data for LQR is 1.5194779068796052\n",
      "The overall coverage for SplitCF is 0.8461538461538461\n",
      "Mean bandwidth on test data for SplitCF is 0.00024986592305370194\n",
      "25 th index is done!\n"
     ]
    },
    {
     "name": "stderr",
     "output_type": "stream",
     "text": [
      "/Users/mdeb/BOSTON UNIVERSITY Dropbox/Debarghya Mukherjee/Jiawei/Prediction Band/Codes/all_functions.py:304: DataConversionWarning: A column-vector y was passed when a 1d array was expected. Please change the shape of y to (n_samples,), for example using ravel().\n",
      "  var_model.fit(X, Y.reshape(-1,1))\n"
     ]
    },
    {
     "name": "stdout",
     "output_type": "stream",
     "text": [
      "The overall coverage for UTOPIA is 0.8461538461538461\n",
      "Mean bandwidth on test data for UTOPIA is 0.011828909869020406\n",
      "The overall coverage for LQR is 0.7582417582417582\n",
      "Mean bandwidth on test data for LQR is 0.007041529139311957\n",
      "The overall coverage for SplitCF is 0.7692307692307693\n",
      "Mean bandwidth on test data for SplitCF is 0.0004307553015848432\n",
      "26 th index is done!\n"
     ]
    },
    {
     "name": "stderr",
     "output_type": "stream",
     "text": [
      "/Users/mdeb/BOSTON UNIVERSITY Dropbox/Debarghya Mukherjee/Jiawei/Prediction Band/Codes/all_functions.py:304: DataConversionWarning: A column-vector y was passed when a 1d array was expected. Please change the shape of y to (n_samples,), for example using ravel().\n",
      "  var_model.fit(X, Y.reshape(-1,1))\n"
     ]
    },
    {
     "name": "stdout",
     "output_type": "stream",
     "text": [
      "The overall coverage for UTOPIA is 0.989010989010989\n",
      "Mean bandwidth on test data for UTOPIA is 0.021615049037790907\n",
      "The overall coverage for LQR is 0.8901098901098901\n",
      "Mean bandwidth on test data for LQR is 0.010805841692864276\n",
      "The overall coverage for SplitCF is 0.8461538461538461\n",
      "Mean bandwidth on test data for SplitCF is 0.0005198723294620311\n",
      "27 th index is done!\n"
     ]
    },
    {
     "name": "stderr",
     "output_type": "stream",
     "text": [
      "/Users/mdeb/BOSTON UNIVERSITY Dropbox/Debarghya Mukherjee/Jiawei/Prediction Band/Codes/all_functions.py:304: DataConversionWarning: A column-vector y was passed when a 1d array was expected. Please change the shape of y to (n_samples,), for example using ravel().\n",
      "  var_model.fit(X, Y.reshape(-1,1))\n"
     ]
    },
    {
     "name": "stdout",
     "output_type": "stream",
     "text": [
      "The overall coverage for UTOPIA is 0.978021978021978\n",
      "Mean bandwidth on test data for UTOPIA is 0.04928705511632646\n",
      "The overall coverage for LQR is 0.7912087912087912\n",
      "Mean bandwidth on test data for LQR is 0.0006968387850623155\n",
      "The overall coverage for SplitCF is 0.8461538461538461\n",
      "Mean bandwidth on test data for SplitCF is 0.0002691898425481614\n",
      "28 th index is done!\n"
     ]
    },
    {
     "name": "stderr",
     "output_type": "stream",
     "text": [
      "/Users/mdeb/BOSTON UNIVERSITY Dropbox/Debarghya Mukherjee/Jiawei/Prediction Band/Codes/all_functions.py:304: DataConversionWarning: A column-vector y was passed when a 1d array was expected. Please change the shape of y to (n_samples,), for example using ravel().\n",
      "  var_model.fit(X, Y.reshape(-1,1))\n"
     ]
    },
    {
     "name": "stdout",
     "output_type": "stream",
     "text": [
      "The overall coverage for UTOPIA is 0.9230769230769231\n",
      "Mean bandwidth on test data for UTOPIA is 0.020975516212059387\n",
      "The overall coverage for LQR is 0.8351648351648352\n",
      "Mean bandwidth on test data for LQR is 0.009724356962800247\n",
      "The overall coverage for SplitCF is 0.5054945054945055\n",
      "Mean bandwidth on test data for SplitCF is 0.0005062342346404554\n",
      "29 th index is done!\n"
     ]
    },
    {
     "name": "stderr",
     "output_type": "stream",
     "text": [
      "/Users/mdeb/BOSTON UNIVERSITY Dropbox/Debarghya Mukherjee/Jiawei/Prediction Band/Codes/all_functions.py:304: DataConversionWarning: A column-vector y was passed when a 1d array was expected. Please change the shape of y to (n_samples,), for example using ravel().\n",
      "  var_model.fit(X, Y.reshape(-1,1))\n"
     ]
    },
    {
     "name": "stdout",
     "output_type": "stream",
     "text": [
      "The overall coverage for UTOPIA is 0.8681318681318682\n",
      "Mean bandwidth on test data for UTOPIA is 0.00652152793544809\n",
      "The overall coverage for LQR is 0.6923076923076923\n",
      "Mean bandwidth on test data for LQR is 0.002969911202638852\n",
      "The overall coverage for SplitCF is 0.8351648351648352\n",
      "Mean bandwidth on test data for SplitCF is 0.0008531723793504892\n",
      "30 th index is done!\n"
     ]
    },
    {
     "name": "stderr",
     "output_type": "stream",
     "text": [
      "/Users/mdeb/BOSTON UNIVERSITY Dropbox/Debarghya Mukherjee/Jiawei/Prediction Band/Codes/all_functions.py:304: DataConversionWarning: A column-vector y was passed when a 1d array was expected. Please change the shape of y to (n_samples,), for example using ravel().\n",
      "  var_model.fit(X, Y.reshape(-1,1))\n"
     ]
    },
    {
     "name": "stdout",
     "output_type": "stream",
     "text": [
      "The overall coverage for UTOPIA is 0.8241758241758241\n",
      "Mean bandwidth on test data for UTOPIA is 0.0057128190784787045\n",
      "The overall coverage for LQR is 0.8351648351648352\n",
      "Mean bandwidth on test data for LQR is 0.005862958337349016\n",
      "The overall coverage for SplitCF is 0.8791208791208791\n",
      "Mean bandwidth on test data for SplitCF is 0.00023030523342097633\n",
      "31 th index is done!\n"
     ]
    },
    {
     "name": "stderr",
     "output_type": "stream",
     "text": [
      "/Users/mdeb/BOSTON UNIVERSITY Dropbox/Debarghya Mukherjee/Jiawei/Prediction Band/Codes/all_functions.py:304: DataConversionWarning: A column-vector y was passed when a 1d array was expected. Please change the shape of y to (n_samples,), for example using ravel().\n",
      "  var_model.fit(X, Y.reshape(-1,1))\n"
     ]
    },
    {
     "name": "stdout",
     "output_type": "stream",
     "text": [
      "The overall coverage for UTOPIA is 0.6373626373626373\n",
      "Mean bandwidth on test data for UTOPIA is 0.0006156151337261949\n",
      "The overall coverage for LQR is 0.6043956043956044\n",
      "Mean bandwidth on test data for LQR is 0.00029965001118511354\n",
      "The overall coverage for SplitCF is 0.9560439560439561\n",
      "Mean bandwidth on test data for SplitCF is 0.000701160161520837\n",
      "32 th index is done!\n"
     ]
    },
    {
     "name": "stderr",
     "output_type": "stream",
     "text": [
      "/Users/mdeb/BOSTON UNIVERSITY Dropbox/Debarghya Mukherjee/Jiawei/Prediction Band/Codes/all_functions.py:304: DataConversionWarning: A column-vector y was passed when a 1d array was expected. Please change the shape of y to (n_samples,), for example using ravel().\n",
      "  var_model.fit(X, Y.reshape(-1,1))\n"
     ]
    },
    {
     "name": "stdout",
     "output_type": "stream",
     "text": [
      "The overall coverage for UTOPIA is 0.978021978021978\n",
      "Mean bandwidth on test data for UTOPIA is 0.001159824757478969\n",
      "The overall coverage for LQR is 0.6263736263736264\n",
      "Mean bandwidth on test data for LQR is 0.0002756907830798014\n",
      "The overall coverage for SplitCF is 0.9560439560439561\n",
      "Mean bandwidth on test data for SplitCF is 0.000769205895851628\n",
      "33 th index is done!\n"
     ]
    },
    {
     "name": "stderr",
     "output_type": "stream",
     "text": [
      "/Users/mdeb/BOSTON UNIVERSITY Dropbox/Debarghya Mukherjee/Jiawei/Prediction Band/Codes/all_functions.py:304: DataConversionWarning: A column-vector y was passed when a 1d array was expected. Please change the shape of y to (n_samples,), for example using ravel().\n",
      "  var_model.fit(X, Y.reshape(-1,1))\n"
     ]
    },
    {
     "name": "stdout",
     "output_type": "stream",
     "text": [
      "The overall coverage for UTOPIA is 0.8021978021978022\n",
      "Mean bandwidth on test data for UTOPIA is 0.0006933170561775742\n",
      "The overall coverage for LQR is 0.5824175824175825\n",
      "Mean bandwidth on test data for LQR is 0.0002451485749766839\n",
      "The overall coverage for SplitCF is 0.8131868131868132\n",
      "Mean bandwidth on test data for SplitCF is 0.0002743049079216248\n",
      "34 th index is done!\n"
     ]
    },
    {
     "name": "stderr",
     "output_type": "stream",
     "text": [
      "/Users/mdeb/BOSTON UNIVERSITY Dropbox/Debarghya Mukherjee/Jiawei/Prediction Band/Codes/all_functions.py:304: DataConversionWarning: A column-vector y was passed when a 1d array was expected. Please change the shape of y to (n_samples,), for example using ravel().\n",
      "  var_model.fit(X, Y.reshape(-1,1))\n"
     ]
    },
    {
     "name": "stdout",
     "output_type": "stream",
     "text": [
      "The overall coverage for UTOPIA is 1.0\n",
      "Mean bandwidth on test data for UTOPIA is 0.0008089702668225754\n",
      "The overall coverage for LQR is 0.6043956043956044\n",
      "Mean bandwidth on test data for LQR is 0.0002813755035225661\n",
      "The overall coverage for SplitCF is 0.945054945054945\n",
      "Mean bandwidth on test data for SplitCF is 0.0007198481837059061\n",
      "35 th index is done!\n"
     ]
    },
    {
     "name": "stderr",
     "output_type": "stream",
     "text": [
      "/Users/mdeb/BOSTON UNIVERSITY Dropbox/Debarghya Mukherjee/Jiawei/Prediction Band/Codes/all_functions.py:304: DataConversionWarning: A column-vector y was passed when a 1d array was expected. Please change the shape of y to (n_samples,), for example using ravel().\n",
      "  var_model.fit(X, Y.reshape(-1,1))\n",
      "/Users/mdeb/anaconda3/lib/python3.10/site-packages/cvxpy/problems/problem.py:1387: UserWarning: Solution may be inaccurate. Try another solver, adjusting the solver settings, or solve with verbose=True for more information.\n",
      "  warnings.warn(\n"
     ]
    },
    {
     "name": "stdout",
     "output_type": "stream",
     "text": [
      "The overall coverage for UTOPIA is 0.989010989010989\n",
      "Mean bandwidth on test data for UTOPIA is 0.0007687014913691985\n",
      "The overall coverage for LQR is 0.5824175824175825\n",
      "Mean bandwidth on test data for LQR is 0.00027026612978239036\n",
      "The overall coverage for SplitCF is 0.8791208791208791\n",
      "Mean bandwidth on test data for SplitCF is 0.00046025043172775174\n",
      "36 th index is done!\n"
     ]
    },
    {
     "name": "stderr",
     "output_type": "stream",
     "text": [
      "/Users/mdeb/BOSTON UNIVERSITY Dropbox/Debarghya Mukherjee/Jiawei/Prediction Band/Codes/all_functions.py:304: DataConversionWarning: A column-vector y was passed when a 1d array was expected. Please change the shape of y to (n_samples,), for example using ravel().\n",
      "  var_model.fit(X, Y.reshape(-1,1))\n"
     ]
    },
    {
     "name": "stdout",
     "output_type": "stream",
     "text": [
      "The overall coverage for UTOPIA is 0.9340659340659341\n",
      "Mean bandwidth on test data for UTOPIA is 0.0007823091844591352\n",
      "The overall coverage for LQR is 0.6373626373626373\n",
      "Mean bandwidth on test data for LQR is 0.00030078956237044094\n",
      "The overall coverage for SplitCF is 0.9340659340659341\n",
      "Mean bandwidth on test data for SplitCF is 0.0007295392825473971\n",
      "37 th index is done!\n"
     ]
    },
    {
     "name": "stderr",
     "output_type": "stream",
     "text": [
      "/Users/mdeb/BOSTON UNIVERSITY Dropbox/Debarghya Mukherjee/Jiawei/Prediction Band/Codes/all_functions.py:304: DataConversionWarning: A column-vector y was passed when a 1d array was expected. Please change the shape of y to (n_samples,), for example using ravel().\n",
      "  var_model.fit(X, Y.reshape(-1,1))\n"
     ]
    },
    {
     "name": "stdout",
     "output_type": "stream",
     "text": [
      "The overall coverage for UTOPIA is 0.5384615384615384\n",
      "Mean bandwidth on test data for UTOPIA is 0.0006305399114432427\n",
      "The overall coverage for LQR is 0.6043956043956044\n",
      "Mean bandwidth on test data for LQR is 0.00035331799481091053\n",
      "The overall coverage for SplitCF is 0.9560439560439561\n",
      "Mean bandwidth on test data for SplitCF is 0.0007612011697272075\n",
      "38 th index is done!\n"
     ]
    },
    {
     "name": "stderr",
     "output_type": "stream",
     "text": [
      "/Users/mdeb/BOSTON UNIVERSITY Dropbox/Debarghya Mukherjee/Jiawei/Prediction Band/Codes/all_functions.py:304: DataConversionWarning: A column-vector y was passed when a 1d array was expected. Please change the shape of y to (n_samples,), for example using ravel().\n",
      "  var_model.fit(X, Y.reshape(-1,1))\n"
     ]
    },
    {
     "name": "stdout",
     "output_type": "stream",
     "text": [
      "The overall coverage for UTOPIA is 0.5714285714285714\n",
      "Mean bandwidth on test data for UTOPIA is 0.0005685701842856214\n",
      "The overall coverage for LQR is 0.6153846153846154\n",
      "Mean bandwidth on test data for LQR is 0.00029194449471918487\n",
      "The overall coverage for SplitCF is 0.9560439560439561\n",
      "Mean bandwidth on test data for SplitCF is 0.0006411809776978927\n",
      "39 th index is done!\n"
     ]
    },
    {
     "name": "stderr",
     "output_type": "stream",
     "text": [
      "/Users/mdeb/BOSTON UNIVERSITY Dropbox/Debarghya Mukherjee/Jiawei/Prediction Band/Codes/all_functions.py:304: DataConversionWarning: A column-vector y was passed when a 1d array was expected. Please change the shape of y to (n_samples,), for example using ravel().\n",
      "  var_model.fit(X, Y.reshape(-1,1))\n"
     ]
    },
    {
     "name": "stdout",
     "output_type": "stream",
     "text": [
      "The overall coverage for UTOPIA is 0.6703296703296703\n",
      "Mean bandwidth on test data for UTOPIA is 0.0005963773770841879\n",
      "The overall coverage for LQR is 0.6263736263736264\n",
      "Mean bandwidth on test data for LQR is 0.00032743107519887235\n",
      "The overall coverage for SplitCF is 0.945054945054945\n",
      "Mean bandwidth on test data for SplitCF is 0.0006755065038246979\n",
      "40 th index is done!\n"
     ]
    },
    {
     "name": "stderr",
     "output_type": "stream",
     "text": [
      "/Users/mdeb/BOSTON UNIVERSITY Dropbox/Debarghya Mukherjee/Jiawei/Prediction Band/Codes/all_functions.py:304: DataConversionWarning: A column-vector y was passed when a 1d array was expected. Please change the shape of y to (n_samples,), for example using ravel().\n",
      "  var_model.fit(X, Y.reshape(-1,1))\n"
     ]
    },
    {
     "name": "stdout",
     "output_type": "stream",
     "text": [
      "The overall coverage for UTOPIA is 0.8131868131868132\n",
      "Mean bandwidth on test data for UTOPIA is 0.0005589427966325179\n",
      "The overall coverage for LQR is 0.5934065934065934\n",
      "Mean bandwidth on test data for LQR is 0.00020812063917698037\n",
      "The overall coverage for SplitCF is 0.9560439560439561\n",
      "Mean bandwidth on test data for SplitCF is 0.0007231757406188992\n",
      "41 th index is done!\n"
     ]
    },
    {
     "name": "stderr",
     "output_type": "stream",
     "text": [
      "/Users/mdeb/BOSTON UNIVERSITY Dropbox/Debarghya Mukherjee/Jiawei/Prediction Band/Codes/all_functions.py:304: DataConversionWarning: A column-vector y was passed when a 1d array was expected. Please change the shape of y to (n_samples,), for example using ravel().\n",
      "  var_model.fit(X, Y.reshape(-1,1))\n"
     ]
    },
    {
     "name": "stdout",
     "output_type": "stream",
     "text": [
      "The overall coverage for UTOPIA is 0.978021978021978\n",
      "Mean bandwidth on test data for UTOPIA is 0.0009742428677782394\n",
      "The overall coverage for LQR is 0.6263736263736264\n",
      "Mean bandwidth on test data for LQR is 0.0003400354827939914\n",
      "The overall coverage for SplitCF is 0.945054945054945\n",
      "Mean bandwidth on test data for SplitCF is 0.0006303323791937844\n",
      "42 th index is done!\n"
     ]
    },
    {
     "name": "stderr",
     "output_type": "stream",
     "text": [
      "/Users/mdeb/BOSTON UNIVERSITY Dropbox/Debarghya Mukherjee/Jiawei/Prediction Band/Codes/all_functions.py:304: DataConversionWarning: A column-vector y was passed when a 1d array was expected. Please change the shape of y to (n_samples,), for example using ravel().\n",
      "  var_model.fit(X, Y.reshape(-1,1))\n"
     ]
    },
    {
     "name": "stdout",
     "output_type": "stream",
     "text": [
      "The overall coverage for UTOPIA is 1.0\n",
      "Mean bandwidth on test data for UTOPIA is 0.0005482281358486164\n",
      "The overall coverage for LQR is 0.45054945054945056\n",
      "Mean bandwidth on test data for LQR is 0.00010531284372990277\n",
      "The overall coverage for SplitCF is 0.8241758241758241\n",
      "Mean bandwidth on test data for SplitCF is 0.0014856442524732285\n",
      "43 th index is done!\n"
     ]
    },
    {
     "name": "stderr",
     "output_type": "stream",
     "text": [
      "/Users/mdeb/BOSTON UNIVERSITY Dropbox/Debarghya Mukherjee/Jiawei/Prediction Band/Codes/all_functions.py:304: DataConversionWarning: A column-vector y was passed when a 1d array was expected. Please change the shape of y to (n_samples,), for example using ravel().\n",
      "  var_model.fit(X, Y.reshape(-1,1))\n"
     ]
    },
    {
     "name": "stdout",
     "output_type": "stream",
     "text": [
      "The overall coverage for UTOPIA is 0.989010989010989\n",
      "Mean bandwidth on test data for UTOPIA is 0.0005910090281885534\n",
      "The overall coverage for LQR is 0.8791208791208791\n",
      "Mean bandwidth on test data for LQR is 0.0005475177444609484\n",
      "The overall coverage for SplitCF is 0.5824175824175825\n",
      "Mean bandwidth on test data for SplitCF is 0.0009767503726560477\n",
      "44 th index is done!\n"
     ]
    },
    {
     "name": "stderr",
     "output_type": "stream",
     "text": [
      "/Users/mdeb/BOSTON UNIVERSITY Dropbox/Debarghya Mukherjee/Jiawei/Prediction Band/Codes/all_functions.py:304: DataConversionWarning: A column-vector y was passed when a 1d array was expected. Please change the shape of y to (n_samples,), for example using ravel().\n",
      "  var_model.fit(X, Y.reshape(-1,1))\n"
     ]
    },
    {
     "name": "stdout",
     "output_type": "stream",
     "text": [
      "The overall coverage for UTOPIA is 0.5054945054945055\n",
      "Mean bandwidth on test data for UTOPIA is 70.70886266333473\n",
      "The overall coverage for LQR is 0.967032967032967\n",
      "Mean bandwidth on test data for LQR is 102.77529146983053\n",
      "The overall coverage for SplitCF is 0.5384615384615384\n",
      "Mean bandwidth on test data for SplitCF is 0.0003340080188320631\n",
      "45 th index is done!\n"
     ]
    },
    {
     "name": "stderr",
     "output_type": "stream",
     "text": [
      "/Users/mdeb/BOSTON UNIVERSITY Dropbox/Debarghya Mukherjee/Jiawei/Prediction Band/Codes/all_functions.py:304: DataConversionWarning: A column-vector y was passed when a 1d array was expected. Please change the shape of y to (n_samples,), for example using ravel().\n",
      "  var_model.fit(X, Y.reshape(-1,1))\n"
     ]
    },
    {
     "name": "stdout",
     "output_type": "stream",
     "text": [
      "The overall coverage for UTOPIA is 0.9120879120879121\n",
      "Mean bandwidth on test data for UTOPIA is 0.04302538817344384\n",
      "The overall coverage for LQR is 0.7912087912087912\n",
      "Mean bandwidth on test data for LQR is 0.018946554971319748\n",
      "The overall coverage for SplitCF is 0.8021978021978022\n",
      "Mean bandwidth on test data for SplitCF is 0.00019144920400348444\n",
      "46 th index is done!\n"
     ]
    },
    {
     "name": "stderr",
     "output_type": "stream",
     "text": [
      "/Users/mdeb/BOSTON UNIVERSITY Dropbox/Debarghya Mukherjee/Jiawei/Prediction Band/Codes/all_functions.py:304: DataConversionWarning: A column-vector y was passed when a 1d array was expected. Please change the shape of y to (n_samples,), for example using ravel().\n",
      "  var_model.fit(X, Y.reshape(-1,1))\n"
     ]
    },
    {
     "name": "stdout",
     "output_type": "stream",
     "text": [
      "The overall coverage for UTOPIA is 0.1978021978021978\n",
      "Mean bandwidth on test data for UTOPIA is 40.31098907779866\n",
      "The overall coverage for LQR is 0.989010989010989\n",
      "Mean bandwidth on test data for LQR is 61.14438957769856\n",
      "The overall coverage for SplitCF is 0.7032967032967034\n",
      "Mean bandwidth on test data for SplitCF is 0.00021815953194682084\n",
      "47 th index is done!\n"
     ]
    },
    {
     "name": "stderr",
     "output_type": "stream",
     "text": [
      "/Users/mdeb/BOSTON UNIVERSITY Dropbox/Debarghya Mukherjee/Jiawei/Prediction Band/Codes/all_functions.py:304: DataConversionWarning: A column-vector y was passed when a 1d array was expected. Please change the shape of y to (n_samples,), for example using ravel().\n",
      "  var_model.fit(X, Y.reshape(-1,1))\n"
     ]
    },
    {
     "name": "stdout",
     "output_type": "stream",
     "text": [
      "The overall coverage for UTOPIA is 1.0\n",
      "Mean bandwidth on test data for UTOPIA is 26.165095809661256\n",
      "The overall coverage for LQR is 0.0\n",
      "Mean bandwidth on test data for LQR is 2.3525688864854284\n",
      "The overall coverage for SplitCF is 0.945054945054945\n",
      "Mean bandwidth on test data for SplitCF is 0.0006686071449509334\n",
      "48 th index is done!\n"
     ]
    },
    {
     "name": "stderr",
     "output_type": "stream",
     "text": [
      "/Users/mdeb/BOSTON UNIVERSITY Dropbox/Debarghya Mukherjee/Jiawei/Prediction Band/Codes/all_functions.py:304: DataConversionWarning: A column-vector y was passed when a 1d array was expected. Please change the shape of y to (n_samples,), for example using ravel().\n",
      "  var_model.fit(X, Y.reshape(-1,1))\n"
     ]
    },
    {
     "name": "stdout",
     "output_type": "stream",
     "text": [
      "The overall coverage for UTOPIA is 1.0\n",
      "Mean bandwidth on test data for UTOPIA is 12.22224747965811\n",
      "The overall coverage for LQR is 0.13186813186813187\n",
      "Mean bandwidth on test data for LQR is 0.46968496173676005\n",
      "The overall coverage for SplitCF is 0.9560439560439561\n",
      "Mean bandwidth on test data for SplitCF is 0.0006762755823207739\n",
      "49 th index is done!\n"
     ]
    },
    {
     "name": "stderr",
     "output_type": "stream",
     "text": [
      "/Users/mdeb/BOSTON UNIVERSITY Dropbox/Debarghya Mukherjee/Jiawei/Prediction Band/Codes/all_functions.py:304: DataConversionWarning: A column-vector y was passed when a 1d array was expected. Please change the shape of y to (n_samples,), for example using ravel().\n",
      "  var_model.fit(X, Y.reshape(-1,1))\n"
     ]
    },
    {
     "name": "stdout",
     "output_type": "stream",
     "text": [
      "The overall coverage for UTOPIA is 0.989010989010989\n",
      "Mean bandwidth on test data for UTOPIA is 15.083739001175864\n",
      "The overall coverage for LQR is 0.0\n",
      "Mean bandwidth on test data for LQR is 0.1194895170185328\n",
      "The overall coverage for SplitCF is 0.5054945054945055\n",
      "Mean bandwidth on test data for SplitCF is 0.0008669605057228094\n",
      "50 th index is done!\n"
     ]
    },
    {
     "name": "stderr",
     "output_type": "stream",
     "text": [
      "/Users/mdeb/BOSTON UNIVERSITY Dropbox/Debarghya Mukherjee/Jiawei/Prediction Band/Codes/all_functions.py:304: DataConversionWarning: A column-vector y was passed when a 1d array was expected. Please change the shape of y to (n_samples,), for example using ravel().\n",
      "  var_model.fit(X, Y.reshape(-1,1))\n"
     ]
    },
    {
     "name": "stdout",
     "output_type": "stream",
     "text": [
      "The overall coverage for UTOPIA is 1.0\n",
      "Mean bandwidth on test data for UTOPIA is 19.82308126701611\n",
      "The overall coverage for LQR is 0.0\n",
      "Mean bandwidth on test data for LQR is 1.4290191810818673\n",
      "The overall coverage for SplitCF is 0.7032967032967034\n",
      "Mean bandwidth on test data for SplitCF is 0.0002480085147054279\n",
      "51 th index is done!\n"
     ]
    },
    {
     "name": "stderr",
     "output_type": "stream",
     "text": [
      "/Users/mdeb/BOSTON UNIVERSITY Dropbox/Debarghya Mukherjee/Jiawei/Prediction Band/Codes/all_functions.py:304: DataConversionWarning: A column-vector y was passed when a 1d array was expected. Please change the shape of y to (n_samples,), for example using ravel().\n",
      "  var_model.fit(X, Y.reshape(-1,1))\n"
     ]
    },
    {
     "name": "stdout",
     "output_type": "stream",
     "text": [
      "The overall coverage for UTOPIA is 1.0\n",
      "Mean bandwidth on test data for UTOPIA is 23.261227084085867\n",
      "The overall coverage for LQR is 0.0\n",
      "Mean bandwidth on test data for LQR is 0.6438202677026361\n",
      "The overall coverage for SplitCF is 0.945054945054945\n",
      "Mean bandwidth on test data for SplitCF is 0.0006762664248296909\n",
      "52 th index is done!\n"
     ]
    },
    {
     "name": "stderr",
     "output_type": "stream",
     "text": [
      "/Users/mdeb/BOSTON UNIVERSITY Dropbox/Debarghya Mukherjee/Jiawei/Prediction Band/Codes/all_functions.py:304: DataConversionWarning: A column-vector y was passed when a 1d array was expected. Please change the shape of y to (n_samples,), for example using ravel().\n",
      "  var_model.fit(X, Y.reshape(-1,1))\n"
     ]
    },
    {
     "name": "stdout",
     "output_type": "stream",
     "text": [
      "The overall coverage for UTOPIA is 1.0\n",
      "Mean bandwidth on test data for UTOPIA is 27.552667037889993\n",
      "The overall coverage for LQR is 0.0\n",
      "Mean bandwidth on test data for LQR is 1.9774564050594294\n",
      "The overall coverage for SplitCF is 0.945054945054945\n",
      "Mean bandwidth on test data for SplitCF is 0.0006672096730288273\n",
      "53 th index is done!\n"
     ]
    },
    {
     "name": "stderr",
     "output_type": "stream",
     "text": [
      "/Users/mdeb/BOSTON UNIVERSITY Dropbox/Debarghya Mukherjee/Jiawei/Prediction Band/Codes/all_functions.py:304: DataConversionWarning: A column-vector y was passed when a 1d array was expected. Please change the shape of y to (n_samples,), for example using ravel().\n",
      "  var_model.fit(X, Y.reshape(-1,1))\n"
     ]
    },
    {
     "name": "stdout",
     "output_type": "stream",
     "text": [
      "The overall coverage for UTOPIA is 1.0\n",
      "Mean bandwidth on test data for UTOPIA is 11.648016071474688\n",
      "The overall coverage for LQR is 0.08791208791208792\n",
      "Mean bandwidth on test data for LQR is 0.30302444068734286\n",
      "The overall coverage for SplitCF is 0.945054945054945\n",
      "Mean bandwidth on test data for SplitCF is 0.0006742679924512673\n",
      "54 th index is done!\n"
     ]
    },
    {
     "name": "stderr",
     "output_type": "stream",
     "text": [
      "/Users/mdeb/BOSTON UNIVERSITY Dropbox/Debarghya Mukherjee/Jiawei/Prediction Band/Codes/all_functions.py:304: DataConversionWarning: A column-vector y was passed when a 1d array was expected. Please change the shape of y to (n_samples,), for example using ravel().\n",
      "  var_model.fit(X, Y.reshape(-1,1))\n"
     ]
    },
    {
     "name": "stdout",
     "output_type": "stream",
     "text": [
      "The overall coverage for UTOPIA is 1.0\n",
      "Mean bandwidth on test data for UTOPIA is 27.71900368539246\n",
      "The overall coverage for LQR is 0.01098901098901099\n",
      "Mean bandwidth on test data for LQR is 0.1649204215107108\n",
      "The overall coverage for SplitCF is 0.5604395604395604\n",
      "Mean bandwidth on test data for SplitCF is 0.0006844385202958828\n",
      "55 th index is done!\n"
     ]
    },
    {
     "name": "stderr",
     "output_type": "stream",
     "text": [
      "/Users/mdeb/BOSTON UNIVERSITY Dropbox/Debarghya Mukherjee/Jiawei/Prediction Band/Codes/all_functions.py:304: DataConversionWarning: A column-vector y was passed when a 1d array was expected. Please change the shape of y to (n_samples,), for example using ravel().\n",
      "  var_model.fit(X, Y.reshape(-1,1))\n"
     ]
    },
    {
     "name": "stdout",
     "output_type": "stream",
     "text": [
      "The overall coverage for UTOPIA is 1.0\n",
      "Mean bandwidth on test data for UTOPIA is 20.386855353672868\n",
      "The overall coverage for LQR is 0.0\n",
      "Mean bandwidth on test data for LQR is 1.0676072660603277\n",
      "The overall coverage for SplitCF is 0.7032967032967034\n",
      "Mean bandwidth on test data for SplitCF is 0.0002505549121966964\n",
      "56 th index is done!\n"
     ]
    },
    {
     "name": "stderr",
     "output_type": "stream",
     "text": [
      "/Users/mdeb/BOSTON UNIVERSITY Dropbox/Debarghya Mukherjee/Jiawei/Prediction Band/Codes/all_functions.py:304: DataConversionWarning: A column-vector y was passed when a 1d array was expected. Please change the shape of y to (n_samples,), for example using ravel().\n",
      "  var_model.fit(X, Y.reshape(-1,1))\n"
     ]
    },
    {
     "name": "stdout",
     "output_type": "stream",
     "text": [
      "The overall coverage for UTOPIA is 1.0\n",
      "Mean bandwidth on test data for UTOPIA is 24.315383824815186\n",
      "The overall coverage for LQR is 0.0\n",
      "Mean bandwidth on test data for LQR is 0.22323654489423378\n",
      "The overall coverage for SplitCF is 0.945054945054945\n",
      "Mean bandwidth on test data for SplitCF is 0.0006892589404630218\n",
      "57 th index is done!\n"
     ]
    },
    {
     "name": "stderr",
     "output_type": "stream",
     "text": [
      "/Users/mdeb/BOSTON UNIVERSITY Dropbox/Debarghya Mukherjee/Jiawei/Prediction Band/Codes/all_functions.py:304: DataConversionWarning: A column-vector y was passed when a 1d array was expected. Please change the shape of y to (n_samples,), for example using ravel().\n",
      "  var_model.fit(X, Y.reshape(-1,1))\n"
     ]
    },
    {
     "name": "stdout",
     "output_type": "stream",
     "text": [
      "The overall coverage for UTOPIA is 0.8791208791208791\n",
      "Mean bandwidth on test data for UTOPIA is 0.003056415054775972\n",
      "The overall coverage for LQR is 0.8571428571428571\n",
      "Mean bandwidth on test data for LQR is 0.0013502465410827262\n",
      "The overall coverage for SplitCF is 0.7252747252747253\n",
      "Mean bandwidth on test data for SplitCF is 0.00021066445543248272\n",
      "58 th index is done!\n"
     ]
    },
    {
     "name": "stderr",
     "output_type": "stream",
     "text": [
      "/Users/mdeb/BOSTON UNIVERSITY Dropbox/Debarghya Mukherjee/Jiawei/Prediction Band/Codes/all_functions.py:304: DataConversionWarning: A column-vector y was passed when a 1d array was expected. Please change the shape of y to (n_samples,), for example using ravel().\n",
      "  var_model.fit(X, Y.reshape(-1,1))\n"
     ]
    },
    {
     "name": "stdout",
     "output_type": "stream",
     "text": [
      "The overall coverage for UTOPIA is 0.8131868131868132\n",
      "Mean bandwidth on test data for UTOPIA is 0.009321516260401652\n",
      "The overall coverage for LQR is 0.5164835164835165\n",
      "Mean bandwidth on test data for LQR is 0.004062192700798431\n",
      "The overall coverage for SplitCF is 0.7692307692307693\n",
      "Mean bandwidth on test data for SplitCF is 0.00021412407800145078\n",
      "59 th index is done!\n"
     ]
    },
    {
     "name": "stderr",
     "output_type": "stream",
     "text": [
      "/Users/mdeb/BOSTON UNIVERSITY Dropbox/Debarghya Mukherjee/Jiawei/Prediction Band/Codes/all_functions.py:304: DataConversionWarning: A column-vector y was passed when a 1d array was expected. Please change the shape of y to (n_samples,), for example using ravel().\n",
      "  var_model.fit(X, Y.reshape(-1,1))\n",
      "/Users/mdeb/anaconda3/lib/python3.10/site-packages/cvxpy/problems/problem.py:1387: UserWarning: Solution may be inaccurate. Try another solver, adjusting the solver settings, or solve with verbose=True for more information.\n",
      "  warnings.warn(\n"
     ]
    },
    {
     "name": "stdout",
     "output_type": "stream",
     "text": [
      "The overall coverage for UTOPIA is 0.978021978021978\n",
      "Mean bandwidth on test data for UTOPIA is 0.0022821652982550015\n",
      "The overall coverage for LQR is 0.7692307692307693\n",
      "Mean bandwidth on test data for LQR is 0.0005087305006380067\n",
      "The overall coverage for SplitCF is 0.8901098901098901\n",
      "Mean bandwidth on test data for SplitCF is 0.0002660485766956167\n",
      "60 th index is done!\n"
     ]
    },
    {
     "name": "stderr",
     "output_type": "stream",
     "text": [
      "/Users/mdeb/BOSTON UNIVERSITY Dropbox/Debarghya Mukherjee/Jiawei/Prediction Band/Codes/all_functions.py:304: DataConversionWarning: A column-vector y was passed when a 1d array was expected. Please change the shape of y to (n_samples,), for example using ravel().\n",
      "  var_model.fit(X, Y.reshape(-1,1))\n"
     ]
    },
    {
     "name": "stdout",
     "output_type": "stream",
     "text": [
      "The overall coverage for UTOPIA is 0.978021978021978\n",
      "Mean bandwidth on test data for UTOPIA is 0.00229536412508005\n",
      "The overall coverage for LQR is 0.8131868131868132\n",
      "Mean bandwidth on test data for LQR is 0.0005372286611961776\n",
      "The overall coverage for SplitCF is 0.9560439560439561\n",
      "Mean bandwidth on test data for SplitCF is 0.000750515290489224\n",
      "61 th index is done!\n"
     ]
    },
    {
     "name": "stderr",
     "output_type": "stream",
     "text": [
      "/Users/mdeb/BOSTON UNIVERSITY Dropbox/Debarghya Mukherjee/Jiawei/Prediction Band/Codes/all_functions.py:304: DataConversionWarning: A column-vector y was passed when a 1d array was expected. Please change the shape of y to (n_samples,), for example using ravel().\n",
      "  var_model.fit(X, Y.reshape(-1,1))\n"
     ]
    },
    {
     "name": "stdout",
     "output_type": "stream",
     "text": [
      "The overall coverage for UTOPIA is 0.967032967032967\n",
      "Mean bandwidth on test data for UTOPIA is 0.008365615838607626\n",
      "The overall coverage for LQR is 0.7692307692307693\n",
      "Mean bandwidth on test data for LQR is 0.0008139119505515869\n",
      "The overall coverage for SplitCF is 0.9560439560439561\n",
      "Mean bandwidth on test data for SplitCF is 0.000743043142455002\n",
      "62 th index is done!\n"
     ]
    },
    {
     "name": "stderr",
     "output_type": "stream",
     "text": [
      "/Users/mdeb/BOSTON UNIVERSITY Dropbox/Debarghya Mukherjee/Jiawei/Prediction Band/Codes/all_functions.py:304: DataConversionWarning: A column-vector y was passed when a 1d array was expected. Please change the shape of y to (n_samples,), for example using ravel().\n",
      "  var_model.fit(X, Y.reshape(-1,1))\n"
     ]
    },
    {
     "name": "stdout",
     "output_type": "stream",
     "text": [
      "The overall coverage for UTOPIA is 0.989010989010989\n",
      "Mean bandwidth on test data for UTOPIA is 0.0036353863330402005\n",
      "The overall coverage for LQR is 0.7802197802197802\n",
      "Mean bandwidth on test data for LQR is 0.0006875027811749799\n",
      "The overall coverage for SplitCF is 0.8791208791208791\n",
      "Mean bandwidth on test data for SplitCF is 0.0002483330104556927\n",
      "63 th index is done!\n"
     ]
    },
    {
     "name": "stderr",
     "output_type": "stream",
     "text": [
      "/Users/mdeb/BOSTON UNIVERSITY Dropbox/Debarghya Mukherjee/Jiawei/Prediction Band/Codes/all_functions.py:304: DataConversionWarning: A column-vector y was passed when a 1d array was expected. Please change the shape of y to (n_samples,), for example using ravel().\n",
      "  var_model.fit(X, Y.reshape(-1,1))\n"
     ]
    },
    {
     "name": "stdout",
     "output_type": "stream",
     "text": [
      "The overall coverage for UTOPIA is 0.7362637362637363\n",
      "Mean bandwidth on test data for UTOPIA is 0.0005298211154275275\n",
      "The overall coverage for LQR is 0.5824175824175825\n",
      "Mean bandwidth on test data for LQR is 0.0002236432739798171\n",
      "The overall coverage for SplitCF is 0.7692307692307693\n",
      "Mean bandwidth on test data for SplitCF is 0.0001975307210242481\n",
      "64 th index is done!\n"
     ]
    },
    {
     "name": "stderr",
     "output_type": "stream",
     "text": [
      "/Users/mdeb/BOSTON UNIVERSITY Dropbox/Debarghya Mukherjee/Jiawei/Prediction Band/Codes/all_functions.py:304: DataConversionWarning: A column-vector y was passed when a 1d array was expected. Please change the shape of y to (n_samples,), for example using ravel().\n",
      "  var_model.fit(X, Y.reshape(-1,1))\n"
     ]
    },
    {
     "name": "stdout",
     "output_type": "stream",
     "text": [
      "The overall coverage for UTOPIA is 1.0\n",
      "Mean bandwidth on test data for UTOPIA is 0.0012265359861242363\n",
      "The overall coverage for LQR is 0.7032967032967034\n",
      "Mean bandwidth on test data for LQR is 0.00037318067088179605\n",
      "The overall coverage for SplitCF is 0.46153846153846156\n",
      "Mean bandwidth on test data for SplitCF is 0.001556509108163123\n",
      "65 th index is done!\n"
     ]
    },
    {
     "name": "stderr",
     "output_type": "stream",
     "text": [
      "/Users/mdeb/BOSTON UNIVERSITY Dropbox/Debarghya Mukherjee/Jiawei/Prediction Band/Codes/all_functions.py:304: DataConversionWarning: A column-vector y was passed when a 1d array was expected. Please change the shape of y to (n_samples,), for example using ravel().\n",
      "  var_model.fit(X, Y.reshape(-1,1))\n"
     ]
    },
    {
     "name": "stdout",
     "output_type": "stream",
     "text": [
      "The overall coverage for UTOPIA is 0.9340659340659341\n",
      "Mean bandwidth on test data for UTOPIA is 0.003876573126811688\n",
      "The overall coverage for LQR is 0.8021978021978022\n",
      "Mean bandwidth on test data for LQR is 0.0009775010659856334\n",
      "The overall coverage for SplitCF is 0.7912087912087912\n",
      "Mean bandwidth on test data for SplitCF is 0.0002428503229293065\n",
      "66 th index is done!\n"
     ]
    },
    {
     "name": "stderr",
     "output_type": "stream",
     "text": [
      "/Users/mdeb/BOSTON UNIVERSITY Dropbox/Debarghya Mukherjee/Jiawei/Prediction Band/Codes/all_functions.py:304: DataConversionWarning: A column-vector y was passed when a 1d array was expected. Please change the shape of y to (n_samples,), for example using ravel().\n",
      "  var_model.fit(X, Y.reshape(-1,1))\n"
     ]
    },
    {
     "name": "stdout",
     "output_type": "stream",
     "text": [
      "The overall coverage for UTOPIA is 1.0\n",
      "Mean bandwidth on test data for UTOPIA is 0.0030632858855642368\n",
      "The overall coverage for LQR is 0.978021978021978\n",
      "Mean bandwidth on test data for LQR is 0.0023213051233584403\n",
      "The overall coverage for SplitCF is 0.6373626373626373\n",
      "Mean bandwidth on test data for SplitCF is 0.00031768723672693247\n",
      "67 th index is done!\n"
     ]
    },
    {
     "name": "stderr",
     "output_type": "stream",
     "text": [
      "/Users/mdeb/BOSTON UNIVERSITY Dropbox/Debarghya Mukherjee/Jiawei/Prediction Band/Codes/all_functions.py:304: DataConversionWarning: A column-vector y was passed when a 1d array was expected. Please change the shape of y to (n_samples,), for example using ravel().\n",
      "  var_model.fit(X, Y.reshape(-1,1))\n"
     ]
    },
    {
     "name": "stdout",
     "output_type": "stream",
     "text": [
      "The overall coverage for UTOPIA is 1.0\n",
      "Mean bandwidth on test data for UTOPIA is 0.015036115151541301\n",
      "The overall coverage for LQR is 0.7032967032967034\n",
      "Mean bandwidth on test data for LQR is 0.0007647086294527882\n",
      "The overall coverage for SplitCF is 0.8571428571428571\n",
      "Mean bandwidth on test data for SplitCF is 0.00022160355909814223\n",
      "68 th index is done!\n"
     ]
    },
    {
     "name": "stderr",
     "output_type": "stream",
     "text": [
      "/Users/mdeb/BOSTON UNIVERSITY Dropbox/Debarghya Mukherjee/Jiawei/Prediction Band/Codes/all_functions.py:304: DataConversionWarning: A column-vector y was passed when a 1d array was expected. Please change the shape of y to (n_samples,), for example using ravel().\n",
      "  var_model.fit(X, Y.reshape(-1,1))\n"
     ]
    },
    {
     "name": "stdout",
     "output_type": "stream",
     "text": [
      "The overall coverage for UTOPIA is 0.8021978021978022\n",
      "Mean bandwidth on test data for UTOPIA is 0.0006434907414893666\n",
      "The overall coverage for LQR is 0.7252747252747253\n",
      "Mean bandwidth on test data for LQR is 0.00046293751311469886\n",
      "The overall coverage for SplitCF is 0.5934065934065934\n",
      "Mean bandwidth on test data for SplitCF is 0.0003629585163181055\n",
      "69 th index is done!\n"
     ]
    },
    {
     "name": "stderr",
     "output_type": "stream",
     "text": [
      "/Users/mdeb/BOSTON UNIVERSITY Dropbox/Debarghya Mukherjee/Jiawei/Prediction Band/Codes/all_functions.py:304: DataConversionWarning: A column-vector y was passed when a 1d array was expected. Please change the shape of y to (n_samples,), for example using ravel().\n",
      "  var_model.fit(X, Y.reshape(-1,1))\n"
     ]
    },
    {
     "name": "stdout",
     "output_type": "stream",
     "text": [
      "The overall coverage for UTOPIA is 0.8241758241758241\n",
      "Mean bandwidth on test data for UTOPIA is 0.0007687119110162189\n",
      "The overall coverage for LQR is 0.7692307692307693\n",
      "Mean bandwidth on test data for LQR is 0.00055688387153884\n",
      "The overall coverage for SplitCF is 0.8131868131868132\n",
      "Mean bandwidth on test data for SplitCF is 0.00017589674761577662\n",
      "70 th index is done!\n"
     ]
    },
    {
     "name": "stderr",
     "output_type": "stream",
     "text": [
      "/Users/mdeb/BOSTON UNIVERSITY Dropbox/Debarghya Mukherjee/Jiawei/Prediction Band/Codes/all_functions.py:304: DataConversionWarning: A column-vector y was passed when a 1d array was expected. Please change the shape of y to (n_samples,), for example using ravel().\n",
      "  var_model.fit(X, Y.reshape(-1,1))\n"
     ]
    },
    {
     "name": "stdout",
     "output_type": "stream",
     "text": [
      "The overall coverage for UTOPIA is 0.6923076923076923\n",
      "Mean bandwidth on test data for UTOPIA is 0.000690780012045492\n",
      "The overall coverage for LQR is 0.8241758241758241\n",
      "Mean bandwidth on test data for LQR is 0.0004904923249623977\n",
      "The overall coverage for SplitCF is 0.9230769230769231\n",
      "Mean bandwidth on test data for SplitCF is 0.0004621719953833017\n",
      "71 th index is done!\n"
     ]
    },
    {
     "name": "stderr",
     "output_type": "stream",
     "text": [
      "/Users/mdeb/BOSTON UNIVERSITY Dropbox/Debarghya Mukherjee/Jiawei/Prediction Band/Codes/all_functions.py:304: DataConversionWarning: A column-vector y was passed when a 1d array was expected. Please change the shape of y to (n_samples,), for example using ravel().\n",
      "  var_model.fit(X, Y.reshape(-1,1))\n"
     ]
    },
    {
     "name": "stdout",
     "output_type": "stream",
     "text": [
      "The overall coverage for UTOPIA is 0.967032967032967\n",
      "Mean bandwidth on test data for UTOPIA is 0.0005539044253482471\n",
      "The overall coverage for LQR is 0.6153846153846154\n",
      "Mean bandwidth on test data for LQR is 0.00029188481584708576\n",
      "The overall coverage for SplitCF is 0.9560439560439561\n",
      "Mean bandwidth on test data for SplitCF is 0.0008761359672152674\n",
      "72 th index is done!\n"
     ]
    },
    {
     "name": "stderr",
     "output_type": "stream",
     "text": [
      "/Users/mdeb/BOSTON UNIVERSITY Dropbox/Debarghya Mukherjee/Jiawei/Prediction Band/Codes/all_functions.py:304: DataConversionWarning: A column-vector y was passed when a 1d array was expected. Please change the shape of y to (n_samples,), for example using ravel().\n",
      "  var_model.fit(X, Y.reshape(-1,1))\n"
     ]
    },
    {
     "name": "stdout",
     "output_type": "stream",
     "text": [
      "The overall coverage for UTOPIA is 0.989010989010989\n",
      "Mean bandwidth on test data for UTOPIA is 0.0015159200102817507\n",
      "The overall coverage for LQR is 0.7032967032967034\n",
      "Mean bandwidth on test data for LQR is 0.0003892057132287362\n",
      "The overall coverage for SplitCF is 0.7032967032967034\n",
      "Mean bandwidth on test data for SplitCF is 0.0007204334330154729\n",
      "73 th index is done!\n"
     ]
    },
    {
     "name": "stderr",
     "output_type": "stream",
     "text": [
      "/Users/mdeb/BOSTON UNIVERSITY Dropbox/Debarghya Mukherjee/Jiawei/Prediction Band/Codes/all_functions.py:304: DataConversionWarning: A column-vector y was passed when a 1d array was expected. Please change the shape of y to (n_samples,), for example using ravel().\n",
      "  var_model.fit(X, Y.reshape(-1,1))\n"
     ]
    },
    {
     "name": "stdout",
     "output_type": "stream",
     "text": [
      "The overall coverage for UTOPIA is 0.9560439560439561\n",
      "Mean bandwidth on test data for UTOPIA is 0.0012440749015276773\n",
      "The overall coverage for LQR is 0.7802197802197802\n",
      "Mean bandwidth on test data for LQR is 0.0004903609346897294\n",
      "The overall coverage for SplitCF is 0.8241758241758241\n",
      "Mean bandwidth on test data for SplitCF is 0.00014209548062405595\n",
      "74 th index is done!\n"
     ]
    },
    {
     "name": "stderr",
     "output_type": "stream",
     "text": [
      "/Users/mdeb/BOSTON UNIVERSITY Dropbox/Debarghya Mukherjee/Jiawei/Prediction Band/Codes/all_functions.py:304: DataConversionWarning: A column-vector y was passed when a 1d array was expected. Please change the shape of y to (n_samples,), for example using ravel().\n",
      "  var_model.fit(X, Y.reshape(-1,1))\n"
     ]
    },
    {
     "name": "stdout",
     "output_type": "stream",
     "text": [
      "The overall coverage for UTOPIA is 1.0\n",
      "Mean bandwidth on test data for UTOPIA is 0.04136403330001768\n",
      "The overall coverage for LQR is 0.6153846153846154\n",
      "Mean bandwidth on test data for LQR is 0.00164080939547755\n",
      "The overall coverage for SplitCF is 0.8791208791208791\n",
      "Mean bandwidth on test data for SplitCF is 0.00034908201642551504\n",
      "75 th index is done!\n"
     ]
    },
    {
     "name": "stderr",
     "output_type": "stream",
     "text": [
      "/Users/mdeb/BOSTON UNIVERSITY Dropbox/Debarghya Mukherjee/Jiawei/Prediction Band/Codes/all_functions.py:304: DataConversionWarning: A column-vector y was passed when a 1d array was expected. Please change the shape of y to (n_samples,), for example using ravel().\n",
      "  var_model.fit(X, Y.reshape(-1,1))\n"
     ]
    },
    {
     "name": "stdout",
     "output_type": "stream",
     "text": [
      "The overall coverage for UTOPIA is 1.0\n",
      "Mean bandwidth on test data for UTOPIA is 0.02381017320276644\n",
      "The overall coverage for LQR is 0.989010989010989\n",
      "Mean bandwidth on test data for LQR is 0.015470276825021919\n",
      "The overall coverage for SplitCF is 0.8131868131868132\n",
      "Mean bandwidth on test data for SplitCF is 0.0003058220238076057\n",
      "76 th index is done!\n"
     ]
    },
    {
     "name": "stderr",
     "output_type": "stream",
     "text": [
      "/Users/mdeb/BOSTON UNIVERSITY Dropbox/Debarghya Mukherjee/Jiawei/Prediction Band/Codes/all_functions.py:304: DataConversionWarning: A column-vector y was passed when a 1d array was expected. Please change the shape of y to (n_samples,), for example using ravel().\n",
      "  var_model.fit(X, Y.reshape(-1,1))\n"
     ]
    },
    {
     "name": "stdout",
     "output_type": "stream",
     "text": [
      "The overall coverage for UTOPIA is 0.8791208791208791\n",
      "Mean bandwidth on test data for UTOPIA is 0.008795045225265696\n",
      "The overall coverage for LQR is 0.5934065934065934\n",
      "Mean bandwidth on test data for LQR is 0.005177505072766571\n",
      "The overall coverage for SplitCF is 0.46153846153846156\n",
      "Mean bandwidth on test data for SplitCF is 0.0008951985989292618\n",
      "77 th index is done!\n"
     ]
    },
    {
     "name": "stderr",
     "output_type": "stream",
     "text": [
      "/Users/mdeb/BOSTON UNIVERSITY Dropbox/Debarghya Mukherjee/Jiawei/Prediction Band/Codes/all_functions.py:304: DataConversionWarning: A column-vector y was passed when a 1d array was expected. Please change the shape of y to (n_samples,), for example using ravel().\n",
      "  var_model.fit(X, Y.reshape(-1,1))\n"
     ]
    },
    {
     "name": "stdout",
     "output_type": "stream",
     "text": [
      "The overall coverage for UTOPIA is 0.989010989010989\n",
      "Mean bandwidth on test data for UTOPIA is 0.05359510924523084\n",
      "The overall coverage for LQR is 0.6043956043956044\n",
      "Mean bandwidth on test data for LQR is 0.004667471381822148\n",
      "The overall coverage for SplitCF is 0.5164835164835165\n",
      "Mean bandwidth on test data for SplitCF is 0.0013006118839685326\n",
      "78 th index is done!\n"
     ]
    },
    {
     "name": "stderr",
     "output_type": "stream",
     "text": [
      "/Users/mdeb/BOSTON UNIVERSITY Dropbox/Debarghya Mukherjee/Jiawei/Prediction Band/Codes/all_functions.py:304: DataConversionWarning: A column-vector y was passed when a 1d array was expected. Please change the shape of y to (n_samples,), for example using ravel().\n",
      "  var_model.fit(X, Y.reshape(-1,1))\n"
     ]
    },
    {
     "name": "stdout",
     "output_type": "stream",
     "text": [
      "The overall coverage for UTOPIA is 1.0\n",
      "Mean bandwidth on test data for UTOPIA is 0.01710088708416916\n",
      "The overall coverage for LQR is 0.5604395604395604\n",
      "Mean bandwidth on test data for LQR is 0.0030374549334886087\n",
      "The overall coverage for SplitCF is 0.6153846153846154\n",
      "Mean bandwidth on test data for SplitCF is 0.0006748032951092316\n",
      "79 th index is done!\n"
     ]
    },
    {
     "name": "stderr",
     "output_type": "stream",
     "text": [
      "/Users/mdeb/BOSTON UNIVERSITY Dropbox/Debarghya Mukherjee/Jiawei/Prediction Band/Codes/all_functions.py:304: DataConversionWarning: A column-vector y was passed when a 1d array was expected. Please change the shape of y to (n_samples,), for example using ravel().\n",
      "  var_model.fit(X, Y.reshape(-1,1))\n"
     ]
    },
    {
     "name": "stdout",
     "output_type": "stream",
     "text": [
      "The overall coverage for UTOPIA is 0.9010989010989011\n",
      "Mean bandwidth on test data for UTOPIA is 0.0023594937072128706\n",
      "The overall coverage for LQR is 0.6263736263736264\n",
      "Mean bandwidth on test data for LQR is 0.0008660639982174471\n",
      "The overall coverage for SplitCF is 0.5714285714285714\n",
      "Mean bandwidth on test data for SplitCF is 0.0009284994891932426\n",
      "80 th index is done!\n"
     ]
    },
    {
     "name": "stderr",
     "output_type": "stream",
     "text": [
      "/Users/mdeb/BOSTON UNIVERSITY Dropbox/Debarghya Mukherjee/Jiawei/Prediction Band/Codes/all_functions.py:304: DataConversionWarning: A column-vector y was passed when a 1d array was expected. Please change the shape of y to (n_samples,), for example using ravel().\n",
      "  var_model.fit(X, Y.reshape(-1,1))\n"
     ]
    },
    {
     "name": "stdout",
     "output_type": "stream",
     "text": [
      "The overall coverage for UTOPIA is 0.967032967032967\n",
      "Mean bandwidth on test data for UTOPIA is 0.016967612253301595\n",
      "The overall coverage for LQR is 0.7472527472527473\n",
      "Mean bandwidth on test data for LQR is 0.002922228029398908\n",
      "The overall coverage for SplitCF is 0.5384615384615384\n",
      "Mean bandwidth on test data for SplitCF is 0.0007848847994285834\n",
      "81 th index is done!\n"
     ]
    },
    {
     "name": "stderr",
     "output_type": "stream",
     "text": [
      "/Users/mdeb/BOSTON UNIVERSITY Dropbox/Debarghya Mukherjee/Jiawei/Prediction Band/Codes/all_functions.py:304: DataConversionWarning: A column-vector y was passed when a 1d array was expected. Please change the shape of y to (n_samples,), for example using ravel().\n",
      "  var_model.fit(X, Y.reshape(-1,1))\n"
     ]
    },
    {
     "name": "stdout",
     "output_type": "stream",
     "text": [
      "The overall coverage for UTOPIA is 1.0\n",
      "Mean bandwidth on test data for UTOPIA is 0.021726868060205053\n",
      "The overall coverage for LQR is 0.8791208791208791\n",
      "Mean bandwidth on test data for LQR is 0.01228320588004433\n",
      "The overall coverage for SplitCF is 0.42857142857142855\n",
      "Mean bandwidth on test data for SplitCF is 0.0013641142048149617\n",
      "82 th index is done!\n"
     ]
    },
    {
     "name": "stderr",
     "output_type": "stream",
     "text": [
      "/Users/mdeb/BOSTON UNIVERSITY Dropbox/Debarghya Mukherjee/Jiawei/Prediction Band/Codes/all_functions.py:304: DataConversionWarning: A column-vector y was passed when a 1d array was expected. Please change the shape of y to (n_samples,), for example using ravel().\n",
      "  var_model.fit(X, Y.reshape(-1,1))\n"
     ]
    },
    {
     "name": "stdout",
     "output_type": "stream",
     "text": [
      "The overall coverage for UTOPIA is 0.989010989010989\n",
      "Mean bandwidth on test data for UTOPIA is 0.03640618700092621\n",
      "The overall coverage for LQR is 0.8021978021978022\n",
      "Mean bandwidth on test data for LQR is 0.006639511218665251\n",
      "The overall coverage for SplitCF is 0.5384615384615384\n",
      "Mean bandwidth on test data for SplitCF is 0.0012111315068112764\n",
      "83 th index is done!\n"
     ]
    },
    {
     "name": "stderr",
     "output_type": "stream",
     "text": [
      "/Users/mdeb/BOSTON UNIVERSITY Dropbox/Debarghya Mukherjee/Jiawei/Prediction Band/Codes/all_functions.py:304: DataConversionWarning: A column-vector y was passed when a 1d array was expected. Please change the shape of y to (n_samples,), for example using ravel().\n",
      "  var_model.fit(X, Y.reshape(-1,1))\n"
     ]
    },
    {
     "name": "stdout",
     "output_type": "stream",
     "text": [
      "The overall coverage for UTOPIA is 0.989010989010989\n",
      "Mean bandwidth on test data for UTOPIA is 0.018263758562953265\n",
      "The overall coverage for LQR is 0.7472527472527473\n",
      "Mean bandwidth on test data for LQR is 0.006171032690104151\n",
      "The overall coverage for SplitCF is 0.43956043956043955\n",
      "Mean bandwidth on test data for SplitCF is 0.0011474413635010252\n",
      "84 th index is done!\n"
     ]
    },
    {
     "name": "stderr",
     "output_type": "stream",
     "text": [
      "/Users/mdeb/BOSTON UNIVERSITY Dropbox/Debarghya Mukherjee/Jiawei/Prediction Band/Codes/all_functions.py:304: DataConversionWarning: A column-vector y was passed when a 1d array was expected. Please change the shape of y to (n_samples,), for example using ravel().\n",
      "  var_model.fit(X, Y.reshape(-1,1))\n"
     ]
    },
    {
     "name": "stdout",
     "output_type": "stream",
     "text": [
      "The overall coverage for UTOPIA is 1.0\n",
      "Mean bandwidth on test data for UTOPIA is 0.06686971982426367\n",
      "The overall coverage for LQR is 0.9230769230769231\n",
      "Mean bandwidth on test data for LQR is 0.018818112038202352\n",
      "The overall coverage for SplitCF is 0.5274725274725275\n",
      "Mean bandwidth on test data for SplitCF is 0.0002733486187376959\n",
      "85 th index is done!\n"
     ]
    },
    {
     "name": "stderr",
     "output_type": "stream",
     "text": [
      "/Users/mdeb/BOSTON UNIVERSITY Dropbox/Debarghya Mukherjee/Jiawei/Prediction Band/Codes/all_functions.py:304: DataConversionWarning: A column-vector y was passed when a 1d array was expected. Please change the shape of y to (n_samples,), for example using ravel().\n",
      "  var_model.fit(X, Y.reshape(-1,1))\n"
     ]
    },
    {
     "name": "stdout",
     "output_type": "stream",
     "text": [
      "The overall coverage for UTOPIA is 1.0\n",
      "Mean bandwidth on test data for UTOPIA is 0.4293548390770994\n",
      "The overall coverage for LQR is 1.0\n",
      "Mean bandwidth on test data for LQR is 0.28440248637160404\n",
      "The overall coverage for SplitCF is 0.8021978021978022\n",
      "Mean bandwidth on test data for SplitCF is 0.00944245914471207\n",
      "86 th index is done!\n"
     ]
    },
    {
     "name": "stderr",
     "output_type": "stream",
     "text": [
      "/Users/mdeb/BOSTON UNIVERSITY Dropbox/Debarghya Mukherjee/Jiawei/Prediction Band/Codes/all_functions.py:304: DataConversionWarning: A column-vector y was passed when a 1d array was expected. Please change the shape of y to (n_samples,), for example using ravel().\n",
      "  var_model.fit(X, Y.reshape(-1,1))\n"
     ]
    },
    {
     "name": "stdout",
     "output_type": "stream",
     "text": [
      "The overall coverage for UTOPIA is 1.0\n",
      "Mean bandwidth on test data for UTOPIA is 0.060066141303493525\n",
      "The overall coverage for LQR is 0.21978021978021978\n",
      "Mean bandwidth on test data for LQR is 0.0014833305539186199\n",
      "The overall coverage for SplitCF is 0.7802197802197802\n",
      "Mean bandwidth on test data for SplitCF is 0.00675401845587222\n",
      "87 th index is done!\n"
     ]
    },
    {
     "name": "stderr",
     "output_type": "stream",
     "text": [
      "/Users/mdeb/BOSTON UNIVERSITY Dropbox/Debarghya Mukherjee/Jiawei/Prediction Band/Codes/all_functions.py:304: DataConversionWarning: A column-vector y was passed when a 1d array was expected. Please change the shape of y to (n_samples,), for example using ravel().\n",
      "  var_model.fit(X, Y.reshape(-1,1))\n"
     ]
    },
    {
     "name": "stdout",
     "output_type": "stream",
     "text": [
      "The overall coverage for UTOPIA is 1.0\n",
      "Mean bandwidth on test data for UTOPIA is 0.10294329647861088\n",
      "The overall coverage for LQR is 0.3516483516483517\n",
      "Mean bandwidth on test data for LQR is 0.0018319442241567809\n",
      "The overall coverage for SplitCF is 0.7802197802197802\n",
      "Mean bandwidth on test data for SplitCF is 0.007948228191650074\n",
      "88 th index is done!\n"
     ]
    },
    {
     "name": "stderr",
     "output_type": "stream",
     "text": [
      "/Users/mdeb/BOSTON UNIVERSITY Dropbox/Debarghya Mukherjee/Jiawei/Prediction Band/Codes/all_functions.py:304: DataConversionWarning: A column-vector y was passed when a 1d array was expected. Please change the shape of y to (n_samples,), for example using ravel().\n",
      "  var_model.fit(X, Y.reshape(-1,1))\n"
     ]
    },
    {
     "name": "stdout",
     "output_type": "stream",
     "text": [
      "The overall coverage for UTOPIA is 0.9230769230769231\n",
      "Mean bandwidth on test data for UTOPIA is 0.03929896186205564\n",
      "The overall coverage for LQR is 0.23076923076923078\n",
      "Mean bandwidth on test data for LQR is 0.0010950072861687077\n",
      "The overall coverage for SplitCF is 0.8901098901098901\n",
      "Mean bandwidth on test data for SplitCF is 0.0033054970179510444\n",
      "89 th index is done!\n"
     ]
    },
    {
     "name": "stderr",
     "output_type": "stream",
     "text": [
      "/Users/mdeb/BOSTON UNIVERSITY Dropbox/Debarghya Mukherjee/Jiawei/Prediction Band/Codes/all_functions.py:304: DataConversionWarning: A column-vector y was passed when a 1d array was expected. Please change the shape of y to (n_samples,), for example using ravel().\n",
      "  var_model.fit(X, Y.reshape(-1,1))\n"
     ]
    },
    {
     "name": "stdout",
     "output_type": "stream",
     "text": [
      "The overall coverage for UTOPIA is 1.0\n",
      "Mean bandwidth on test data for UTOPIA is 0.6059385788487014\n",
      "The overall coverage for LQR is 0.6703296703296703\n",
      "Mean bandwidth on test data for LQR is 0.07706816849691608\n",
      "The overall coverage for SplitCF is 0.8241758241758241\n",
      "Mean bandwidth on test data for SplitCF is 0.015307148071240303\n",
      "90 th index is done!\n"
     ]
    },
    {
     "name": "stderr",
     "output_type": "stream",
     "text": [
      "/Users/mdeb/BOSTON UNIVERSITY Dropbox/Debarghya Mukherjee/Jiawei/Prediction Band/Codes/all_functions.py:304: DataConversionWarning: A column-vector y was passed when a 1d array was expected. Please change the shape of y to (n_samples,), for example using ravel().\n",
      "  var_model.fit(X, Y.reshape(-1,1))\n"
     ]
    },
    {
     "name": "stdout",
     "output_type": "stream",
     "text": [
      "The overall coverage for UTOPIA is 0.9340659340659341\n",
      "Mean bandwidth on test data for UTOPIA is 3.9311731467142415\n",
      "The overall coverage for LQR is 0.978021978021978\n",
      "Mean bandwidth on test data for LQR is 0.17265116799037147\n",
      "The overall coverage for SplitCF is 0.6043956043956044\n",
      "Mean bandwidth on test data for SplitCF is 0.0014620722060655097\n",
      "91 th index is done!\n"
     ]
    },
    {
     "name": "stderr",
     "output_type": "stream",
     "text": [
      "/Users/mdeb/BOSTON UNIVERSITY Dropbox/Debarghya Mukherjee/Jiawei/Prediction Band/Codes/all_functions.py:304: DataConversionWarning: A column-vector y was passed when a 1d array was expected. Please change the shape of y to (n_samples,), for example using ravel().\n",
      "  var_model.fit(X, Y.reshape(-1,1))\n"
     ]
    },
    {
     "name": "stdout",
     "output_type": "stream",
     "text": [
      "The overall coverage for UTOPIA is 1.0\n",
      "Mean bandwidth on test data for UTOPIA is 0.996863131828993\n",
      "The overall coverage for LQR is 0.7362637362637363\n",
      "Mean bandwidth on test data for LQR is 0.18088761304453355\n",
      "The overall coverage for SplitCF is 0.4065934065934066\n",
      "Mean bandwidth on test data for SplitCF is 0.004419931918339507\n",
      "92 th index is done!\n"
     ]
    },
    {
     "name": "stderr",
     "output_type": "stream",
     "text": [
      "/Users/mdeb/BOSTON UNIVERSITY Dropbox/Debarghya Mukherjee/Jiawei/Prediction Band/Codes/all_functions.py:304: DataConversionWarning: A column-vector y was passed when a 1d array was expected. Please change the shape of y to (n_samples,), for example using ravel().\n",
      "  var_model.fit(X, Y.reshape(-1,1))\n"
     ]
    },
    {
     "name": "stdout",
     "output_type": "stream",
     "text": [
      "The overall coverage for UTOPIA is 1.0\n",
      "Mean bandwidth on test data for UTOPIA is 15.567721388414613\n",
      "The overall coverage for LQR is 0.5164835164835165\n",
      "Mean bandwidth on test data for LQR is 0.5200838383374997\n",
      "The overall coverage for SplitCF is 0.8241758241758241\n",
      "Mean bandwidth on test data for SplitCF is 0.001381708689224404\n",
      "93 th index is done!\n"
     ]
    },
    {
     "name": "stderr",
     "output_type": "stream",
     "text": [
      "/Users/mdeb/BOSTON UNIVERSITY Dropbox/Debarghya Mukherjee/Jiawei/Prediction Band/Codes/all_functions.py:304: DataConversionWarning: A column-vector y was passed when a 1d array was expected. Please change the shape of y to (n_samples,), for example using ravel().\n",
      "  var_model.fit(X, Y.reshape(-1,1))\n"
     ]
    },
    {
     "name": "stdout",
     "output_type": "stream",
     "text": [
      "The overall coverage for UTOPIA is 0.7362637362637363\n",
      "Mean bandwidth on test data for UTOPIA is 0.00107852812833075\n",
      "The overall coverage for LQR is 0.7582417582417582\n",
      "Mean bandwidth on test data for LQR is 0.0006709449656154678\n",
      "The overall coverage for SplitCF is 0.8241758241758241\n",
      "Mean bandwidth on test data for SplitCF is 0.00023024764903754896\n",
      "94 th index is done!\n"
     ]
    },
    {
     "name": "stderr",
     "output_type": "stream",
     "text": [
      "/Users/mdeb/BOSTON UNIVERSITY Dropbox/Debarghya Mukherjee/Jiawei/Prediction Band/Codes/all_functions.py:304: DataConversionWarning: A column-vector y was passed when a 1d array was expected. Please change the shape of y to (n_samples,), for example using ravel().\n",
      "  var_model.fit(X, Y.reshape(-1,1))\n"
     ]
    },
    {
     "name": "stdout",
     "output_type": "stream",
     "text": [
      "The overall coverage for UTOPIA is 0.978021978021978\n",
      "Mean bandwidth on test data for UTOPIA is 0.0020539117477015407\n",
      "The overall coverage for LQR is 0.9340659340659341\n",
      "Mean bandwidth on test data for LQR is 0.0011488155150375092\n",
      "The overall coverage for SplitCF is 0.7032967032967034\n",
      "Mean bandwidth on test data for SplitCF is 0.00017367846535940005\n",
      "95 th index is done!\n"
     ]
    },
    {
     "name": "stderr",
     "output_type": "stream",
     "text": [
      "/Users/mdeb/BOSTON UNIVERSITY Dropbox/Debarghya Mukherjee/Jiawei/Prediction Band/Codes/all_functions.py:304: DataConversionWarning: A column-vector y was passed when a 1d array was expected. Please change the shape of y to (n_samples,), for example using ravel().\n",
      "  var_model.fit(X, Y.reshape(-1,1))\n"
     ]
    },
    {
     "name": "stdout",
     "output_type": "stream",
     "text": [
      "The overall coverage for UTOPIA is 0.967032967032967\n",
      "Mean bandwidth on test data for UTOPIA is 0.003239598722455958\n",
      "The overall coverage for LQR is 0.9230769230769231\n",
      "Mean bandwidth on test data for LQR is 0.0018654515256482575\n",
      "The overall coverage for SplitCF is 0.9120879120879121\n",
      "Mean bandwidth on test data for SplitCF is 0.00046151114211185164\n",
      "96 th index is done!\n"
     ]
    },
    {
     "name": "stderr",
     "output_type": "stream",
     "text": [
      "/Users/mdeb/BOSTON UNIVERSITY Dropbox/Debarghya Mukherjee/Jiawei/Prediction Band/Codes/all_functions.py:304: DataConversionWarning: A column-vector y was passed when a 1d array was expected. Please change the shape of y to (n_samples,), for example using ravel().\n",
      "  var_model.fit(X, Y.reshape(-1,1))\n"
     ]
    },
    {
     "name": "stdout",
     "output_type": "stream",
     "text": [
      "The overall coverage for UTOPIA is 0.9560439560439561\n",
      "Mean bandwidth on test data for UTOPIA is 0.0014952651895604634\n",
      "The overall coverage for LQR is 0.6373626373626373\n",
      "Mean bandwidth on test data for LQR is 0.0004892710076392953\n",
      "The overall coverage for SplitCF is 0.945054945054945\n",
      "Mean bandwidth on test data for SplitCF is 0.0005606864897847153\n",
      "97 th index is done!\n"
     ]
    },
    {
     "name": "stderr",
     "output_type": "stream",
     "text": [
      "/Users/mdeb/BOSTON UNIVERSITY Dropbox/Debarghya Mukherjee/Jiawei/Prediction Band/Codes/all_functions.py:304: DataConversionWarning: A column-vector y was passed when a 1d array was expected. Please change the shape of y to (n_samples,), for example using ravel().\n",
      "  var_model.fit(X, Y.reshape(-1,1))\n"
     ]
    },
    {
     "name": "stdout",
     "output_type": "stream",
     "text": [
      "The overall coverage for UTOPIA is 0.978021978021978\n",
      "Mean bandwidth on test data for UTOPIA is 0.00290512514673412\n",
      "The overall coverage for LQR is 0.8131868131868132\n",
      "Mean bandwidth on test data for LQR is 0.0008692853883507063\n",
      "The overall coverage for SplitCF is 0.9010989010989011\n",
      "Mean bandwidth on test data for SplitCF is 0.0004081747280551943\n",
      "98 th index is done!\n"
     ]
    },
    {
     "name": "stderr",
     "output_type": "stream",
     "text": [
      "/Users/mdeb/BOSTON UNIVERSITY Dropbox/Debarghya Mukherjee/Jiawei/Prediction Band/Codes/all_functions.py:304: DataConversionWarning: A column-vector y was passed when a 1d array was expected. Please change the shape of y to (n_samples,), for example using ravel().\n",
      "  var_model.fit(X, Y.reshape(-1,1))\n"
     ]
    },
    {
     "name": "stdout",
     "output_type": "stream",
     "text": [
      "The overall coverage for UTOPIA is 0.8901098901098901\n",
      "Mean bandwidth on test data for UTOPIA is 0.0005241052920717704\n",
      "The overall coverage for LQR is 0.6263736263736264\n",
      "Mean bandwidth on test data for LQR is 0.0001982556418799698\n",
      "The overall coverage for SplitCF is 0.9560439560439561\n",
      "Mean bandwidth on test data for SplitCF is 0.0008123373294906477\n",
      "99 th index is done!\n"
     ]
    },
    {
     "name": "stderr",
     "output_type": "stream",
     "text": [
      "/Users/mdeb/BOSTON UNIVERSITY Dropbox/Debarghya Mukherjee/Jiawei/Prediction Band/Codes/all_functions.py:304: DataConversionWarning: A column-vector y was passed when a 1d array was expected. Please change the shape of y to (n_samples,), for example using ravel().\n",
      "  var_model.fit(X, Y.reshape(-1,1))\n"
     ]
    },
    {
     "name": "stdout",
     "output_type": "stream",
     "text": [
      "The overall coverage for UTOPIA is 0.9340659340659341\n",
      "Mean bandwidth on test data for UTOPIA is 0.0006555045135125902\n",
      "The overall coverage for LQR is 0.5824175824175825\n",
      "Mean bandwidth on test data for LQR is 0.00023363454610060498\n",
      "The overall coverage for SplitCF is 0.978021978021978\n",
      "Mean bandwidth on test data for SplitCF is 0.001111211678362098\n",
      "100 th index is done!\n"
     ]
    },
    {
     "name": "stderr",
     "output_type": "stream",
     "text": [
      "/Users/mdeb/BOSTON UNIVERSITY Dropbox/Debarghya Mukherjee/Jiawei/Prediction Band/Codes/all_functions.py:304: DataConversionWarning: A column-vector y was passed when a 1d array was expected. Please change the shape of y to (n_samples,), for example using ravel().\n",
      "  var_model.fit(X, Y.reshape(-1,1))\n"
     ]
    },
    {
     "name": "stdout",
     "output_type": "stream",
     "text": [
      "The overall coverage for UTOPIA is 0.978021978021978\n",
      "Mean bandwidth on test data for UTOPIA is 0.0010404192225967393\n",
      "The overall coverage for LQR is 0.7142857142857143\n",
      "Mean bandwidth on test data for LQR is 0.0003102782701010775\n",
      "The overall coverage for SplitCF is 0.9230769230769231\n",
      "Mean bandwidth on test data for SplitCF is 0.0007328245288633411\n",
      "101 th index is done!\n"
     ]
    },
    {
     "name": "stderr",
     "output_type": "stream",
     "text": [
      "/Users/mdeb/BOSTON UNIVERSITY Dropbox/Debarghya Mukherjee/Jiawei/Prediction Band/Codes/all_functions.py:304: DataConversionWarning: A column-vector y was passed when a 1d array was expected. Please change the shape of y to (n_samples,), for example using ravel().\n",
      "  var_model.fit(X, Y.reshape(-1,1))\n"
     ]
    },
    {
     "name": "stdout",
     "output_type": "stream",
     "text": [
      "The overall coverage for UTOPIA is 0.9560439560439561\n",
      "Mean bandwidth on test data for UTOPIA is 0.008858749258456314\n",
      "The overall coverage for LQR is 1.0\n",
      "Mean bandwidth on test data for LQR is 0.01198953101898672\n",
      "The overall coverage for SplitCF is 0.6373626373626373\n",
      "Mean bandwidth on test data for SplitCF is 0.00017458136131813921\n",
      "102 th index is done!\n"
     ]
    },
    {
     "name": "stderr",
     "output_type": "stream",
     "text": [
      "/Users/mdeb/BOSTON UNIVERSITY Dropbox/Debarghya Mukherjee/Jiawei/Prediction Band/Codes/all_functions.py:304: DataConversionWarning: A column-vector y was passed when a 1d array was expected. Please change the shape of y to (n_samples,), for example using ravel().\n",
      "  var_model.fit(X, Y.reshape(-1,1))\n"
     ]
    },
    {
     "name": "stdout",
     "output_type": "stream",
     "text": [
      "The overall coverage for UTOPIA is 0.8901098901098901\n",
      "Mean bandwidth on test data for UTOPIA is 0.03603213921304438\n",
      "The overall coverage for LQR is 0.9010989010989011\n",
      "Mean bandwidth on test data for LQR is 0.03435177289087795\n",
      "The overall coverage for SplitCF is 0.8021978021978022\n",
      "Mean bandwidth on test data for SplitCF is 0.00020248883793411813\n",
      "103 th index is done!\n"
     ]
    },
    {
     "name": "stderr",
     "output_type": "stream",
     "text": [
      "/Users/mdeb/BOSTON UNIVERSITY Dropbox/Debarghya Mukherjee/Jiawei/Prediction Band/Codes/all_functions.py:304: DataConversionWarning: A column-vector y was passed when a 1d array was expected. Please change the shape of y to (n_samples,), for example using ravel().\n",
      "  var_model.fit(X, Y.reshape(-1,1))\n"
     ]
    },
    {
     "name": "stdout",
     "output_type": "stream",
     "text": [
      "The overall coverage for UTOPIA is 0.978021978021978\n",
      "Mean bandwidth on test data for UTOPIA is 0.008737617880139692\n",
      "The overall coverage for LQR is 1.0\n",
      "Mean bandwidth on test data for LQR is 0.008874420591126022\n",
      "The overall coverage for SplitCF is 0.9120879120879121\n",
      "Mean bandwidth on test data for SplitCF is 0.0007387965557600895\n",
      "104 th index is done!\n"
     ]
    },
    {
     "name": "stderr",
     "output_type": "stream",
     "text": [
      "/Users/mdeb/BOSTON UNIVERSITY Dropbox/Debarghya Mukherjee/Jiawei/Prediction Band/Codes/all_functions.py:304: DataConversionWarning: A column-vector y was passed when a 1d array was expected. Please change the shape of y to (n_samples,), for example using ravel().\n",
      "  var_model.fit(X, Y.reshape(-1,1))\n"
     ]
    },
    {
     "name": "stdout",
     "output_type": "stream",
     "text": [
      "The overall coverage for UTOPIA is 0.8131868131868132\n",
      "Mean bandwidth on test data for UTOPIA is 0.0003968071123530326\n",
      "The overall coverage for LQR is 0.7032967032967034\n",
      "Mean bandwidth on test data for LQR is 0.00032149592887113115\n",
      "The overall coverage for SplitCF is 0.6703296703296703\n",
      "Mean bandwidth on test data for SplitCF is 0.000174344083821865\n",
      "105 th index is done!\n"
     ]
    },
    {
     "name": "stderr",
     "output_type": "stream",
     "text": [
      "/Users/mdeb/BOSTON UNIVERSITY Dropbox/Debarghya Mukherjee/Jiawei/Prediction Band/Codes/all_functions.py:304: DataConversionWarning: A column-vector y was passed when a 1d array was expected. Please change the shape of y to (n_samples,), for example using ravel().\n",
      "  var_model.fit(X, Y.reshape(-1,1))\n"
     ]
    },
    {
     "name": "stdout",
     "output_type": "stream",
     "text": [
      "The overall coverage for UTOPIA is 0.978021978021978\n",
      "Mean bandwidth on test data for UTOPIA is 0.0014306022031798902\n",
      "The overall coverage for LQR is 0.7912087912087912\n",
      "Mean bandwidth on test data for LQR is 0.000490861294777759\n",
      "The overall coverage for SplitCF is 0.978021978021978\n",
      "Mean bandwidth on test data for SplitCF is 0.0011572258728997276\n",
      "106 th index is done!\n"
     ]
    },
    {
     "name": "stderr",
     "output_type": "stream",
     "text": [
      "/Users/mdeb/BOSTON UNIVERSITY Dropbox/Debarghya Mukherjee/Jiawei/Prediction Band/Codes/all_functions.py:304: DataConversionWarning: A column-vector y was passed when a 1d array was expected. Please change the shape of y to (n_samples,), for example using ravel().\n",
      "  var_model.fit(X, Y.reshape(-1,1))\n"
     ]
    },
    {
     "name": "stdout",
     "output_type": "stream",
     "text": [
      "The overall coverage for UTOPIA is 0.8461538461538461\n",
      "Mean bandwidth on test data for UTOPIA is 0.0008068914097544036\n",
      "The overall coverage for LQR is 0.7692307692307693\n",
      "Mean bandwidth on test data for LQR is 0.00042773635759215094\n",
      "The overall coverage for SplitCF is 0.6483516483516484\n",
      "Mean bandwidth on test data for SplitCF is 0.0001490039382502722\n",
      "107 th index is done!\n"
     ]
    },
    {
     "name": "stderr",
     "output_type": "stream",
     "text": [
      "/Users/mdeb/BOSTON UNIVERSITY Dropbox/Debarghya Mukherjee/Jiawei/Prediction Band/Codes/all_functions.py:304: DataConversionWarning: A column-vector y was passed when a 1d array was expected. Please change the shape of y to (n_samples,), for example using ravel().\n",
      "  var_model.fit(X, Y.reshape(-1,1))\n"
     ]
    },
    {
     "name": "stdout",
     "output_type": "stream",
     "text": [
      "The overall coverage for UTOPIA is 0.6263736263736264\n",
      "Mean bandwidth on test data for UTOPIA is 0.0004726509371979028\n",
      "The overall coverage for LQR is 0.6263736263736264\n",
      "Mean bandwidth on test data for LQR is 0.0002625817929036471\n",
      "The overall coverage for SplitCF is 0.8901098901098901\n",
      "Mean bandwidth on test data for SplitCF is 0.00035815403027786297\n",
      "108 th index is done!\n"
     ]
    },
    {
     "name": "stderr",
     "output_type": "stream",
     "text": [
      "/Users/mdeb/BOSTON UNIVERSITY Dropbox/Debarghya Mukherjee/Jiawei/Prediction Band/Codes/all_functions.py:304: DataConversionWarning: A column-vector y was passed when a 1d array was expected. Please change the shape of y to (n_samples,), for example using ravel().\n",
      "  var_model.fit(X, Y.reshape(-1,1))\n"
     ]
    },
    {
     "name": "stdout",
     "output_type": "stream",
     "text": [
      "The overall coverage for UTOPIA is 0.8791208791208791\n",
      "Mean bandwidth on test data for UTOPIA is 0.000661943353358197\n",
      "The overall coverage for LQR is 0.6263736263736264\n",
      "Mean bandwidth on test data for LQR is 0.0003436125969723959\n",
      "The overall coverage for SplitCF is 0.978021978021978\n",
      "Mean bandwidth on test data for SplitCF is 0.0007924581750144459\n",
      "109 th index is done!\n"
     ]
    },
    {
     "name": "stderr",
     "output_type": "stream",
     "text": [
      "/Users/mdeb/BOSTON UNIVERSITY Dropbox/Debarghya Mukherjee/Jiawei/Prediction Band/Codes/all_functions.py:304: DataConversionWarning: A column-vector y was passed when a 1d array was expected. Please change the shape of y to (n_samples,), for example using ravel().\n",
      "  var_model.fit(X, Y.reshape(-1,1))\n",
      "/Users/mdeb/anaconda3/lib/python3.10/site-packages/cvxpy/problems/problem.py:1387: UserWarning: Solution may be inaccurate. Try another solver, adjusting the solver settings, or solve with verbose=True for more information.\n",
      "  warnings.warn(\n"
     ]
    },
    {
     "name": "stdout",
     "output_type": "stream",
     "text": [
      "The overall coverage for UTOPIA is 0.8461538461538461\n",
      "Mean bandwidth on test data for UTOPIA is 0.0006013967011334327\n",
      "The overall coverage for LQR is 0.6703296703296703\n",
      "Mean bandwidth on test data for LQR is 0.00026222512076605643\n",
      "The overall coverage for SplitCF is 0.8901098901098901\n",
      "Mean bandwidth on test data for SplitCF is 0.0005133079752015846\n",
      "110 th index is done!\n"
     ]
    },
    {
     "name": "stderr",
     "output_type": "stream",
     "text": [
      "/Users/mdeb/BOSTON UNIVERSITY Dropbox/Debarghya Mukherjee/Jiawei/Prediction Band/Codes/all_functions.py:304: DataConversionWarning: A column-vector y was passed when a 1d array was expected. Please change the shape of y to (n_samples,), for example using ravel().\n",
      "  var_model.fit(X, Y.reshape(-1,1))\n"
     ]
    },
    {
     "name": "stdout",
     "output_type": "stream",
     "text": [
      "The overall coverage for UTOPIA is 0.9340659340659341\n",
      "Mean bandwidth on test data for UTOPIA is 0.0006215476079668985\n",
      "The overall coverage for LQR is 0.6483516483516484\n",
      "Mean bandwidth on test data for LQR is 0.00034724221997580476\n",
      "The overall coverage for SplitCF is 0.978021978021978\n",
      "Mean bandwidth on test data for SplitCF is 0.0011028998065092663\n",
      "111 th index is done!\n"
     ]
    },
    {
     "name": "stderr",
     "output_type": "stream",
     "text": [
      "/Users/mdeb/BOSTON UNIVERSITY Dropbox/Debarghya Mukherjee/Jiawei/Prediction Band/Codes/all_functions.py:304: DataConversionWarning: A column-vector y was passed when a 1d array was expected. Please change the shape of y to (n_samples,), for example using ravel().\n",
      "  var_model.fit(X, Y.reshape(-1,1))\n"
     ]
    },
    {
     "name": "stdout",
     "output_type": "stream",
     "text": [
      "The overall coverage for UTOPIA is 0.978021978021978\n",
      "Mean bandwidth on test data for UTOPIA is 0.00045236931030505557\n",
      "The overall coverage for LQR is 0.7142857142857143\n",
      "Mean bandwidth on test data for LQR is 0.0003393327602402224\n",
      "The overall coverage for SplitCF is 0.6373626373626373\n",
      "Mean bandwidth on test data for SplitCF is 0.00017430226371039007\n",
      "112 th index is done!\n"
     ]
    },
    {
     "name": "stderr",
     "output_type": "stream",
     "text": [
      "/Users/mdeb/BOSTON UNIVERSITY Dropbox/Debarghya Mukherjee/Jiawei/Prediction Band/Codes/all_functions.py:304: DataConversionWarning: A column-vector y was passed when a 1d array was expected. Please change the shape of y to (n_samples,), for example using ravel().\n",
      "  var_model.fit(X, Y.reshape(-1,1))\n"
     ]
    },
    {
     "name": "stdout",
     "output_type": "stream",
     "text": [
      "The overall coverage for UTOPIA is 0.978021978021978\n",
      "Mean bandwidth on test data for UTOPIA is 0.0006534790654855472\n",
      "The overall coverage for LQR is 0.6263736263736264\n",
      "Mean bandwidth on test data for LQR is 0.0002794233585971368\n",
      "The overall coverage for SplitCF is 0.978021978021978\n",
      "Mean bandwidth on test data for SplitCF is 0.001001780471651128\n",
      "113 th index is done!\n"
     ]
    },
    {
     "name": "stderr",
     "output_type": "stream",
     "text": [
      "/Users/mdeb/BOSTON UNIVERSITY Dropbox/Debarghya Mukherjee/Jiawei/Prediction Band/Codes/all_functions.py:304: DataConversionWarning: A column-vector y was passed when a 1d array was expected. Please change the shape of y to (n_samples,), for example using ravel().\n",
      "  var_model.fit(X, Y.reshape(-1,1))\n",
      "/Users/mdeb/anaconda3/lib/python3.10/site-packages/cvxpy/problems/problem.py:1387: UserWarning: Solution may be inaccurate. Try another solver, adjusting the solver settings, or solve with verbose=True for more information.\n",
      "  warnings.warn(\n"
     ]
    },
    {
     "name": "stdout",
     "output_type": "stream",
     "text": [
      "The overall coverage for UTOPIA is 0.7912087912087912\n",
      "Mean bandwidth on test data for UTOPIA is 0.0005551870008551838\n",
      "The overall coverage for LQR is 0.6263736263736264\n",
      "Mean bandwidth on test data for LQR is 0.00028460152561731974\n",
      "The overall coverage for SplitCF is 0.9560439560439561\n",
      "Mean bandwidth on test data for SplitCF is 0.0008700395585223407\n",
      "114 th index is done!\n"
     ]
    },
    {
     "name": "stderr",
     "output_type": "stream",
     "text": [
      "/Users/mdeb/BOSTON UNIVERSITY Dropbox/Debarghya Mukherjee/Jiawei/Prediction Band/Codes/all_functions.py:304: DataConversionWarning: A column-vector y was passed when a 1d array was expected. Please change the shape of y to (n_samples,), for example using ravel().\n",
      "  var_model.fit(X, Y.reshape(-1,1))\n"
     ]
    },
    {
     "name": "stdout",
     "output_type": "stream",
     "text": [
      "The overall coverage for UTOPIA is 0.6373626373626373\n",
      "Mean bandwidth on test data for UTOPIA is 0.0005524694818697607\n",
      "The overall coverage for LQR is 0.6703296703296703\n",
      "Mean bandwidth on test data for LQR is 0.0003246211296257347\n",
      "The overall coverage for SplitCF is 0.978021978021978\n",
      "Mean bandwidth on test data for SplitCF is 0.0011843344233817173\n",
      "115 th index is done!\n"
     ]
    },
    {
     "name": "stderr",
     "output_type": "stream",
     "text": [
      "/Users/mdeb/BOSTON UNIVERSITY Dropbox/Debarghya Mukherjee/Jiawei/Prediction Band/Codes/all_functions.py:304: DataConversionWarning: A column-vector y was passed when a 1d array was expected. Please change the shape of y to (n_samples,), for example using ravel().\n",
      "  var_model.fit(X, Y.reshape(-1,1))\n"
     ]
    },
    {
     "name": "stdout",
     "output_type": "stream",
     "text": [
      "The overall coverage for UTOPIA is 0.8901098901098901\n",
      "Mean bandwidth on test data for UTOPIA is 0.0009147801897098686\n",
      "The overall coverage for LQR is 0.6703296703296703\n",
      "Mean bandwidth on test data for LQR is 0.00024125579730215627\n",
      "The overall coverage for SplitCF is 0.945054945054945\n",
      "Mean bandwidth on test data for SplitCF is 0.0008395561068136229\n",
      "116 th index is done!\n"
     ]
    },
    {
     "name": "stderr",
     "output_type": "stream",
     "text": [
      "/Users/mdeb/BOSTON UNIVERSITY Dropbox/Debarghya Mukherjee/Jiawei/Prediction Band/Codes/all_functions.py:304: DataConversionWarning: A column-vector y was passed when a 1d array was expected. Please change the shape of y to (n_samples,), for example using ravel().\n",
      "  var_model.fit(X, Y.reshape(-1,1))\n"
     ]
    },
    {
     "name": "stdout",
     "output_type": "stream",
     "text": [
      "The overall coverage for UTOPIA is 0.8901098901098901\n",
      "Mean bandwidth on test data for UTOPIA is 0.0007484938507282881\n",
      "The overall coverage for LQR is 0.6703296703296703\n",
      "Mean bandwidth on test data for LQR is 0.0003240656777194263\n",
      "The overall coverage for SplitCF is 0.978021978021978\n",
      "Mean bandwidth on test data for SplitCF is 0.0009312652638463298\n",
      "117 th index is done!\n"
     ]
    },
    {
     "name": "stderr",
     "output_type": "stream",
     "text": [
      "/Users/mdeb/BOSTON UNIVERSITY Dropbox/Debarghya Mukherjee/Jiawei/Prediction Band/Codes/all_functions.py:304: DataConversionWarning: A column-vector y was passed when a 1d array was expected. Please change the shape of y to (n_samples,), for example using ravel().\n",
      "  var_model.fit(X, Y.reshape(-1,1))\n",
      "/Users/mdeb/anaconda3/lib/python3.10/site-packages/cvxpy/problems/problem.py:1387: UserWarning: Solution may be inaccurate. Try another solver, adjusting the solver settings, or solve with verbose=True for more information.\n",
      "  warnings.warn(\n"
     ]
    },
    {
     "name": "stdout",
     "output_type": "stream",
     "text": [
      "The overall coverage for UTOPIA is 1.0\n",
      "Mean bandwidth on test data for UTOPIA is 0.0008288826991781089\n",
      "The overall coverage for LQR is 0.6153846153846154\n",
      "Mean bandwidth on test data for LQR is 0.00028337247021576145\n",
      "The overall coverage for SplitCF is 0.978021978021978\n",
      "Mean bandwidth on test data for SplitCF is 0.0011875656157844573\n",
      "118 th index is done!\n"
     ]
    },
    {
     "name": "stderr",
     "output_type": "stream",
     "text": [
      "/Users/mdeb/BOSTON UNIVERSITY Dropbox/Debarghya Mukherjee/Jiawei/Prediction Band/Codes/all_functions.py:304: DataConversionWarning: A column-vector y was passed when a 1d array was expected. Please change the shape of y to (n_samples,), for example using ravel().\n",
      "  var_model.fit(X, Y.reshape(-1,1))\n"
     ]
    },
    {
     "name": "stdout",
     "output_type": "stream",
     "text": [
      "The overall coverage for UTOPIA is 0.8791208791208791\n",
      "Mean bandwidth on test data for UTOPIA is 0.0005807370836237332\n",
      "The overall coverage for LQR is 0.6483516483516484\n",
      "Mean bandwidth on test data for LQR is 0.00025633370986238066\n",
      "The overall coverage for SplitCF is 0.43956043956043955\n",
      "Mean bandwidth on test data for SplitCF is 0.0008439887782898516\n",
      "119 th index is done!\n"
     ]
    },
    {
     "name": "stderr",
     "output_type": "stream",
     "text": [
      "/Users/mdeb/BOSTON UNIVERSITY Dropbox/Debarghya Mukherjee/Jiawei/Prediction Band/Codes/all_functions.py:304: DataConversionWarning: A column-vector y was passed when a 1d array was expected. Please change the shape of y to (n_samples,), for example using ravel().\n",
      "  var_model.fit(X, Y.reshape(-1,1))\n"
     ]
    },
    {
     "name": "stdout",
     "output_type": "stream",
     "text": [
      "The overall coverage for UTOPIA is 0.9010989010989011\n",
      "Mean bandwidth on test data for UTOPIA is 0.0008975043965517117\n",
      "The overall coverage for LQR is 0.5824175824175825\n",
      "Mean bandwidth on test data for LQR is 0.0002444741483231774\n",
      "The overall coverage for SplitCF is 0.8901098901098901\n",
      "Mean bandwidth on test data for SplitCF is 0.0005315728591510802\n",
      "120 th index is done!\n"
     ]
    },
    {
     "name": "stderr",
     "output_type": "stream",
     "text": [
      "/Users/mdeb/BOSTON UNIVERSITY Dropbox/Debarghya Mukherjee/Jiawei/Prediction Band/Codes/all_functions.py:304: DataConversionWarning: A column-vector y was passed when a 1d array was expected. Please change the shape of y to (n_samples,), for example using ravel().\n",
      "  var_model.fit(X, Y.reshape(-1,1))\n"
     ]
    },
    {
     "name": "stdout",
     "output_type": "stream",
     "text": [
      "The overall coverage for UTOPIA is 0.945054945054945\n",
      "Mean bandwidth on test data for UTOPIA is 0.0006665783700907078\n",
      "The overall coverage for LQR is 0.7142857142857143\n",
      "Mean bandwidth on test data for LQR is 0.0003232099733313461\n",
      "The overall coverage for SplitCF is 0.6593406593406593\n",
      "Mean bandwidth on test data for SplitCF is 0.00022480166737293063\n",
      "121 th index is done!\n"
     ]
    },
    {
     "name": "stderr",
     "output_type": "stream",
     "text": [
      "/Users/mdeb/BOSTON UNIVERSITY Dropbox/Debarghya Mukherjee/Jiawei/Prediction Band/Codes/all_functions.py:304: DataConversionWarning: A column-vector y was passed when a 1d array was expected. Please change the shape of y to (n_samples,), for example using ravel().\n",
      "  var_model.fit(X, Y.reshape(-1,1))\n"
     ]
    },
    {
     "name": "stdout",
     "output_type": "stream",
     "text": [
      "The overall coverage for UTOPIA is 0.989010989010989\n",
      "Mean bandwidth on test data for UTOPIA is 75.84581441554167\n",
      "The overall coverage for LQR is 0.989010989010989\n",
      "Mean bandwidth on test data for LQR is 90.39988538983681\n",
      "The overall coverage for SplitCF is 0.8131868131868132\n",
      "Mean bandwidth on test data for SplitCF is 0.0003049048019739616\n",
      "122 th index is done!\n"
     ]
    },
    {
     "name": "stderr",
     "output_type": "stream",
     "text": [
      "/Users/mdeb/BOSTON UNIVERSITY Dropbox/Debarghya Mukherjee/Jiawei/Prediction Band/Codes/all_functions.py:304: DataConversionWarning: A column-vector y was passed when a 1d array was expected. Please change the shape of y to (n_samples,), for example using ravel().\n",
      "  var_model.fit(X, Y.reshape(-1,1))\n"
     ]
    },
    {
     "name": "stdout",
     "output_type": "stream",
     "text": [
      "The overall coverage for UTOPIA is 1.0\n",
      "Mean bandwidth on test data for UTOPIA is 0.0017886829431880307\n",
      "The overall coverage for LQR is 1.0\n",
      "Mean bandwidth on test data for LQR is 0.002904027828285003\n",
      "The overall coverage for SplitCF is 0.6153846153846154\n",
      "Mean bandwidth on test data for SplitCF is 9.982276025264081e-05\n",
      "123 th index is done!\n"
     ]
    },
    {
     "name": "stderr",
     "output_type": "stream",
     "text": [
      "/Users/mdeb/BOSTON UNIVERSITY Dropbox/Debarghya Mukherjee/Jiawei/Prediction Band/Codes/all_functions.py:304: DataConversionWarning: A column-vector y was passed when a 1d array was expected. Please change the shape of y to (n_samples,), for example using ravel().\n",
      "  var_model.fit(X, Y.reshape(-1,1))\n"
     ]
    },
    {
     "name": "stdout",
     "output_type": "stream",
     "text": [
      "The overall coverage for UTOPIA is 0.945054945054945\n",
      "Mean bandwidth on test data for UTOPIA is 0.0008080858573267865\n",
      "The overall coverage for LQR is 0.7252747252747253\n",
      "Mean bandwidth on test data for LQR is 0.0004042175616688768\n",
      "The overall coverage for SplitCF is 0.9230769230769231\n",
      "Mean bandwidth on test data for SplitCF is 0.0003502402239656722\n",
      "124 th index is done!\n"
     ]
    },
    {
     "name": "stderr",
     "output_type": "stream",
     "text": [
      "/Users/mdeb/BOSTON UNIVERSITY Dropbox/Debarghya Mukherjee/Jiawei/Prediction Band/Codes/all_functions.py:304: DataConversionWarning: A column-vector y was passed when a 1d array was expected. Please change the shape of y to (n_samples,), for example using ravel().\n",
      "  var_model.fit(X, Y.reshape(-1,1))\n"
     ]
    },
    {
     "name": "stdout",
     "output_type": "stream",
     "text": [
      "The overall coverage for UTOPIA is 0.7912087912087912\n",
      "Mean bandwidth on test data for UTOPIA is 0.0004133376442934363\n",
      "The overall coverage for LQR is 0.945054945054945\n",
      "Mean bandwidth on test data for LQR is 0.000567646175645033\n",
      "The overall coverage for SplitCF is 0.8351648351648352\n",
      "Mean bandwidth on test data for SplitCF is 0.0011294947810825036\n",
      "125 th index is done!\n"
     ]
    },
    {
     "name": "stderr",
     "output_type": "stream",
     "text": [
      "/Users/mdeb/BOSTON UNIVERSITY Dropbox/Debarghya Mukherjee/Jiawei/Prediction Band/Codes/all_functions.py:304: DataConversionWarning: A column-vector y was passed when a 1d array was expected. Please change the shape of y to (n_samples,), for example using ravel().\n",
      "  var_model.fit(X, Y.reshape(-1,1))\n"
     ]
    },
    {
     "name": "stdout",
     "output_type": "stream",
     "text": [
      "The overall coverage for UTOPIA is 0.9560439560439561\n",
      "Mean bandwidth on test data for UTOPIA is 296.10988010170337\n",
      "The overall coverage for LQR is 0.5054945054945055\n",
      "Mean bandwidth on test data for LQR is 102.51882481713136\n",
      "The overall coverage for SplitCF is 0.8131868131868132\n",
      "Mean bandwidth on test data for SplitCF is 0.00016508388802692034\n",
      "126 th index is done!\n"
     ]
    }
   ],
   "source": [
    "output_coverage = np.zeros((len(data.columns)-1, 3))\n",
    "output_bandwidth = np.zeros((len(data.columns)-1, 3))\n",
    "\n",
    "for j in range(1, len(data.columns)):\n",
    "    idx = data.columns[j]\n",
    "    Data, Y_axis = FRED_MD_DATA_PREP(idx, ncomps=2, error_comps=3)\n",
    "    \n",
    "    X_t,Y_t,M_t,V_alpha_t, coverage_utopia, bandwidth_utopia = UTOPIA_FRED_MD_MULTIVARIATE(Data, shrink = True)\n",
    "    X_test,Y_test,M_test,V_test,coverage_lqr, bandwidth_lqr = LQR_FRED_MD_MULTIVARIATE(Data)\n",
    "    X_test,Y_test,M_test,V_test, coverage_split, bandwidth_split = SplitCF_FRED_MD_MULTIVARIATE(Data)\n",
    "    \n",
    "    output_coverage[j-1,] = np.array([coverage_utopia, coverage_lqr, coverage_split]).reshape(-1)\n",
    "    output_bandwidth[j-1,] = np.array([bandwidth_utopia, bandwidth_lqr, bandwidth_split]).reshape(-1)\n",
    "    print(j, \"th index is done!\")"
   ]
  },
  {
   "cell_type": "code",
   "execution_count": 23,
   "id": "4438ab39",
   "metadata": {},
   "outputs": [
    {
     "data": {
      "text/html": [
       "<div>\n",
       "<style scoped>\n",
       "    .dataframe tbody tr th:only-of-type {\n",
       "        vertical-align: middle;\n",
       "    }\n",
       "\n",
       "    .dataframe tbody tr th {\n",
       "        vertical-align: top;\n",
       "    }\n",
       "\n",
       "    .dataframe thead th {\n",
       "        text-align: right;\n",
       "    }\n",
       "</style>\n",
       "<table border=\"1\" class=\"dataframe\">\n",
       "  <thead>\n",
       "    <tr style=\"text-align: right;\">\n",
       "      <th></th>\n",
       "      <th>RPI</th>\n",
       "      <th>W875RX1</th>\n",
       "      <th>DPCERA3M086SBEA</th>\n",
       "      <th>CMRMTSPLx</th>\n",
       "      <th>RETAILx</th>\n",
       "      <th>INDPRO</th>\n",
       "      <th>IPFPNSS</th>\n",
       "      <th>IPFINAL</th>\n",
       "      <th>IPCONGD</th>\n",
       "      <th>IPDCONGD</th>\n",
       "      <th>...</th>\n",
       "      <th>DNDGRG3M086SBEA</th>\n",
       "      <th>DSERRG3M086SBEA</th>\n",
       "      <th>CES0600000008</th>\n",
       "      <th>CES2000000008</th>\n",
       "      <th>CES3000000008</th>\n",
       "      <th>UMCSENTx</th>\n",
       "      <th>DTCOLNVHFNM</th>\n",
       "      <th>DTCTHFNM</th>\n",
       "      <th>INVEST</th>\n",
       "      <th>VIXCLSx</th>\n",
       "    </tr>\n",
       "  </thead>\n",
       "  <tbody>\n",
       "    <tr>\n",
       "      <th>0</th>\n",
       "      <td>0.002194</td>\n",
       "      <td>0.003639</td>\n",
       "      <td>0.001174</td>\n",
       "      <td>0.007182</td>\n",
       "      <td>0.009890</td>\n",
       "      <td>0.003196</td>\n",
       "      <td>0.003118</td>\n",
       "      <td>0.001855</td>\n",
       "      <td>0.003604</td>\n",
       "      <td>0.009532</td>\n",
       "      <td>...</td>\n",
       "      <td>0.001199</td>\n",
       "      <td>-0.001255</td>\n",
       "      <td>0.003831</td>\n",
       "      <td>0.004200</td>\n",
       "      <td>0.002696</td>\n",
       "      <td>5.0</td>\n",
       "      <td>-0.007424</td>\n",
       "      <td>-0.004902</td>\n",
       "      <td>0.000692</td>\n",
       "      <td>21.257</td>\n",
       "    </tr>\n",
       "    <tr>\n",
       "      <th>1</th>\n",
       "      <td>0.004418</td>\n",
       "      <td>0.003464</td>\n",
       "      <td>0.000209</td>\n",
       "      <td>0.020844</td>\n",
       "      <td>0.003217</td>\n",
       "      <td>0.016510</td>\n",
       "      <td>0.013513</td>\n",
       "      <td>0.012288</td>\n",
       "      <td>0.009571</td>\n",
       "      <td>0.044996</td>\n",
       "      <td>...</td>\n",
       "      <td>-0.001583</td>\n",
       "      <td>0.002708</td>\n",
       "      <td>-0.002661</td>\n",
       "      <td>-0.004279</td>\n",
       "      <td>-0.002858</td>\n",
       "      <td>6.4</td>\n",
       "      <td>0.000066</td>\n",
       "      <td>-0.000625</td>\n",
       "      <td>-0.007042</td>\n",
       "      <td>24.689</td>\n",
       "    </tr>\n",
       "    <tr>\n",
       "      <th>2</th>\n",
       "      <td>0.003281</td>\n",
       "      <td>0.003003</td>\n",
       "      <td>0.002925</td>\n",
       "      <td>-0.010384</td>\n",
       "      <td>0.006061</td>\n",
       "      <td>0.005008</td>\n",
       "      <td>0.003899</td>\n",
       "      <td>0.004876</td>\n",
       "      <td>-0.000743</td>\n",
       "      <td>0.013024</td>\n",
       "      <td>...</td>\n",
       "      <td>-0.005781</td>\n",
       "      <td>-0.001497</td>\n",
       "      <td>0.006088</td>\n",
       "      <td>-0.000026</td>\n",
       "      <td>0.002580</td>\n",
       "      <td>-0.4</td>\n",
       "      <td>0.024537</td>\n",
       "      <td>0.010775</td>\n",
       "      <td>-0.001522</td>\n",
       "      <td>21.859</td>\n",
       "    </tr>\n",
       "    <tr>\n",
       "      <th>3</th>\n",
       "      <td>0.014906</td>\n",
       "      <td>0.010552</td>\n",
       "      <td>-0.002070</td>\n",
       "      <td>0.002297</td>\n",
       "      <td>0.007759</td>\n",
       "      <td>0.006332</td>\n",
       "      <td>0.006881</td>\n",
       "      <td>0.006960</td>\n",
       "      <td>0.007170</td>\n",
       "      <td>0.005369</td>\n",
       "      <td>...</td>\n",
       "      <td>0.002806</td>\n",
       "      <td>0.002097</td>\n",
       "      <td>-0.001254</td>\n",
       "      <td>-0.001110</td>\n",
       "      <td>-0.000026</td>\n",
       "      <td>1.0</td>\n",
       "      <td>0.001953</td>\n",
       "      <td>0.002919</td>\n",
       "      <td>-0.007061</td>\n",
       "      <td>17.646</td>\n",
       "    </tr>\n",
       "    <tr>\n",
       "      <th>4</th>\n",
       "      <td>0.003849</td>\n",
       "      <td>0.005012</td>\n",
       "      <td>0.006324</td>\n",
       "      <td>-0.004013</td>\n",
       "      <td>0.015736</td>\n",
       "      <td>-0.001227</td>\n",
       "      <td>-0.001093</td>\n",
       "      <td>0.000432</td>\n",
       "      <td>-0.000154</td>\n",
       "      <td>-0.006664</td>\n",
       "      <td>...</td>\n",
       "      <td>0.000006</td>\n",
       "      <td>0.000475</td>\n",
       "      <td>0.001125</td>\n",
       "      <td>-0.003968</td>\n",
       "      <td>0.005006</td>\n",
       "      <td>3.1</td>\n",
       "      <td>0.023132</td>\n",
       "      <td>-0.003040</td>\n",
       "      <td>0.000791</td>\n",
       "      <td>20.785</td>\n",
       "    </tr>\n",
       "    <tr>\n",
       "      <th>...</th>\n",
       "      <td>...</td>\n",
       "      <td>...</td>\n",
       "      <td>...</td>\n",
       "      <td>...</td>\n",
       "      <td>...</td>\n",
       "      <td>...</td>\n",
       "      <td>...</td>\n",
       "      <td>...</td>\n",
       "      <td>...</td>\n",
       "      <td>...</td>\n",
       "      <td>...</td>\n",
       "      <td>...</td>\n",
       "      <td>...</td>\n",
       "      <td>...</td>\n",
       "      <td>...</td>\n",
       "      <td>...</td>\n",
       "      <td>...</td>\n",
       "      <td>...</td>\n",
       "      <td>...</td>\n",
       "      <td>...</td>\n",
       "      <td>...</td>\n",
       "    </tr>\n",
       "    <tr>\n",
       "      <th>449</th>\n",
       "      <td>-0.000581</td>\n",
       "      <td>0.000152</td>\n",
       "      <td>-0.014204</td>\n",
       "      <td>-0.006086</td>\n",
       "      <td>-0.016180</td>\n",
       "      <td>-0.001986</td>\n",
       "      <td>-0.001875</td>\n",
       "      <td>-0.000729</td>\n",
       "      <td>-0.003267</td>\n",
       "      <td>-0.005663</td>\n",
       "      <td>...</td>\n",
       "      <td>-0.003779</td>\n",
       "      <td>-0.000576</td>\n",
       "      <td>0.002563</td>\n",
       "      <td>0.003839</td>\n",
       "      <td>0.002867</td>\n",
       "      <td>3.2</td>\n",
       "      <td>0.000773</td>\n",
       "      <td>0.000742</td>\n",
       "      <td>-0.000824</td>\n",
       "      <td>21.299</td>\n",
       "    </tr>\n",
       "    <tr>\n",
       "      <th>450</th>\n",
       "      <td>-0.004904</td>\n",
       "      <td>-0.001681</td>\n",
       "      <td>0.013257</td>\n",
       "      <td>0.011970</td>\n",
       "      <td>0.026696</td>\n",
       "      <td>0.003799</td>\n",
       "      <td>0.007454</td>\n",
       "      <td>0.009501</td>\n",
       "      <td>0.015470</td>\n",
       "      <td>0.019219</td>\n",
       "      <td>...</td>\n",
       "      <td>0.002847</td>\n",
       "      <td>-0.000938</td>\n",
       "      <td>-0.001507</td>\n",
       "      <td>-0.000681</td>\n",
       "      <td>-0.000441</td>\n",
       "      <td>-3.4</td>\n",
       "      <td>-0.002669</td>\n",
       "      <td>-0.001979</td>\n",
       "      <td>0.004255</td>\n",
       "      <td>22.914</td>\n",
       "    </tr>\n",
       "    <tr>\n",
       "      <th>451</th>\n",
       "      <td>0.001110</td>\n",
       "      <td>0.002994</td>\n",
       "      <td>0.000247</td>\n",
       "      <td>-0.007624</td>\n",
       "      <td>0.016385</td>\n",
       "      <td>0.007342</td>\n",
       "      <td>0.009755</td>\n",
       "      <td>0.007519</td>\n",
       "      <td>0.002285</td>\n",
       "      <td>-0.018328</td>\n",
       "      <td>...</td>\n",
       "      <td>0.010255</td>\n",
       "      <td>-0.000944</td>\n",
       "      <td>-0.001120</td>\n",
       "      <td>-0.000985</td>\n",
       "      <td>-0.003280</td>\n",
       "      <td>-4.4</td>\n",
       "      <td>0.011365</td>\n",
       "      <td>0.005705</td>\n",
       "      <td>-0.008765</td>\n",
       "      <td>26.143</td>\n",
       "    </tr>\n",
       "    <tr>\n",
       "      <th>452</th>\n",
       "      <td>-0.003315</td>\n",
       "      <td>-0.002862</td>\n",
       "      <td>0.002609</td>\n",
       "      <td>-0.012677</td>\n",
       "      <td>0.011465</td>\n",
       "      <td>0.007003</td>\n",
       "      <td>0.003294</td>\n",
       "      <td>0.004622</td>\n",
       "      <td>0.002046</td>\n",
       "      <td>0.029312</td>\n",
       "      <td>...</td>\n",
       "      <td>0.010066</td>\n",
       "      <td>0.002282</td>\n",
       "      <td>-0.000016</td>\n",
       "      <td>-0.001286</td>\n",
       "      <td>0.005264</td>\n",
       "      <td>-3.4</td>\n",
       "      <td>-0.023457</td>\n",
       "      <td>-0.015267</td>\n",
       "      <td>-0.006417</td>\n",
       "      <td>26.937</td>\n",
       "    </tr>\n",
       "    <tr>\n",
       "      <th>453</th>\n",
       "      <td>0.002163</td>\n",
       "      <td>0.002945</td>\n",
       "      <td>0.002198</td>\n",
       "      <td>0.001610</td>\n",
       "      <td>0.007081</td>\n",
       "      <td>0.006545</td>\n",
       "      <td>0.010177</td>\n",
       "      <td>0.013053</td>\n",
       "      <td>0.012940</td>\n",
       "      <td>0.022151</td>\n",
       "      <td>...</td>\n",
       "      <td>-0.031077</td>\n",
       "      <td>-0.000559</td>\n",
       "      <td>-0.001464</td>\n",
       "      <td>-0.002845</td>\n",
       "      <td>-0.004074</td>\n",
       "      <td>5.8</td>\n",
       "      <td>0.012761</td>\n",
       "      <td>0.008358</td>\n",
       "      <td>-0.001397</td>\n",
       "      <td>24.485</td>\n",
       "    </tr>\n",
       "  </tbody>\n",
       "</table>\n",
       "<p>454 rows × 126 columns</p>\n",
       "</div>"
      ],
      "text/plain": [
       "          RPI   W875RX1  DPCERA3M086SBEA  CMRMTSPLx   RETAILx    INDPRO  \\\n",
       "0    0.002194  0.003639         0.001174   0.007182  0.009890  0.003196   \n",
       "1    0.004418  0.003464         0.000209   0.020844  0.003217  0.016510   \n",
       "2    0.003281  0.003003         0.002925  -0.010384  0.006061  0.005008   \n",
       "3    0.014906  0.010552        -0.002070   0.002297  0.007759  0.006332   \n",
       "4    0.003849  0.005012         0.006324  -0.004013  0.015736 -0.001227   \n",
       "..        ...       ...              ...        ...       ...       ...   \n",
       "449 -0.000581  0.000152        -0.014204  -0.006086 -0.016180 -0.001986   \n",
       "450 -0.004904 -0.001681         0.013257   0.011970  0.026696  0.003799   \n",
       "451  0.001110  0.002994         0.000247  -0.007624  0.016385  0.007342   \n",
       "452 -0.003315 -0.002862         0.002609  -0.012677  0.011465  0.007003   \n",
       "453  0.002163  0.002945         0.002198   0.001610  0.007081  0.006545   \n",
       "\n",
       "      IPFPNSS   IPFINAL   IPCONGD  IPDCONGD  ...  DNDGRG3M086SBEA  \\\n",
       "0    0.003118  0.001855  0.003604  0.009532  ...         0.001199   \n",
       "1    0.013513  0.012288  0.009571  0.044996  ...        -0.001583   \n",
       "2    0.003899  0.004876 -0.000743  0.013024  ...        -0.005781   \n",
       "3    0.006881  0.006960  0.007170  0.005369  ...         0.002806   \n",
       "4   -0.001093  0.000432 -0.000154 -0.006664  ...         0.000006   \n",
       "..        ...       ...       ...       ...  ...              ...   \n",
       "449 -0.001875 -0.000729 -0.003267 -0.005663  ...        -0.003779   \n",
       "450  0.007454  0.009501  0.015470  0.019219  ...         0.002847   \n",
       "451  0.009755  0.007519  0.002285 -0.018328  ...         0.010255   \n",
       "452  0.003294  0.004622  0.002046  0.029312  ...         0.010066   \n",
       "453  0.010177  0.013053  0.012940  0.022151  ...        -0.031077   \n",
       "\n",
       "     DSERRG3M086SBEA  CES0600000008  CES2000000008  CES3000000008  UMCSENTx  \\\n",
       "0          -0.001255       0.003831       0.004200       0.002696       5.0   \n",
       "1           0.002708      -0.002661      -0.004279      -0.002858       6.4   \n",
       "2          -0.001497       0.006088      -0.000026       0.002580      -0.4   \n",
       "3           0.002097      -0.001254      -0.001110      -0.000026       1.0   \n",
       "4           0.000475       0.001125      -0.003968       0.005006       3.1   \n",
       "..               ...            ...            ...            ...       ...   \n",
       "449        -0.000576       0.002563       0.003839       0.002867       3.2   \n",
       "450        -0.000938      -0.001507      -0.000681      -0.000441      -3.4   \n",
       "451        -0.000944      -0.001120      -0.000985      -0.003280      -4.4   \n",
       "452         0.002282      -0.000016      -0.001286       0.005264      -3.4   \n",
       "453        -0.000559      -0.001464      -0.002845      -0.004074       5.8   \n",
       "\n",
       "     DTCOLNVHFNM  DTCTHFNM    INVEST  VIXCLSx  \n",
       "0      -0.007424 -0.004902  0.000692   21.257  \n",
       "1       0.000066 -0.000625 -0.007042   24.689  \n",
       "2       0.024537  0.010775 -0.001522   21.859  \n",
       "3       0.001953  0.002919 -0.007061   17.646  \n",
       "4       0.023132 -0.003040  0.000791   20.785  \n",
       "..           ...       ...       ...      ...  \n",
       "449     0.000773  0.000742 -0.000824   21.299  \n",
       "450    -0.002669 -0.001979  0.004255   22.914  \n",
       "451     0.011365  0.005705 -0.008765   26.143  \n",
       "452    -0.023457 -0.015267 -0.006417   26.937  \n",
       "453     0.012761  0.008358 -0.001397   24.485  \n",
       "\n",
       "[454 rows x 126 columns]"
      ]
     },
     "execution_count": 23,
     "metadata": {},
     "output_type": "execute_result"
    }
   ],
   "source": [
    "data_new = data.iloc[:,1:]\n",
    "data_new"
   ]
  },
  {
   "cell_type": "code",
   "execution_count": 33,
   "id": "4b12ed2d",
   "metadata": {},
   "outputs": [
    {
     "data": {
      "text/plain": [
       "Index(['RPI', 'IPMANSICS', 'USFIRE', 'USGOVT', 'M2REAL', 'CONSPI',\n",
       "       'CUSR0000SA0L2', 'DSERRG3M086SBEA'],\n",
       "      dtype='object')"
      ]
     },
     "execution_count": 33,
     "metadata": {},
     "output_type": "execute_result"
    }
   ],
   "source": [
    "data_new.columns[(output_coverage[:,0] > 0.945) & (output_bandwidth[:,0] < output_bandwidth[:,2])]"
   ]
  },
  {
   "cell_type": "code",
   "execution_count": 35,
   "id": "67862d0f",
   "metadata": {},
   "outputs": [
    {
     "name": "stderr",
     "output_type": "stream",
     "text": [
      "/Users/mdeb/BOSTON UNIVERSITY Dropbox/Debarghya Mukherjee/Jiawei/Prediction Band/Codes/all_functions.py:304: DataConversionWarning: A column-vector y was passed when a 1d array was expected. Please change the shape of y to (n_samples,), for example using ravel().\n",
      "  var_model.fit(X, Y.reshape(-1,1))\n"
     ]
    },
    {
     "name": "stdout",
     "output_type": "stream",
     "text": [
      "The overall coverage for UTOPIA is 0.978021978021978\n",
      "Mean bandwidth on test data for UTOPIA is 0.0006753001409418569\n",
      "The overall coverage for LQR is 0.5934065934065934\n",
      "Mean bandwidth on test data for LQR is 0.00032676865626071836\n",
      "The overall coverage for SplitCF is 0.978021978021978\n",
      "Mean bandwidth on test data for SplitCF is 0.0011209154525900873\n"
     ]
    }
   ],
   "source": [
    "Data, Y_axis = FRED_MD_DATA_PREP('RPI', ncomps=2, error_comps=3)\n",
    "    \n",
    "X_t,Y_t,M_t,V_alpha_t, coverage_utopia, bandwidth_utopia = UTOPIA_FRED_MD_MULTIVARIATE(Data, shrink = True)\n",
    "X_test,Y_test,M_test,V_test,coverage_lqr, bandwidth_lqr = LQR_FRED_MD_MULTIVARIATE(Data)\n",
    "X_test,Y_test,M_test,V_test, coverage_split, bandwidth_split = SplitCF_FRED_MD_MULTIVARIATE(Data)"
   ]
  },
  {
   "cell_type": "code",
   "execution_count": 38,
   "id": "668a42a6",
   "metadata": {},
   "outputs": [
    {
     "data": {
      "text/plain": [
       "[<matplotlib.lines.Line2D at 0x32a0d1ea0>]"
      ]
     },
     "execution_count": 38,
     "metadata": {},
     "output_type": "execute_result"
    },
    {
     "data": {
      "image/png": "[encoded data removed]",
      "text/plain": [
       "<Figure size 640x480 with 1 Axes>"
      ]
     },
     "metadata": {},
     "output_type": "display_data"
    }
   ],
   "source": [
    "import seaborn as sns\n",
    "sns.set()\n",
    "sns.set_style(\"darkgrid\")\n",
    "sns.set_context(\"notebook\", font_scale=1.5, rc={\"lines.linewidth\": 2.5})\n",
    "palette = sns.color_palette(\"Blues_r\", 4)\n",
    "sns.scatterplot(x=X_sort[:,0], y=Y_sort[:,0], color=palette[0], edgecolor='w', linewidth=0.5)\n",
    "plt.fill_between(X_sort[:,0], lower_CI_sort[:,0], upper_CI_sort[:,0], color=palette[1], alpha=0.4)\n",
    "plt.plot(X_sort, lower_CI_sort, color=palette[2], lw=2,alpha=0.6)\n",
    "plt.plot(X_sort, upper_CI_sort, color=palette[2], lw=2,alpha=0.6)\n",
    "plt.plot(X_sort, mean, '-', color='orange', linewidth=2,label=\"Mean\")\n",
    "#    plt.plot(X_sort, mean, color=palette[3], linewidth=2, label=\"Mean\")\n",
    "plt.xlabel(\"X\")\n",
    "plt.ylabel(\"Y\")\n",
    "plt.ylim(ylim)\n",
    "legend_elements = [\n",
    "patches.Rectangle((0, 0), 1, 1, lw=0, color=palette[1], alpha=0.4, label=\"PI\"),\n",
    "lines.Line2D([0], [0], color='orange', lw=2, label=\"Mean\")]\n",
    "plt.legend(handles=legend_elements, loc=legend_loc)\n",
    "#     plt.legend(loc='upper right')\n",
    "plt.show()"
   ]
  },
  {
   "cell_type": "code",
   "execution_count": 46,
   "id": "b6c20f36",
   "metadata": {},
   "outputs": [],
   "source": [
    "import seaborn as sns\n",
    "sns.set()\n",
    "sns.set_style(\"darkgrid\")\n",
    "sns.set_context(\"notebook\", font_scale=1.5, rc={\"lines.linewidth\": 2.5})\n",
    "palette = sns.color_palette(\"Blues_r\", 4)\n",
    "\n",
    "\n",
    "def my_plot_FRED_MD(Y, Y_hat, V_hat, ylabel): \n",
    "    X = range(len(Y))\n",
    "    lower_CI = Y_hat-np.sqrt(V_hat)\n",
    "    upper_CI = Y_hat+np.sqrt(V_hat)\n",
    "\n",
    "\n",
    "    sns.scatterplot(x = X, y=Y.reshape(-1), color=palette[0], edgecolor='w', linewidth=0.5)\n",
    "    plt.fill_between(X, lower_CI.reshape(-1), upper_CI.reshape(-1), color=palette[1], alpha=0.4)\n",
    "    plt.plot(X, lower_CI.reshape(-1), color=palette[2], lw=2,alpha=0.6)\n",
    "    plt.plot(X, upper_CI.reshape(-1), color=palette[2], lw=2,alpha=0.6)\n",
    "    plt.plot(X, Y_hat.reshape(-1), '-', color='orange', linewidth=2,label=\"Mean\")\n",
    "    #    plt.plot(X_sort, mean, color=palette[3], linewidth=2, label=\"Mean\")\n",
    "    plt.xlabel(\"Time\")\n",
    "    plt.ylabel(ylabel)\n",
    "    #plt.ylim(ylim)\n",
    "    legend_elements = [\n",
    "    patches.Rectangle((0, 0), 1, 1, lw=0, color=palette[1], alpha=0.4, label=\"PI\"),\n",
    "    lines.Line2D([0], [0], color='orange', lw=2, label=\"Mean\")]\n",
    "    plt.legend(handles=legend_elements, loc='best')\n",
    "    plt.show()"
   ]
  },
  {
   "cell_type": "code",
   "execution_count": 47,
   "id": "4f3663f7",
   "metadata": {},
   "outputs": [
    {
     "name": "stderr",
     "output_type": "stream",
     "text": [
      "/Users/mdeb/BOSTON UNIVERSITY Dropbox/Debarghya Mukherjee/Jiawei/Prediction Band/Codes/all_functions.py:304: DataConversionWarning: A column-vector y was passed when a 1d array was expected. Please change the shape of y to (n_samples,), for example using ravel().\n",
      "  var_model.fit(X, Y.reshape(-1,1))\n"
     ]
    },
    {
     "name": "stdout",
     "output_type": "stream",
     "text": [
      "The overall coverage for UTOPIA is 0.978021978021978\n",
      "Mean bandwidth on test data for UTOPIA is 0.0006753001409418569\n"
     ]
    },
    {
     "data": {
      "image/png": "[encoded data removed]",
      "text/plain": [
       "<Figure size 640x480 with 1 Axes>"
      ]
     },
     "metadata": {},
     "output_type": "display_data"
    }
   ],
   "source": [
    "Data, Y_axis = FRED_MD_DATA_PREP('RPI', ncomps=2, error_comps=3)\n",
    "X_t,Y_t,M_t,V_alpha_t, coverage_utopia, bandwidth_utopia = UTOPIA_FRED_MD_MULTIVARIATE(Data, shrink = True)\n",
    "my_plot_FRED_MD(Y_t, M_t, V_alpha_t, 'RPI')"
   ]
  },
  {
   "cell_type": "code",
   "execution_count": 48,
   "id": "54707de5",
   "metadata": {},
   "outputs": [
    {
     "name": "stderr",
     "output_type": "stream",
     "text": [
      "/Users/mdeb/BOSTON UNIVERSITY Dropbox/Debarghya Mukherjee/Jiawei/Prediction Band/Codes/all_functions.py:304: DataConversionWarning: A column-vector y was passed when a 1d array was expected. Please change the shape of y to (n_samples,), for example using ravel().\n",
      "  var_model.fit(X, Y.reshape(-1,1))\n"
     ]
    },
    {
     "name": "stdout",
     "output_type": "stream",
     "text": [
      "The overall coverage for UTOPIA is 0.989010989010989\n",
      "Mean bandwidth on test data for UTOPIA is 0.0005910090281885534\n"
     ]
    },
    {
     "data": {
      "image/png": "[encoded data removed]",
      "text/plain": [
       "<Figure size 640x480 with 1 Axes>"
      ]
     },
     "metadata": {},
     "output_type": "display_data"
    }
   ],
   "source": [
    "Data, Y_axis = FRED_MD_DATA_PREP('USGOVT', ncomps=2, error_comps=3)\n",
    "X_t,Y_t,M_t,V_alpha_t, coverage_utopia, bandwidth_utopia = UTOPIA_FRED_MD_MULTIVARIATE(Data, shrink = True)\n",
    "my_plot_FRED_MD(Y_t, M_t, V_alpha_t, 'USGOVT')"
   ]
  }
 ],
 "metadata": {
  "kernelspec": {
   "display_name": "Python 3 (ipykernel)",
   "language": "python",
   "name": "python3"
  },
  "language_info": {
   "codemirror_mode": {
    "name": "ipython",
    "version": 3
   },
   "file_extension": ".py",
   "mimetype": "text/x-python",
   "name": "python",
   "nbconvert_exporter": "python",
   "pygments_lexer": "ipython3",
   "version": "3.10.9"
  }
 },
 "nbformat": 4,
 "nbformat_minor": 5
}
