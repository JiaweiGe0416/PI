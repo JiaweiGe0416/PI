{
 "cells": [
  {
   "cell_type": "code",
   "execution_count": 1,
   "id": "06d1906d",
   "metadata": {},
   "outputs": [],
   "source": [
    "from all_functions import * \n",
    "from sklearn.decomposition import PCA\n",
    "import copy\n",
    "from scipy.linalg import eigh\n",
    "from sklearn.linear_model import LinearRegression"
   ]
  },
  {
   "cell_type": "code",
   "execution_count": 2,
   "id": "6bdf64c9",
   "metadata": {},
   "outputs": [],
   "source": [
    "\"\"\"\n",
    "This new functions takes the following inputs: \n",
    "\n",
    "    name -- the name of the Y variables, should be within double quote\n",
    "    ncomps -- number of principal components to be used \n",
    "    error_comps -- number of error components to be used \n",
    "    outlier_remove -- a logical variable indicating whether to remove outliers \n",
    "    \n",
    "This function select the Y variable based on the input name, and set X as \n",
    "all other variables. \n",
    "\n",
    "\"\"\"\n",
    "def FRED_MD_DATA_PREP(name, ncomps = 5, error_comps = 5, outlier_remove = False, seed = 0):\n",
    "   \n",
    "    \"\"\"\n",
    "    Read the entire data\n",
    "    \"\"\"\n",
    "    \n",
    "    data = pd.read_csv('Transformed_na_removed.csv')\n",
    "    \n",
    "    \"\"\"\n",
    "    Set the Y axis to be the column of given name in the input, \n",
    "    remove that column and set the rest of the matrix as X. \n",
    "    Finally, do PCA on the X matrix. \n",
    "    \n",
    "    \"\"\"\n",
    "    \n",
    "    Y_axis = name\n",
    "    X = copy.deepcopy(data)\n",
    "    X.pop(name)\n",
    "    X = X.to_numpy()\n",
    "    n_data = X.shape[0]\n",
    "    Y = data[name].to_numpy()\n",
    "    W, V = eigh(X @ X.T)\n",
    "    F_hat = np.sqrt(n_data) * V[:,-ncomps:] # select last ncomps columns of V\n",
    "    B_hat = (1/n_data) * (X.T @ F_hat)\n",
    "    \n",
    "    if error_comps > 0:\n",
    "        \n",
    "        \"\"\"\n",
    "        First we project out the space of principal components\n",
    "        to estimate the idiosyncratic errors. \n",
    "        \"\"\"\n",
    "        \n",
    "#         loadings = X.T @ X_pca @ np.linalg.inv(X_pca.T @ X_pca) # OLS of X on X.pca\n",
    "#         errors = X - X_pca @ loadings.T # OLS residuals\n",
    "        U_hat = X - (F_hat @ B_hat.T)\n",
    "        model = LinearRegression()\n",
    "        model.fit(F_hat, Y)\n",
    "        Y_u = Y - model.predict(F_hat)\n",
    "        \n",
    "        \n",
    "        \"\"\"\n",
    "            Next we apply conditional SURE independent screening to select the \n",
    "            idiosyncratic components.\n",
    "        \"\"\"\n",
    "       \n",
    "        def cor_cal(x):\n",
    "            return np.corrcoef(x, Y_u)[0, 1]\n",
    "        \n",
    "        cor_vec = np.apply_along_axis(cor_cal, 0, U_hat)\n",
    "        idx = np.argsort(-np.abs(cor_vec))\n",
    "        errors_to_add = U_hat[:,idx[:error_comps]]\n",
    "        Data = np.hstack([F_hat, errors_to_add, Y.reshape(-1, 1)])\n",
    "    \n",
    "    else:\n",
    "        Data = np.hstack([F_hat, Y.reshape(-1, 1)])\n",
    "    \n",
    "    if outlier_remove:\n",
    "        Q1 = np.percentile(Y, 25, method = 'midpoint')\n",
    "        Q3 = np.percentile(Y, 75, method = 'midpoint')\n",
    "        IQR = Q3 - Q1\n",
    "        upper=Q3+1.5*IQR\n",
    "        upper_array=np.array(Y<=upper)\n",
    "        lower=Q1-1.5*IQR\n",
    "        lower_array=np.array(Y>=lower)\n",
    "        index_keep = upper_array & lower_array\n",
    "        Data = Data[index_keep[:,0].tolist(),:]\n",
    "        print(\"The number of data being removed is \", Y.shape[0]-Data.shape[0])\n",
    "        \n",
    "    np.random.seed(seed)\n",
    "    np.random.shuffle(Data)\n",
    "    return Data, Y_axis"
   ]
  },
  {
   "cell_type": "code",
   "execution_count": 3,
   "id": "c2b39dad",
   "metadata": {},
   "outputs": [],
   "source": [
    "def UTOPIA_FRED_MD_MULTIVARIATE(Data, shrink = True):\n",
    "    train_idx = int(Data.shape[0] * 0.8)\n",
    "    train_data, test_data = np.split(Data, [train_idx])\n",
    "    X_pre = train_data[:,:-1]\n",
    "    Y_pre = train_data[:,-1].reshape(-1,1)\n",
    "    X_opt = train_data[:,:-1]\n",
    "    Y_opt = train_data[:,-1].reshape(-1,1)\n",
    "    X_adj = train_data[:,:-1]\n",
    "    Y_adj = train_data[:,-1].reshape(-1,1)\n",
    "    X_t = test_data[:,:-1]\n",
    "    Y_t = test_data[:,-1].reshape(-1,1)\n",
    "\n",
    "\n",
    "    n_pre = len(Y_pre)\n",
    "    n_opt = len(Y_opt)\n",
    "    n_adj = len(Y_adj)\n",
    "    n_t = len(Y_t)\n",
    "\n",
    "    # Obtain mean estimator\n",
    "    known_mean = \"False\"\n",
    "    if known_mean == \"True\":\n",
    "        M_pre = np.zeros(n_pre).reshape(-1,1)\n",
    "        M_opt = np.zeros(n_opt).reshape(-1,1)\n",
    "        M_adj = np.zeros(n_adj).reshape(-1,1)\n",
    "        M_t = np.zeros(n_t).reshape(-1,1)\n",
    "    else:\n",
    "        est_type = \"NN1\"\n",
    "        M_pre, M_opt, M_adj, M_t = mean_est(est_type,X_pre,Y_pre,X_opt,X_adj,X_t)\n",
    "\n",
    "    # Obtain variance estimator\n",
    "    var_opt, var_adj, var_t = var_est(X_pre,Y_pre,M_pre,X_opt,X_adj,X_t,est_type =\"NN1\")\n",
    "\n",
    "\n",
    "    # Obtain quantile estimators\n",
    "    quantile = [0.05,0.35,0.65,0.95]\n",
    "    m1,Q1_opt,Q1_adj,Q1_t = est_quantile(\"NN1\",quantile[0],X_pre,Y_pre,X_opt,X_adj,X_t)\n",
    "    m2,Q2_opt,Q2_adj,Q2_t = est_quantile(\"NN2\",quantile[1],X_pre,Y_pre,X_opt,X_adj,X_t)\n",
    "    m3,Q3_opt,Q3_adj,Q3_t = est_quantile(\"qrf\",quantile[2],X_pre,Y_pre,X_opt,X_adj,X_t)\n",
    "    m4,Q4_opt,Q4_adj,Q4_t = est_quantile(\"gb\",quantile[3],X_pre,Y_pre,X_opt,X_adj,X_t)\n",
    "\n",
    "    # construct estimator matrix\n",
    "    E_opt = np.hstack(((Q1_opt-M_opt)**2, (Q2_opt-M_opt)**2, (Q3_opt-M_opt)**2, (Q4_opt-M_opt)**2, var_opt))\n",
    "    E_opt = E_opt.T\n",
    "    E_adj = np.hstack(((Q1_adj-M_adj)**2, (Q2_adj-M_adj)**2, (Q3_adj-M_adj)**2, (Q4_adj-M_adj)**2, var_adj))\n",
    "    E_adj = E_adj.T\n",
    "    E_t = np.hstack(((Q1_t-M_t)**2, (Q2_t-M_t)**2, (Q3_t-M_t)**2, (Q4_t-M_t)**2, var_t))\n",
    "    E_t = E_t.T\n",
    "\n",
    "\n",
    "    # solve optimization problem\n",
    "\n",
    "    optimal_weight, V100_adj, V100_t= solve_opt(X_opt,Y_opt, M_opt, M_adj, M_t, X_adj, X_t, \"aug\", E_opt, E_adj, E_t)\n",
    "    # opt_sol, V100_adj, V100_t = solve_opt(X_opt,Y_opt, M_opt, M_adj, M_t, X_adj, X_t, \"rkhs_poly\", degree = 2)\n",
    "    # opt_sol, V100_adj, V100_t = solve_opt(X_opt,Y_opt, M_opt, M_adj, M_t, X_adj, X_t, \"rkhs_rbf\", sigma = 1)\n",
    "\n",
    "    # adjust interval\n",
    "    if shrink: \n",
    "        alpha = 0.05\n",
    "        delta = interval_adj(X_adj,Y_adj,M_adj,V100_adj,alpha,stepsize = 0.001)\n",
    "\n",
    "        # plot\n",
    "        V_alpha_t = delta*V100_t\n",
    "    else:\n",
    "        V_alpha_t = V100_t\n",
    "    \n",
    "    coverage = (np.power(Y_t[:,0]-M_t[:,0], 2) <= V_alpha_t[:,0]).mean()\n",
    "    bandwidth = np.mean(V_alpha_t[:,0])\n",
    "    print(\"The overall coverage for UTOPIA is\", coverage)\n",
    "    print(\"Mean bandwidth on test data for UTOPIA is\", bandwidth)\n",
    "    return X_t,Y_t,M_t,V_alpha_t,coverage,bandwidth"
   ]
  },
  {
   "cell_type": "code",
   "execution_count": 4,
   "id": "1501e604",
   "metadata": {},
   "outputs": [],
   "source": [
    "def LQR_FRED_MD_MULTIVARIATE(Data):\n",
    "    train_idx = int(Data.shape[0] * 0.8)\n",
    "    train_data, test_data = np.split(Data, [train_idx])\n",
    "\n",
    "    X_lin = train_data[:,:-1]\n",
    "    Y_lin = train_data[:,-1].reshape(-1,1)\n",
    "    y_lin = Y_lin[:,0]\n",
    "    X_quantile = train_data[:,:-1]\n",
    "    Y_quantile = train_data[:,-1].reshape(-1,1)\n",
    "    X_test = test_data[:,:-1]\n",
    "    Y_test = test_data[:,-1].reshape(-1,1)\n",
    "\n",
    "    # Estimate the mean using NN1\n",
    "    est_type = \"NN1\"\n",
    "    M_quantile, M_test = mean_est_others(est_type,X_lin,Y_lin,X_quantile,X_test)\n",
    "\n",
    "    # Estimate the quantile\n",
    "    alpha = 0.05\n",
    "\n",
    "    model_quantile = QuantileRegressor(quantile=1-(alpha/2), alpha=0, solver = 'highs')\n",
    "    model_quantile.fit(X_quantile, (Y_quantile-M_quantile).reshape(-1))\n",
    "    Q_test = model_quantile.predict(X_test)\n",
    "\n",
    "\n",
    "    V_test = Q_test**2\n",
    "    V_test = V_test.reshape(-1,1)\n",
    "    coverage = (np.power(Y_test[:,0]-M_test[:,0], 2) <= V_test[:,0]).mean()\n",
    "    bandwidth = np.mean(V_test[:,0])\n",
    "    print(\"The overall coverage for LQR is\", coverage)\n",
    "    print(\"Mean bandwidth on test data for LQR is\", bandwidth)\n",
    "    return X_test,Y_test,M_test,V_test, coverage, bandwidth"
   ]
  },
  {
   "cell_type": "code",
   "execution_count": 5,
   "id": "3b1d9848",
   "metadata": {},
   "outputs": [],
   "source": [
    "def SplitCF_FRED_MD_MULTIVARIATE(Data): \n",
    "    train_idx = int(Data.shape[0] * 0.8)\n",
    "    train_data, test_data = np.split(Data, [train_idx])\n",
    "\n",
    "\n",
    "    X_lin = train_data[:,:-1]\n",
    "    Y_lin = train_data[:,1].reshape(-1,1)\n",
    "    y_lin = Y_lin[:,0]\n",
    "    X_res = train_data[:,:-1]\n",
    "    Y_res = train_data[:,1].reshape(-1,1)\n",
    "    y_res = Y_res[:,0]\n",
    "    X_test = test_data[:,:-1]\n",
    "    Y_test = test_data[:,1].reshape(-1,1)\n",
    "    y_test = Y_test[:,0]\n",
    "\n",
    "    # Estimate the mean using NN1\n",
    "    est_type = \"NN1\"\n",
    "    Y_res_pred, M_test = mean_est_others(est_type,X_lin,Y_lin,X_res,X_test)\n",
    "    y_res_pred = Y_res_pred[:,0]\n",
    "\n",
    "    # Calculate the conformity scores\n",
    "    residuals = np.abs(y_res - y_res_pred)\n",
    "\n",
    "    alpha = 0.05  # 95% confidence level\n",
    "    k = int((1 - alpha) * len(y_lin))\n",
    "    residuals_sorted = np.sort(residuals)\n",
    "    threshold = residuals_sorted[k]\n",
    "\n",
    "    # Calculate the prediction interval\n",
    "    v_test = (threshold**2)*np.ones(len(y_test))\n",
    "    V_test = v_test.reshape(-1,1)\n",
    "    coverage = (np.power(Y_test[:,0]-M_test[:,0], 2) <= V_test[:,0]).mean()\n",
    "    bandwidth = np.mean(V_test[:,0])\n",
    "    print(\"The overall coverage for SplitCF is\", coverage)\n",
    "    print(\"Mean bandwidth on test data for SplitCF is\", bandwidth)\n",
    "    return X_test,Y_test,M_test,V_test,coverage,bandwidth"
   ]
  },
  {
   "cell_type": "code",
   "execution_count": 12,
   "id": "660feccd",
   "metadata": {},
   "outputs": [
    {
     "data": {
      "image/png": "[encoded data removed]",
      "text/plain": [
       "<Figure size 432x288 with 1 Axes>"
      ]
     },
     "metadata": {
      "needs_background": "light"
     },
     "output_type": "display_data"
    }
   ],
   "source": [
    "Data, Y_axis = FRED_MD_DATA_PREP('UNRATE', ncomps=5, error_comps=5, seed = 100)\n",
    "train_idx = int(Data.shape[0] * 0.8)\n",
    "train_data, test_data = np.split(Data, [train_idx])\n",
    "plt.plot(train_data[:,0],train_data[:,-1],'o',color = 'orange',label = 'training data')\n",
    "plt.plot(test_data[:,0],test_data[:,-1],'.', label = 'testing data')\n",
    "plt.legend(loc=\"upper right\")\n",
    "plt.show()"
   ]
  },
  {
   "cell_type": "code",
   "execution_count": 6,
   "id": "63466c67",
   "metadata": {},
   "outputs": [
    {
     "name": "stdout",
     "output_type": "stream",
     "text": [
      "The overall coverage for UTOPIA is 0.7032967032967034\n",
      "Mean bandwidth on test data for UTOPIA is 0.010132785812184584\n",
      "The overall coverage for LQR is 0.8131868131868132\n",
      "Mean bandwidth on test data for LQR is 0.006636002103900188\n",
      "The overall coverage for SplitCF is 0.9120879120879121\n",
      "Mean bandwidth on test data for SplitCF is 0.007120707048605875\n"
     ]
    }
   ],
   "source": [
    "seed_no = 1\n",
    "Data, Y_axis = FRED_MD_DATA_PREP(\"UEMP15T26\", ncomps=5, error_comps=5, seed = seed_no)\n",
    "\n",
    "X_t,Y_t,M_t,V_alpha_t,covarage,bandwidth = UTOPIA_FRED_MD_MULTIVARIATE(Data, shrink = True)\n",
    "X_test,Y_test,M_test,V_test,covarage,bandwidth = LQR_FRED_MD_MULTIVARIATE(Data)\n",
    "X_test,Y_test,M_test,V_test,coverage,bandwidth = SplitCF_FRED_MD_MULTIVARIATE(Data)\n"
   ]
  },
  {
   "cell_type": "code",
   "execution_count": 7,
   "id": "bf9ddd44",
   "metadata": {},
   "outputs": [
    {
     "name": "stdout",
     "output_type": "stream",
     "text": [
      "The overall coverage for UTOPIA is 0.7692307692307693\n",
      "Mean bandwidth on test data for UTOPIA is 0.0838886265769031\n",
      "The overall coverage for LQR is 0.8241758241758241\n",
      "Mean bandwidth on test data for LQR is 0.029257627598232097\n",
      "The overall coverage for SplitCF is 0.9120879120879121\n",
      "Mean bandwidth on test data for SplitCF is 0.005896696170553176\n"
     ]
    }
   ],
   "source": [
    "seed_no = 1\n",
    "Data, Y_axis = FRED_MD_DATA_PREP(\"TB3SMFFM\", ncomps=5, error_comps=5, seed = seed_no)\n",
    "\n",
    "\n",
    "X_t,Y_t,M_t,V_alpha_t,covarage,bandwidth = UTOPIA_FRED_MD_MULTIVARIATE(Data, shrink = True)\n",
    "X_test,Y_test,M_test,V_test,covarage,bandwidth = LQR_FRED_MD_MULTIVARIATE(Data)\n",
    "X_test,Y_test,M_test,V_test,coverage,bandwidth = SplitCF_FRED_MD_MULTIVARIATE(Data)\n",
    "\n"
   ]
  },
  {
   "cell_type": "code",
   "execution_count": 8,
   "id": "80bdcb49",
   "metadata": {},
   "outputs": [
    {
     "name": "stderr",
     "output_type": "stream",
     "text": [
      "/Users/jiawei/opt/anaconda3/lib/python3.8/site-packages/cvxpy/problems/problem.py:1278: UserWarning: Solution may be inaccurate. Try another solver, adjusting the solver settings, or solve with verbose=True for more information.\n",
      "  warnings.warn(\n"
     ]
    },
    {
     "name": "stdout",
     "output_type": "stream",
     "text": [
      "The overall coverage for UTOPIA is 0.6373626373626373\n",
      "Mean bandwidth on test data for UTOPIA is 0.051759334026920886\n",
      "The overall coverage for LQR is 0.9010989010989011\n",
      "Mean bandwidth on test data for LQR is 0.01027445608001135\n",
      "The overall coverage for SplitCF is 0.8791208791208791\n",
      "Mean bandwidth on test data for SplitCF is 0.010322918595154853\n"
     ]
    }
   ],
   "source": [
    "seed_no = 1\n",
    "Data, Y_axis = FRED_MD_DATA_PREP(\"TB6SMFFM\", ncomps=5, error_comps=5, seed = seed_no)\n",
    "\n",
    "\n",
    "X_t,Y_t,M_t,V_alpha_t,covarage,bandwidth = UTOPIA_FRED_MD_MULTIVARIATE(Data, shrink = True)\n",
    "X_test,Y_test,M_test,V_test,covarage,bandwidth = LQR_FRED_MD_MULTIVARIATE(Data)\n",
    "X_test,Y_test,M_test,V_test,coverage,bandwidth = SplitCF_FRED_MD_MULTIVARIATE(Data)"
   ]
  },
  {
   "cell_type": "code",
   "execution_count": 9,
   "id": "81764873",
   "metadata": {},
   "outputs": [
    {
     "name": "stdout",
     "output_type": "stream",
     "text": [
      "The overall coverage for UTOPIA is 0.7252747252747253\n",
      "Mean bandwidth on test data for UTOPIA is 0.014899789588795101\n",
      "The overall coverage for LQR is 0.8351648351648352\n",
      "Mean bandwidth on test data for LQR is 0.028954457372552114\n",
      "The overall coverage for SplitCF is 0.8791208791208791\n",
      "Mean bandwidth on test data for SplitCF is 0.0040838258152042966\n"
     ]
    }
   ],
   "source": [
    "seed_no = 100\n",
    "Data, Y_axis = FRED_MD_DATA_PREP('UNRATE', ncomps=5, error_comps=5, seed = seed_no)\n",
    "\n",
    "\n",
    "X_t,Y_t,M_t,V_alpha_t,covarage,bandwidth = UTOPIA_FRED_MD_MULTIVARIATE(Data, shrink = True)\n",
    "X_test,Y_test,M_test,V_test,covarage,bandwidth = LQR_FRED_MD_MULTIVARIATE(Data)\n",
    "X_test,Y_test,M_test,V_test,coverage,bandwidth = SplitCF_FRED_MD_MULTIVARIATE(Data)\n"
   ]
  },
  {
   "cell_type": "code",
   "execution_count": 10,
   "id": "ed7ed7b0",
   "metadata": {},
   "outputs": [
    {
     "name": "stdout",
     "output_type": "stream",
     "text": [
      "The overall coverage for UTOPIA is 0.7252747252747253\n",
      "Mean bandwidth on test data for UTOPIA is 0.31067842451357064\n",
      "The overall coverage for LQR is 0.7912087912087912\n",
      "Mean bandwidth on test data for LQR is 0.3941844839002165\n",
      "The overall coverage for SplitCF is 0.9340659340659341\n",
      "Mean bandwidth on test data for SplitCF is 0.008919984229676162\n"
     ]
    }
   ],
   "source": [
    "seed_no = 100\n",
    "Data, Y_axis = FRED_MD_DATA_PREP('HOUST', ncomps=5, error_comps=5, seed = seed_no)\n",
    "\n",
    "\n",
    "X_t,Y_t,M_t,V_alpha_t,covarage,bandwidth = UTOPIA_FRED_MD_MULTIVARIATE(Data, shrink = True)\n",
    "X_test,Y_test,M_test,V_test,covarage,bandwidth = LQR_FRED_MD_MULTIVARIATE(Data)\n",
    "X_test,Y_test,M_test,V_test,coverage,bandwidth = SplitCF_FRED_MD_MULTIVARIATE(Data)"
   ]
  },
  {
   "cell_type": "code",
   "execution_count": 11,
   "id": "c9d41827",
   "metadata": {},
   "outputs": [
    {
     "name": "stdout",
     "output_type": "stream",
     "text": [
      "The overall coverage for UTOPIA is 0.7692307692307693\n",
      "Mean bandwidth on test data for UTOPIA is 0.02997390589867527\n",
      "The overall coverage for LQR is 0.9230769230769231\n",
      "Mean bandwidth on test data for LQR is 0.06019775678575308\n",
      "The overall coverage for SplitCF is 0.9340659340659341\n",
      "Mean bandwidth on test data for SplitCF is 0.011744367301537106\n"
     ]
    }
   ],
   "source": [
    "seed_no = 100\n",
    "Data, Y_axis = FRED_MD_DATA_PREP('FEDFUNDS', ncomps=5, error_comps=5, seed = seed_no)\n",
    "\n",
    "\n",
    "X_t,Y_t,M_t,V_alpha_t,covarage,bandwidth = UTOPIA_FRED_MD_MULTIVARIATE(Data, shrink = True)\n",
    "X_test,Y_test,M_test,V_test,covarage,bandwidth = LQR_FRED_MD_MULTIVARIATE(Data)\n",
    "X_test,Y_test,M_test,V_test,coverage,bandwidth = SplitCF_FRED_MD_MULTIVARIATE(Data)"
   ]
  }
 ],
 "metadata": {
  "kernelspec": {
   "display_name": "Python 3",
   "language": "python",
   "name": "python3"
  },
  "language_info": {
   "codemirror_mode": {
    "name": "ipython",
    "version": 3
   },
   "file_extension": ".py",
   "mimetype": "text/x-python",
   "name": "python",
   "nbconvert_exporter": "python",
   "pygments_lexer": "ipython3",
   "version": "3.8.8"
  }
 },
 "nbformat": 4,
 "nbformat_minor": 5
}
