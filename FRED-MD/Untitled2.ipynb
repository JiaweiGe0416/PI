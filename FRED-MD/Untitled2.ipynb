{
 "cells": [
  {
   "cell_type": "code",
   "execution_count": 3,
   "id": "97731b38",
   "metadata": {},
   "outputs": [],
   "source": [
    "import numpy as np\n",
    "from scipy.linalg import eigh"
   ]
  },
  {
   "cell_type": "code",
   "execution_count": 4,
   "id": "31e23187",
   "metadata": {},
   "outputs": [],
   "source": [
    "X = np.random.normal(size = (100, 5))\n",
    "W, V = eigh(X.T @ X)"
   ]
  },
  {
   "cell_type": "code",
   "execution_count": 6,
   "id": "744f389f",
   "metadata": {},
   "outputs": [
    {
     "data": {
      "text/plain": [
       "array([[-0.12431751,  0.53715388, -0.35824176,  0.73210977,  0.17801399],\n",
       "       [ 0.24962892, -0.66501563, -0.65633488,  0.23358908, -0.10050015],\n",
       "       [ 0.6370257 ,  0.50253779, -0.34416076, -0.35245074, -0.31462019],\n",
       "       [-0.69865958,  0.12837806, -0.53222423, -0.44078339, -0.13357105],\n",
       "       [-0.16823674, -0.0139556 ,  0.19793458,  0.30156243, -0.91726967]])"
      ]
     },
     "execution_count": 6,
     "metadata": {},
     "output_type": "execute_result"
    }
   ],
   "source": [
    "V"
   ]
  }
 ],
 "metadata": {
  "kernelspec": {
   "display_name": "Python 3 (ipykernel)",
   "language": "python",
   "name": "python3"
  },
  "language_info": {
   "codemirror_mode": {
    "name": "ipython",
    "version": 3
   },
   "file_extension": ".py",
   "mimetype": "text/x-python",
   "name": "python",
   "nbconvert_exporter": "python",
   "pygments_lexer": "ipython3",
   "version": "3.10.9"
  }
 },
 "nbformat": 4,
 "nbformat_minor": 5
}
